{
 "cells": [
  {
   "cell_type": "code",
   "execution_count": 1,
   "outputs": [],
   "source": [
    "# O\n",
    "import openai\n",
    "import os\n",
    "\n",
    "\n",
    "import numpy as np\n",
    "\n",
    "# R\n",
    "import re\n",
    "\n",
    "# pdfplumber\n",
    "import pdfplumber\n",
    "\n",
    "import json\n",
    "import pandas as pd\n",
    "\n",
    "from transformers import BertTokenizer, BertForQuestionAnswering\n",
    "from elasticsearch import Elasticsearch, helpers\n",
    "\n",
    "import pickle\n"
   ],
   "metadata": {
    "collapsed": false
   }
  },
  {
   "cell_type": "code",
   "execution_count": 2,
   "outputs": [
    {
     "name": "stdout",
     "output_type": "stream",
     "text": [
      "1.4.2\n"
     ]
    }
   ],
   "source": [
    "import sklearn\n",
    "print(sklearn.__version__)"
   ],
   "metadata": {
    "collapsed": false
   }
  },
  {
   "cell_type": "code",
   "execution_count": 3,
   "outputs": [],
   "source": [
    "# Load CSV data\n",
    "file_path_advanced = \"data/advanced_team_stats_2024.csv\"\n",
    "file_path_clutch = \"data/clutch_team_stats_2024.csv\"\n",
    "file_path_player = \"data/nba_2024_player_data.csv\"\n",
    "data_advanced = pd.read_csv(file_path_advanced)\n",
    "data_clutch = pd.read_csv(file_path_clutch)\n",
    "data_player = pd.read_csv(file_path_player)\n",
    "# There are cases where players have shot 0 field goals resulting in null values in the data table - fixing this by replacing them with 0\n",
    "data_player = data_player.fillna(0)"
   ],
   "metadata": {
    "collapsed": false
   }
  },
  {
   "cell_type": "markdown",
   "source": [
    "#### Dicts"
   ],
   "metadata": {
    "collapsed": false
   }
  },
  {
   "cell_type": "code",
   "execution_count": 4,
   "outputs": [],
   "source": [
    "advanced_abbreviation_dict = {\n",
    "    \"W\": [\"Wins\", \"Number of games won\"],\n",
    "    \"L\": [\"Losses\", \"Number of games lost\"],\n",
    "    \"PW\": [\"Pythagorean Wins\", \"Expected wins based on points scored and points allowed\"],\n",
    "    \"PL\": [\"Pythagorean Losses\", \"Expected losses based on points scored and points allowed\"],\n",
    "    \"MOV\": [\"Margin of Victory\", \"Average point differential per game\"],\n",
    "    \"SOS\": [\"Strength of Schedule\", \"Measure of the strength of opponents\"],\n",
    "    \"SRS\": [\"Simple Rating System\", \"Combines MOV and SOS\"],\n",
    "    \"ORtg\": [\"Offensive Rating\", \"Points scored per 100 possessions\"],\n",
    "    \"DRtg\": [\"Defensive Rating\", \"Points allowed per 100 possessions\"],\n",
    "    \"NRtg\": [\"Net Rating\", \"Difference between ORtg and DRtg\"],\n",
    "    \"Pace\": [\"Pace\", \"Number of possessions per 48 minutes\"],\n",
    "    \"FTr\": [\"Free Throw Rate\", \"Free throws attempted per field goal attempt\"],\n",
    "    \"3PAr\": [\"Three-Point Attempt Rate\", \"Percentage of field goal attempts from three-point range\"],\n",
    "    \"TSpct\": [\"True Shooting Percentage\", \"Efficiency of all shooting attempts\"],\n",
    "    \"Off_eFGpct\": [\"Effective Field Goal Percentage for Offense\", \"Adjusted field goal percentage accounting for three-pointers\"],\n",
    "    \"Off_TOVpct\": [\"Turnover Percentage for Offense\", \"Turnovers per 100 possessions\"],\n",
    "    \"Off_ORBpct\": [\"Offensive Rebound Percentage\", \"Percentage of available offensive rebounds grabbed\"],\n",
    "    \"Off_FT/FGA\": [\"Free Throws Made per Field Goal Attempt\", \"Ratio of free throws made to field goal attempts\"],\n",
    "    \"Def_eFGpct\": [\"Effective Field Goal Percentage for Defense\", \"Opponent's adjusted field goal percentage\"],\n",
    "    \"Def_TOVpct\": [\"Turnover Percentage for Defense\", \"Opponent's turnovers per 100 possessions\"],\n",
    "    \"Def_DRBpct\": [\"Defensive Rebound Percentage\", \"Percentage of available defensive rebounds grabbed\"],\n",
    "    \"Def_FT/FGA\": [\"Free Throws Made per Field Goal Attempt for Defense\", \"Opponent's ratio of free throws made to field goal attempts\"],\n",
    "    \"Arena\": [\"Home of the\", \"Home\"],\n",
    "    \"Attend\": [\"Attendance, Overall Attendance\"],\n",
    "    \"Attend/G\": [\"Attendance per Game, Average Attendance\"],\n",
    "}"
   ],
   "metadata": {
    "collapsed": false
   }
  },
  {
   "cell_type": "code",
   "execution_count": 5,
   "outputs": [],
   "source": [
    "clutch_abbreviation_dict = {\n",
    "    \"TEAM\": [\"Team\", \"Name of the team\"],\n",
    "    \"GP\": [\"Games Played\", \"Number of games played\"],\n",
    "    \"W\": [\"Wins\", \"Number of games won\"],\n",
    "    \"L\": [\"Losses\", \"Number of games lost\"],\n",
    "    \"WINpct\": [\"Win Percentage\", \"Winning percentage\"],\n",
    "    \"MIN\": [\"Minutes\", \"Average minutes played\"],\n",
    "    \"PTS\": [\"Points\", \"Average points scored\"],\n",
    "    \"FGM\": [\"Field Goals Made\", \"Average field goals made\"],\n",
    "    \"FGA\": [\"Field Goals Attempted\", \"Average field goals attempted\"],\n",
    "    \"FGpct\": [\"Field Goal Percentage\", \"Field goal percentage\"],\n",
    "    \"3PM\": [\"Three-Point Field Goals Made\", \"Average three-point field goals made\"],\n",
    "    \"3PA\": [\"Three-Point Field Goals Attempted\", \"Average three-point field goals attempted\"],\n",
    "    \"3Ppct\": [\"Three-Point Field Goal Percentage\", \"Three-point field goal percentage\"],\n",
    "    \"FTM\": [\"Free Throws Made\", \"Average free throws made\"],\n",
    "    \"FTA\": [\"Free Throws Attempted\", \"Average free throws attempted\"],\n",
    "    \"FTpct\": [\"Free Throw Percentage\", \"Free throw percentage\"],\n",
    "    \"OREB\": [\"Offensive Rebounds\", \"Average offensive rebounds\"],\n",
    "    \"DREB\": [\"Defensive Rebounds\", \"Average defensive rebounds\"],\n",
    "    \"REB\": [\"Rebounds\", \"Average total rebounds\"],\n",
    "    \"AST\": [\"Assists\", \"Average assists\"],\n",
    "    \"TOV\": [\"Turnovers\", \"Average turnovers\"],\n",
    "    \"STL\": [\"Steals\", \"Average steals\"],\n",
    "    \"BLK\": [\"Blocks\", \"Average blocks\"],\n",
    "    \"BLKA\": [\"Blocks Against\", \"Average blocks against\"],\n",
    "    \"PF\": [\"Personal Fouls\", \"Average personal fouls\"],\n",
    "    \"PFD\": [\"Personal Fouls Drawn\", \"Average personal fouls drawn\"],\n",
    "    \"+/-\": [\"Plus/Minus\", \"Plus/minus rating\"]\n",
    "}"
   ],
   "metadata": {
    "collapsed": false
   }
  },
  {
   "cell_type": "code",
   "execution_count": 6,
   "outputs": [],
   "source": [
    "playoff_player_abbreviation_dict = {\n",
    "    \"Rk\": [\"Rank\", \"Player rank\"],\n",
    "    \"Player\": [\"Player\", \"Name of the player\"],\n",
    "    \"Age\": [\"Age\", \"Player's age\"],\n",
    "    \"G\": [\"Games Played\", \"Number of games played\"],\n",
    "    \"MP\": [\"Minutes Played\", \"Total minutes played\"],\n",
    "    \"PER\": [\"Player Efficiency Rating\", \"Player efficiency rating\"],\n",
    "    \"TSpct\": [\"True Shooting Percentage\", \"True shooting percentage\"],\n",
    "    \"3PAr\": [\"Three-Point Attempt Rate\", \"Three-point attempt rate\"],\n",
    "    \"FTr\": [\"Free Throw Rate\", \"Free throw rate\"],\n",
    "    \"ORBpct\": [\"Offensive Rebound Percentage\", \"Offensive rebound percentage\"],\n",
    "    \"DRBpct\": [\"Defensive Rebound Percentage\", \"Defensive rebound percentage\"],\n",
    "    \"TRBpct\": [\"Total Rebound Percentage\", \"Total rebound percentage\"],\n",
    "    \"ASTpct\": [\"Assist Percentage\", \"Assist percentage\"],\n",
    "    \"STLpct\": [\"Steal Percentage\", \"Steal percentage\"],\n",
    "    \"BLKpct\": [\"Block Percentage\", \"Block percentage\"],\n",
    "    \"TOVpct\": [\"Turnover Percentage\", \"Turnover percentage\"],\n",
    "    \"USGpct\": [\"Usage Percentage\", \"Usage percentage\"],\n",
    "    \"OWS\": [\"Offensive Win Shares\", \"Offensive win shares\"],\n",
    "    \"DWS\": [\"Defensive Win Shares\", \"Defensive win shares\"],\n",
    "    \"WS\": [\"Win Shares\", \"Total win shares\"],\n",
    "    \"WS/48\": [\"Win Shares per 48 Minutes\", \"Win shares per 48 minutes\"],\n",
    "    \"OBPM\": [\"Offensive Box Plus/Minus\", \"Offensive box plus/minus\", \"Offensive Box Plus-Minus\"],\n",
    "    \"DBPM\": [\"Defensive Box Plus/Minus\", \"Defensive box plus/minus\", \"Defensive Box Plus-Minus\"],\n",
    "    \"BPM\": [\"Box Plus/Minus\", \"Box plus/minus\", \"Box Plus-Minus\"],\n",
    "    \"VORP\": [\"Value Over Replacement Player\", \"Value over replacement player\"],\n",
    "    \"Team\": [\"Team\", \"Name of the team\"]\n",
    "}"
   ],
   "metadata": {
    "collapsed": false
   }
  },
  {
   "cell_type": "markdown",
   "source": [
    "#### Conference Data for possible data Training"
   ],
   "metadata": {
    "collapsed": false
   }
  },
  {
   "cell_type": "code",
   "execution_count": 7,
   "outputs": [
    {
     "name": "stdout",
     "output_type": "stream",
     "text": [
      "{'Eastern Conference': {'Atlantic Division': ['Boston Celtics', 'Brooklyn Nets', 'New York Knicks', 'Philadelphia 76ers', 'Toronto Raptors'], 'Central Division': ['Chicago Bulls', 'Cleveland Cavaliers', 'Detroit Pistons', 'Indiana Pacers', 'Milwaukee Bucks'], 'Southeast Division': ['Atlanta Hawks', 'Charlotte Hornets', 'Miami Heat', 'Orlando Magic', 'Washington Wizards']}, 'Western Conference': {'Northwest Division': ['Denver Nuggets', 'Minnesota Timberwolves', 'Oklahoma City Thunder', 'Portland Trail Blazers', 'Utah Jazz'], 'Pacific Division': ['Golden State Warriors', 'Los Angeles Clippers', 'Los Angeles Lakers', 'Phoenix Suns', 'Sacramento Kings'], 'Southwest Division': ['Dallas Mavericks', 'Houston Rockets', 'Memphis Grizzlies', 'New Orleans Pelicans', 'San Antonio Spurs']}}\n"
     ]
    }
   ],
   "source": [
    "def extract_teams_from_pdf(pdf_path):\n",
    "    teams_data = {\n",
    "        \"Eastern Conference\": {\n",
    "            \"Atlantic Division\": [],\n",
    "            \"Central Division\": [],\n",
    "            \"Southeast Division\": []\n",
    "        },\n",
    "        \"Western Conference\": {\n",
    "            \"Northwest Division\": [],\n",
    "            \"Pacific Division\": [],\n",
    "            \"Southwest Division\": []\n",
    "        }\n",
    "    }\n",
    "\n",
    "    with pdfplumber.open(pdf_path) as pdf:\n",
    "        first_page = pdf.pages[0]\n",
    "        text = first_page.extract_text()\n",
    "\n",
    "        current_conference = None\n",
    "        current_division = None\n",
    "\n",
    "        for line in text.split('\\n'):\n",
    "            line = line.strip()\n",
    "            if \"Conference\" in line:\n",
    "                current_conference = line\n",
    "            elif \"Division\" in line:\n",
    "                current_division = line.replace(\":\", \"\")  # remove the colon\n",
    "            elif line.startswith('o'):\n",
    "                team_name = line[2:]\n",
    "                if current_conference and current_division:\n",
    "                    teams_data[current_conference.replace(\":\", \"\")][current_division].append(team_name)\n",
    "\n",
    "    return teams_data\n",
    "\n",
    "pdf_path = 'data/Conference_Teams.pdf'\n",
    "teams_data = extract_teams_from_pdf(pdf_path)\n",
    "print(teams_data)"
   ],
   "metadata": {
    "collapsed": false
   }
  },
  {
   "cell_type": "code",
   "execution_count": 8,
   "outputs": [],
   "source": [
    "def extract_conference_data(pdf_path):\n",
    "    with pdfplumber.open(pdf_path) as pdf:\n",
    "        page = pdf.pages[0]\n",
    "        text = page.extract_text()\n",
    "\n",
    "    return text\n",
    "\n",
    "pdf_path = 'data/Conference_Teams.pdf'\n",
    "conference_text = extract_conference_data(pdf_path)"
   ],
   "metadata": {
    "collapsed": false
   }
  },
  {
   "cell_type": "code",
   "execution_count": 9,
   "outputs": [],
   "source": [
    "def parse_conference_data(text):\n",
    "    conference_data = {}\n",
    "    current_conference = \"\"\n",
    "    current_division = \"\"\n",
    "\n",
    "    for line in text.split('\\n'):\n",
    "        line = line.strip()\n",
    "        if \"Conference\" in line:\n",
    "            current_conference = line\n",
    "            conference_data[current_conference] = {}\n",
    "        elif \"Division\" in line:\n",
    "            current_division = line.split(':')[0]\n",
    "            conference_data[current_conference][current_division] = []\n",
    "        elif line.startswith('o'):\n",
    "            team = line[2:].strip()\n",
    "            conference_data[current_conference][current_division].append(team)\n",
    "\n",
    "    return conference_data\n",
    "\n",
    "conference_data = parse_conference_data(conference_text)"
   ],
   "metadata": {
    "collapsed": false
   }
  },
  {
   "cell_type": "markdown",
   "source": [
    "#### Elasticsearch"
   ],
   "metadata": {
    "collapsed": false
   }
  },
  {
   "cell_type": "code",
   "execution_count": 10,
   "outputs": [
    {
     "name": "stdout",
     "output_type": "stream",
     "text": [
      "Connected to Elasticsearch\n"
     ]
    },
    {
     "name": "stderr",
     "output_type": "stream",
     "text": [
      "C:\\Users\\Ray\\AppData\\Local\\Temp\\ipykernel_21960\\2701087776.py:3: DeprecationWarning: The 'http_auth' parameter is deprecated. Use 'basic_auth' or 'bearer_auth' parameters instead\n",
      "  es = Elasticsearch(\n",
      "C:\\Users\\Ray\\AppData\\Local\\Temp\\ipykernel_21960\\2701087776.py:8: ElasticsearchWarning: Elasticsearch built-in security features are not enabled. Without authentication, your cluster could be accessible to anyone. See https://www.elastic.co/guide/en/elasticsearch/reference/7.17/security-minimal-setup.html to enable security.\n",
      "  if es.ping():\n"
     ]
    }
   ],
   "source": [
    "# Initialize Elasticsearch client\n",
    "try:\n",
    "    es = Elasticsearch(\n",
    "        hosts=[{'host': 'localhost', 'port': 9200, 'scheme': 'http'}],\n",
    "        http_auth=('elastic', 'changeme'),\n",
    "        verify_certs=False\n",
    "    )\n",
    "    if es.ping():\n",
    "        print(\"Connected to Elasticsearch\")\n",
    "    else:\n",
    "        print(\"Could not connect to Elasticsearch\")\n",
    "except Exception as e:\n",
    "    print(f\"Error connecting to Elasticsearch: {e}\")"
   ],
   "metadata": {
    "collapsed": false
   }
  },
  {
   "cell_type": "code",
   "execution_count": 11,
   "outputs": [],
   "source": [
    "import warnings\n",
    "warnings.filterwarnings('ignore')"
   ],
   "metadata": {
    "collapsed": false
   }
  },
  {
   "cell_type": "markdown",
   "source": [
    "#### Mapping"
   ],
   "metadata": {
    "collapsed": false
   }
  },
  {
   "cell_type": "code",
   "execution_count": 12,
   "outputs": [],
   "source": [
    "advanced_mappings = {\n",
    "    \"mappings\": {\n",
    "        \"properties\": {\n",
    "            \"Team\": {\"type\": \"text\"},\n",
    "            \"W\": {\"type\": \"integer\"},\n",
    "            \"L\": {\"type\": \"integer\"},\n",
    "            \"PW\": {\"type\": \"integer\"},\n",
    "            \"PL\": {\"type\": \"integer\"},\n",
    "            \"MOV\": {\"type\": \"float\"},\n",
    "            \"SOS\": {\"type\": \"float\"},\n",
    "            \"SRS\": {\"type\": \"float\"},\n",
    "            \"ORtg\": {\"type\": \"float\"},\n",
    "            \"DRtg\": {\"type\": \"float\"},\n",
    "            \"NRtg\": {\"type\": \"float\"},\n",
    "            \"Pace\": {\"type\": \"float\"},\n",
    "            \"FTr\": {\"type\": \"float\"},\n",
    "            \"3PAr\": {\"type\": \"float\"},\n",
    "            \"TSpct\": {\"type\": \"float\"},\n",
    "            \"Off_eFGpct\": {\"type\": \"float\"},\n",
    "            \"Off_TOVpct\": {\"type\": \"float\"},\n",
    "            \"Off_ORBpct\": {\"type\": \"float\"},\n",
    "            \"Off_FT/FGA\": {\"type\": \"float\"},\n",
    "            \"Def_eFGpct\": {\"type\": \"float\"},\n",
    "            \"Def_TOVpct\": {\"type\": \"float\"},\n",
    "            \"Def_DRBpct\": {\"type\": \"float\"},\n",
    "            \"Def_FT/FGA\": {\"type\": \"float\"},\n",
    "            \"Arena\": {\"type\": \"text\"},\n",
    "            \"Attend\": {\"type\": \"integer\"},\n",
    "            \"Attend/G\": {\"type\": \"integer\"},\n",
    "        }\n",
    "    }\n",
    "}"
   ],
   "metadata": {
    "collapsed": false
   }
  },
  {
   "cell_type": "code",
   "execution_count": 13,
   "outputs": [],
   "source": [
    "clutch_mappings = {\n",
    "    \"mappings\": {\n",
    "        \"properties\": {\n",
    "            \"TEAM\": {\"type\": \"text\"},\n",
    "            \"GP\": {\"type\": \"integer\"},\n",
    "            \"W\": {\"type\": \"integer\"},\n",
    "            \"L\": {\"type\": \"integer\"},\n",
    "            \"WINpct\": {\"type\": \"float\"},\n",
    "            \"MIN\": {\"type\": \"float\"},\n",
    "            \"PTS\": {\"type\": \"float\"},\n",
    "            \"FGM\": {\"type\": \"float\"},\n",
    "            \"FGA\": {\"type\": \"float\"},\n",
    "            \"FGpct\": {\"type\": \"float\"},\n",
    "            \"3PM\": {\"type\": \"float\"},\n",
    "            \"3PA\": {\"type\": \"float\"},\n",
    "            \"3Ppct\": {\"type\": \"float\"},\n",
    "            \"FTM\": {\"type\": \"float\"},\n",
    "            \"FTA\": {\"type\": \"float\"},\n",
    "            \"FTpct\": {\"type\": \"float\"},\n",
    "            \"OREB\": {\"type\": \"float\"},\n",
    "            \"DREB\": {\"type\": \"float\"},\n",
    "            \"REB\": {\"type\": \"float\"},\n",
    "            \"AST\": {\"type\": \"float\"},\n",
    "            \"TOV\": {\"type\": \"float\"},\n",
    "            \"STL\": {\"type\": \"float\"},\n",
    "            \"BLK\": {\"type\": \"float\"},\n",
    "            \"BLKA\": {\"type\": \"float\"},\n",
    "            \"PF\": {\"type\": \"float\"},\n",
    "            \"PFD\": {\"type\": \"float\"},\n",
    "            \"+/-\": {\"type\": \"float\"},\n",
    "        }\n",
    "    }\n",
    "}\n"
   ],
   "metadata": {
    "collapsed": false
   }
  },
  {
   "cell_type": "code",
   "execution_count": 14,
   "outputs": [],
   "source": [
    "playoff_player_mappings = {\n",
    "    \"mappings\": {\n",
    "        \"properties\": {\n",
    "            \"Rk\": {\"type\": \"integer\"},\n",
    "            \"Player\": {\"type\": \"text\"},\n",
    "            \"Age\": {\"type\": \"integer\"},\n",
    "            \"G\": {\"type\": \"integer\"},\n",
    "            \"MP\": {\"type\": \"integer\"},\n",
    "            \"PER\": {\"type\": \"float\"},\n",
    "            \"TSpct\": {\"type\": \"float\"},\n",
    "            \"3PAr\": {\"type\": \"float\"},\n",
    "            \"FTr\": {\"type\": \"float\"},\n",
    "            \"ORBpct\": {\"type\": \"float\"},\n",
    "            \"DRBpct\": {\"type\": \"float\"},\n",
    "            \"TRBpct\": {\"type\": \"float\"},\n",
    "            \"ASTpct\": {\"type\": \"float\"},\n",
    "            \"STLpct\": {\"type\": \"float\"},\n",
    "            \"BLKpct\": {\"type\": \"float\"},\n",
    "            \"TOVpct\": {\"type\": \"float\"},\n",
    "            \"USGpct\": {\"type\": \"float\"},\n",
    "            \"OWS\": {\"type\": \"float\"},\n",
    "            \"DWS\": {\"type\": \"float\"},\n",
    "            \"WS\": {\"type\": \"float\"},\n",
    "            \"WS/48\": {\"type\": \"float\"},\n",
    "            \"OBPM\": {\"type\": \"float\"},\n",
    "            \"DBPM\": {\"type\": \"float\"},\n",
    "            \"BPM\": {\"type\": \"float\"},\n",
    "            \"VORP\": {\"type\": \"float\"},\n",
    "            \"Team\": {\"type\": \"text\"},\n",
    "        }\n",
    "    }\n",
    "}"
   ],
   "metadata": {
    "collapsed": false
   }
  },
  {
   "cell_type": "markdown",
   "source": [
    "#### Indexing"
   ],
   "metadata": {
    "collapsed": false
   }
  },
  {
   "cell_type": "code",
   "execution_count": 15,
   "outputs": [],
   "source": [
    "def index_data(data, index_name, mappings):\n",
    "    es.indices.create(index=index_name, ignore=400)\n",
    "    actions = [\n",
    "        {\n",
    "            \"_index\": index_name,\n",
    "            \"_id\": i,\n",
    "            \"_source\": data.iloc[i].to_dict(),\n",
    "        }\n",
    "        for i in range(len(data))\n",
    "    ]\n",
    "    helpers.bulk(es, actions)\n",
    "\n",
    "index_data(data_advanced, \"advanced_stats\", advanced_mappings)\n",
    "index_data(data_clutch, \"clutch_stats\", clutch_mappings)\n",
    "index_data(data_player, \"player_stats\", playoff_player_mappings)"
   ],
   "metadata": {
    "collapsed": false
   }
  },
  {
   "cell_type": "code",
   "execution_count": 16,
   "outputs": [
    {
     "name": "stdout",
     "output_type": "stream",
     "text": [
      "Advanced Stats count after reindexing advanced_stats: 30\n",
      "Clutch Stats count after reindexing clutch_stats: 30\n",
      "Playoff Team Roster count after reindexing player_stats: 337\n"
     ]
    }
   ],
   "source": [
    "# Verifying document count for each index\n",
    "index_stats_advanced = es.indices.stats(index=\"advanced_stats\")\n",
    "print(\"Advanced Stats count after reindexing advanced_stats:\", index_stats_advanced['_all']['primaries']['docs']['count'])\n",
    "\n",
    "index_stats_clutch = es.indices.stats(index=\"clutch_stats\")\n",
    "print(\"Clutch Stats count after reindexing clutch_stats:\", index_stats_clutch['_all']['primaries']['docs']['count'])\n",
    "\n",
    "index_stats_player = es.indices.stats(index=\"player_stats\")\n",
    "print(\"Playoff Team Roster count after reindexing player_stats:\", index_stats_player['_all']['primaries']['docs']['count'])\n"
   ],
   "metadata": {
    "collapsed": false
   }
  },
  {
   "cell_type": "code",
   "execution_count": 17,
   "outputs": [],
   "source": [
    "index_name_team = \"advanced_stats\"\n",
    "index_name_clutch = \"clutch_stats\"\n",
    "index_name_player = \"player_stats\""
   ],
   "metadata": {
    "collapsed": false
   }
  },
  {
   "cell_type": "markdown",
   "source": [
    "#### Search ES Method"
   ],
   "metadata": {
    "collapsed": false
   }
  },
  {
   "cell_type": "code",
   "execution_count": 18,
   "outputs": [],
   "source": [
    "# Function to search Elasticsearch\n",
    "def search_es(query, index_name, field_name):\n",
    "    body = {\n",
    "        \"query\": {\n",
    "            \"bool\": {\n",
    "                \"must\": [\n",
    "                    {\"match\": {field_name: query[\"team\"]}} if \"team\" in query else {\"match\": {\"Player\": query[\"player\"]}}\n",
    "                ]\n",
    "            }\n",
    "        },\n",
    "        \"_source\": query[\"stats\"]\n",
    "    }\n",
    "    res = es.search(index=index_name, query=body['query'], _source=body['_source'])\n",
    "    return res['hits']['hits']"
   ],
   "metadata": {
    "collapsed": false
   }
  },
  {
   "cell_type": "markdown",
   "source": [
    "#### Retrieval of statistical Data"
   ],
   "metadata": {
    "collapsed": false
   }
  },
  {
   "cell_type": "code",
   "execution_count": 19,
   "outputs": [],
   "source": [
    "# Function to process queries\n",
    "def process_query(query):\n",
    "    query = query.lower()\n",
    "\n",
    "    # Extract team or player names\n",
    "    team_names = []\n",
    "    player_names = []\n",
    "\n",
    "    for team in data_advanced['Team']:\n",
    "        if team.lower() in query:\n",
    "            team_names.append(team)\n",
    "\n",
    "    for player in data_player['Player']:\n",
    "        if player.lower() in query:\n",
    "            player_names.append(player)\n",
    "\n",
    "    if not team_names and not player_names:\n",
    "        return \"Teams or players not found in the dataset.\"\n",
    "\n",
    "    # Determine if clutch stats are requested\n",
    "    is_clutch = \"clutch\" in query\n",
    "\n",
    "    # Use pattern matching to extract statistics\n",
    "    stats = extract_statistics_with_pattern_matching(query)\n",
    "\n",
    "    if \"won and lost\" in query:\n",
    "        if \"W\" not in stats:\n",
    "            stats.append(\"W\")\n",
    "        if \"L\" not in stats:\n",
    "            stats.append(\"L\")\n",
    "\n",
    "    if not stats:\n",
    "        return \"No statistics found in the query.\"\n",
    "\n",
    "    results = []\n",
    "    if team_names:\n",
    "        for team in team_names:\n",
    "            es_query = {\"team\": team, \"stats\": stats}\n",
    "\n",
    "            # Search in appropriate indices based on whether clutch stats are requested\n",
    "            if is_clutch:\n",
    "                search_results_clutch = search_es(es_query, index_name_clutch, \"TEAM\")\n",
    "                combined_results = search_results_clutch\n",
    "            else:\n",
    "                search_results_advanced = search_es(es_query, index_name_team, \"Team\")\n",
    "                search_results_clutch = search_es(es_query, index_name_clutch, \"TEAM\")\n",
    "                combined_results = search_results_advanced + search_results_clutch\n",
    "\n",
    "            if combined_results:\n",
    "                result = pd.DataFrame([hit[\"_source\"] for hit in combined_results])\n",
    "                # Filter the DataFrame to only include the requested statistics\n",
    "                result = result[[col for col in stats if col in result.columns]]\n",
    "                results.append((team, result))\n",
    "\n",
    "    if player_names:\n",
    "        for player in player_names:\n",
    "            es_query = {\"player\": player, \"stats\": stats}\n",
    "\n",
    "            # Search in player index\n",
    "            search_results_player = search_es(es_query, index_name_player, \"Player\")\n",
    "\n",
    "            if search_results_player:\n",
    "                result = pd.DataFrame([hit[\"_source\"] for hit in search_results_player])\n",
    "                # Filter the DataFrame to only include the requested statistics\n",
    "                result = result[[col for col in stats if col in result.columns]]\n",
    "                results.append((player, result))\n",
    "\n",
    "    if not results:\n",
    "        return \"No matching data found in Elasticsearch.\"\n",
    "\n",
    "    # Format the results as a sentence\n",
    "    sentences = []\n",
    "    for name, result in results:\n",
    "        stats_str = ', '.join([f\"{col}: {result[col].values[0]}\" for col in result.columns if not pd.isna(result[col].values[0])])\n",
    "        sentences.append(f\"{name}: {stats_str}\")\n",
    "\n",
    "    return ' '.join(sentences)"
   ],
   "metadata": {
    "collapsed": false
   }
  },
  {
   "cell_type": "code",
   "execution_count": 20,
   "outputs": [],
   "source": [
    "def extract_statistics_with_pattern_matching(query):\n",
    "    combined_abbreviation_dict = {**advanced_abbreviation_dict, **clutch_abbreviation_dict, **playoff_player_abbreviation_dict}\n",
    "    extracted_stats = set()\n",
    "\n",
    "    for key, values in combined_abbreviation_dict.items():\n",
    "        for value in values + [key]:\n",
    "            if re.search(rf'\\b{re.escape(value.lower())}\\b', query):\n",
    "                extracted_stats.add(key)\n",
    "                break\n",
    "\n",
    "    return list(extracted_stats)"
   ],
   "metadata": {
    "collapsed": false
   }
  },
  {
   "cell_type": "code",
   "execution_count": 21,
   "outputs": [
    {
     "name": "stdout",
     "output_type": "stream",
     "text": [
      "Query: Give me the Wins and ORtg for Boston Celtics\n",
      "Boston Celtics: W: 64, ORtg: 123.2 \n",
      "\n",
      "Query: What are the MOV and Defensive Rating of the Denver Nuggets?\n",
      "Denver Nuggets: MOV: 5.26, DRtg: 113.0 \n",
      "\n",
      "Query: Show me the Pythagorean Wins and True Shooting Percentage for Oklahoma City Thunder\n",
      "Oklahoma City Thunder: W: 57, PW: 58.0, TSpct: 0.608 \n",
      "\n",
      "Query: How many games have the New York Knicks won and lost?\n",
      "New York Knicks: W: 50, L: 32 \n",
      "\n",
      "Query: Give me the Home and Offensive Rating for Boston Celtics and Denver Nuggets\n",
      "Boston Celtics: ORtg: 123.2, Arena: TD Garden Denver Nuggets: ORtg: 118.5, Arena: Ball Arena \n",
      "\n",
      "Query: Give me the Clutch Win Percentage for Boston Celtics and Denver Nuggets\n",
      "Boston Celtics: WINpct: 63.6 Denver Nuggets: WINpct: 65.0 \n",
      "\n",
      "Query: Give me the Age of Jimmy Butler\n",
      "Jimmy Butler: Age: 34 \n",
      "\n"
     ]
    }
   ],
   "source": [
    "# Example queries\n",
    "queries = [\n",
    "    \"Give me the Wins and ORtg for Boston Celtics\",\n",
    "    \"What are the MOV and Defensive Rating of the Denver Nuggets?\",\n",
    "    \"Show me the Pythagorean Wins and True Shooting Percentage for Oklahoma City Thunder\",\n",
    "    \"How many games have the New York Knicks won and lost?\",\n",
    "    \"Give me the Home and Offensive Rating for Boston Celtics and Denver Nuggets\",\n",
    "    \"Give me the Clutch Win Percentage for Boston Celtics and Denver Nuggets\",\n",
    "    \"Give me the Age of Jimmy Butler\"\n",
    "]\n",
    "\n",
    "# Process each query and print the result\n",
    "for query in queries:\n",
    "    result = process_query(query)\n",
    "    print(f\"Query: {query}\")\n",
    "    print(result, \"\\n\")"
   ],
   "metadata": {
    "collapsed": false
   }
  },
  {
   "cell_type": "markdown",
   "source": [
    "#### Testing complex queries\n",
    "Complex queries contain a multitude of stats where the whole database has to be searched. There might also lie a focus of intent on one particular stat, which can be difficult to understand for many language models, in the following we will check the complex queries on our base model of hRAG."
   ],
   "metadata": {
    "collapsed": false
   }
  },
  {
   "cell_type": "code",
   "execution_count": 22,
   "outputs": [
    {
     "name": "stdout",
     "output_type": "stream",
     "text": [
      "Query: Give me the Offensive Win Shares and Defensive Win Shares for the player with the most minutes played.\n",
      "Teams or players not found in the dataset. \n",
      "\n",
      "Query: Which player has the highest PER and what are their Win Shares?\n",
      "Teams or players not found in the dataset. \n",
      "\n",
      "Query: Show me the player with the best True Shooting Percentage and their total minutes played.\n",
      "Teams or players not found in the dataset. \n",
      "\n",
      "Query: Find the player with the highest Usage Percentage and list their Points and Assists.\n",
      "Teams or players not found in the dataset. \n",
      "\n",
      "Query: Who has the best Defensive Box Plus-Minus and what is their total Rebounds?\n",
      "Teams or players not found in the dataset. \n",
      "\n",
      "Query: Give me the player with the highest Box Plus-Minus and their VORP.\n",
      "Teams or players not found in the dataset. \n",
      "\n"
     ]
    }
   ],
   "source": [
    "complex_queries = [\n",
    "    \"Give me the Offensive Win Shares and Defensive Win Shares for the player with the most minutes played.\",\n",
    "    \"Which player has the highest PER and what are their Win Shares?\",\n",
    "    \"Show me the player with the best True Shooting Percentage and their total minutes played.\",\n",
    "    \"Find the player with the highest Usage Percentage and list their Points and Assists.\",\n",
    "    \"Who has the best Defensive Box Plus-Minus and what is their total Rebounds?\",\n",
    "    \"Give me the player with the highest Box Plus-Minus and their VORP.\"\n",
    "]\n",
    "\n",
    "# Process each query and print the result\n",
    "for complex_query in complex_queries:\n",
    "    result = process_query(complex_query)\n",
    "    print(f\"Query: {complex_query}\")\n",
    "    print(result, \"\\n\")"
   ],
   "metadata": {
    "collapsed": false
   }
  },
  {
   "cell_type": "markdown",
   "source": [
    "## Adaption to complex queries\n",
    "\n",
    "As seen above, the base version of RAG has Problems looking for a multitude of stats where the questions asked can also have varying meaning and intent. To allow the hRAG to adapt to situations like these, I started using the API of OPENAI to retrieve the needed primary stat, intent and secondary stats for players and teams. I keep Elasticsearch for Data ingestion and retrieval, use GPT to parse the query and understand user intent -> by that extract the relevant entities, this has been tried as a POC with using spacy and bert and has been working partly. But the system got outmatched as soon as I used more complex queries and training (even on hundreds of new questions) has been difficult, since the tabular data has been working mostly on statistics, which was has been increasingly difficult to vectorize and train the model on\n",
    "For that reason Data Retrieval stays with Elasticsearch but use GPT3.5 turbo to get intent of the prompt and response with human-readable information and allow for data retrieval and humanlike answers.\n"
   ],
   "metadata": {
    "collapsed": false
   }
  },
  {
   "cell_type": "markdown",
   "source": [
    "## RAG System\n",
    "Using OPEN AI to dissect sentences and improve the accuracy of the question answering - additionally I decided to combine the abbreviation dictionaries to make it easier to handle for the API"
   ],
   "metadata": {
    "collapsed": false
   }
  },
  {
   "cell_type": "code",
   "execution_count": 23,
   "outputs": [],
   "source": [
    "os.environ[\"OPENAI_API_KEY\"] = '***'\n",
    "\n",
    "client = openai.OpenAI(api_key=os.getenv(\"OPENAI_API_KEY\"))"
   ],
   "metadata": {
    "collapsed": false
   }
  },
  {
   "cell_type": "code",
   "execution_count": 24,
   "outputs": [],
   "source": [
    "combined_abbreviation_dict = {**advanced_abbreviation_dict, **clutch_abbreviation_dict, **playoff_player_abbreviation_dict}"
   ],
   "metadata": {
    "collapsed": false
   }
  },
  {
   "cell_type": "markdown",
   "source": [
    "#### Parsing and Prompthandling"
   ],
   "metadata": {
    "collapsed": false
   }
  },
  {
   "cell_type": "code",
   "execution_count": 25,
   "outputs": [],
   "source": [
    "def parse_query_with_gpt(query):\n",
    "    response = client.completions.create(\n",
    "        model=\"gpt-3.5-turbo-instruct\",\n",
    "        prompt=f\"\"\"\n",
    "        Parse the following query and extract the following information in JSON format:\n",
    "        - intent: The main action or comparison being requested (e.g., highest, lowest, compare, most, least, predict, matchup).\n",
    "        - entities: List all the teams or players mentioned in the query, specifying if they are teams or players.\n",
    "        - primary_metric: The primary metric that determines the main comparison or ranking in the query.\n",
    "        - stats: List all the statistical metrics mentioned in the query, with the primary metric listed first.\n",
    "        - clutch: A boolean flag indicating if the query involves clutch stats (true or false).\n",
    "\n",
    "        Example:\n",
    "        Query: \"Which team had the highest Offensive Rating and how many wins did they achieve?\"\n",
    "        Response: {{\n",
    "            \"intent\": \"highest\",\n",
    "            \"entities\": [\"team\"],\n",
    "            \"primary_metric\": \"Offensive Rating\",\n",
    "            \"stats\": [\"Offensive Rating\", \"Wins\"],\n",
    "            \"clutch\": false\n",
    "        }}\n",
    "\n",
    "        Query: \"Show me the team which had the lowest Margin of Victory and its True Shooting Percentage\"\n",
    "        Response: {{\n",
    "            \"intent\": \"lowest\",\n",
    "            \"entities\": [\"team\"],\n",
    "            \"primary_metric\": \"Margin of Victory\",\n",
    "            \"stats\": [\"Margin of Victory\", \"True Shooting Percentage\"],\n",
    "            \"clutch\": false\n",
    "        }}\n",
    "\n",
    "        Query: \"Give me the team with the best Win Percentage and Free Throws Made in clutch situations.\"\n",
    "        Response: {{\n",
    "            \"intent\": \"best\",\n",
    "            \"entities\": [\"team\"],\n",
    "            \"primary_metric\": \"Margin of Victory\",\n",
    "            \"stats\": [\"Margin of Victory\", \"Defensive Rebound Percentage\"],\n",
    "            \"clutch\": true\n",
    "        }},\n",
    "\n",
    "        Query: \"Give me the team Win Percentage of the Dallas Mavericks and Boston Celtics\"\n",
    "        Response: {{\n",
    "            \"intent\": \"none\",\n",
    "            \"entities\": [\"Dallas Mavericks\", \"Boston Celtics\"],\n",
    "            \"primary_metric\": \"Win Percentage\",\n",
    "            \"stats\": [\"Win Percentage\"],\n",
    "            \"clutch\": false\n",
    "        }},\n",
    "\n",
    "        Note: If the intent is \"predict\" or \"matchup\", ensure that exactly two teams are specified. If there are not exactly two teams, respond with an error message in the format: {{\n",
    "            \"error\": \"You must specify exactly two teams for a prediction or matchup.\"\n",
    "\n",
    "        Query: \"Predict the matchup between the Los Angeles Lakers and the Boston Celtics\"\n",
    "        Response: {{\n",
    "            \"intent\": \"predict\",\n",
    "            \"entities\": [\"Los Angeles Lakers\", \"Boston Celtics\"],\n",
    "            \"primary_metric\": \"none\",\n",
    "            \"stats\": [],\n",
    "            \"clutch\": false\n",
    "        }}.\n",
    "\n",
    "        Only NBA teams should be considered valid entities. If no stat is specified, respond with an error message in the format: {{\n",
    "            \"error\": \"Please specify at least one statistical metric you want to know more about.\"\n",
    "        }}.\n",
    "\n",
    "        Now, parse the following query: {query}\n",
    "        \"\"\",\n",
    "        max_tokens=150,\n",
    "        temperature=0.5\n",
    "    )\n",
    "\n",
    "    print(response)\n",
    "    return response.choices[0].text.strip()"
   ],
   "metadata": {
    "collapsed": false
   }
  },
  {
   "cell_type": "code",
   "execution_count": 26,
   "outputs": [],
   "source": [
    "def extract_information_from_response(response_text):\n",
    "    try:\n",
    "        match = re.search(r'Response:\\s*(\\{.*\\})', response_text, re.DOTALL)\n",
    "        if match:\n",
    "            json_str = match.group(1)\n",
    "            # print(f\"Extracted JSON String: {json_str}\")  # Debugging: Print extracted JSON string\n",
    "            response_json = json.loads(json_str)\n",
    "        else:\n",
    "            print(\"No JSON found in the response text\")\n",
    "            return '', [], '', [], False\n",
    "    except json.JSONDecodeError as e:\n",
    "        print(f\"JSON decoding failed: {e}\")\n",
    "        return '', [], '', [], False\n",
    "    intent = response_json.get('intent', '')\n",
    "    entities = response_json.get('entities', [])\n",
    "    primary_metric = response_json.get('primary_metric', '')\n",
    "    stats = response_json.get('stats', [])\n",
    "    clutch = response_json.get('clutch', False)\n",
    "    # print(intent, entities, primary_metric, stats, clutch)\n",
    "    return intent, entities, primary_metric, stats, clutch"
   ],
   "metadata": {
    "collapsed": false
   }
  },
  {
   "cell_type": "markdown",
   "source": [
    "#### Abbreviation mapping"
   ],
   "metadata": {
    "collapsed": false
   }
  },
  {
   "cell_type": "code",
   "execution_count": 27,
   "outputs": [],
   "source": [
    "def map_stats_to_abbreviations(stats):\n",
    "    mapped_stats = set()\n",
    "    for stat in stats:\n",
    "        stat_lower = stat.lower()\n",
    "        for key, values in combined_abbreviation_dict.items():\n",
    "            if any(stat_lower == value.lower() for value in values):\n",
    "                mapped_stats.add(key)\n",
    "                break\n",
    "    return mapped_stats"
   ],
   "metadata": {
    "collapsed": false
   }
  },
  {
   "cell_type": "markdown",
   "source": [
    "#### Elasticsearch functions"
   ],
   "metadata": {
    "collapsed": false
   }
  },
  {
   "cell_type": "code",
   "execution_count": 28,
   "outputs": [],
   "source": [
    "def search_player_stats(mapped_stats, entities, primary_metric, intent, clutch=\"False\"):\n",
    "    if 'player' not in entities:\n",
    "        print(\"No player entity found in the query.\")\n",
    "        return\n",
    "\n",
    "    primary_metric_abbr = map_metric_to_abbreviation(primary_metric)\n",
    "    mapped_stats.add(primary_metric_abbr)\n",
    "\n",
    "    #print(f\"Mapped Stats: {mapped_stats}\")  # debug statement\n",
    "\n",
    "    must_clauses = [{\"exists\": {\"field\": stat}} for stat in mapped_stats]\n",
    "    sort_order = \"desc\" if intent in [\"highest\", \"best\", \"top\", \"most\"] else \"asc\"\n",
    "    query_body = {\n",
    "        \"query\": {\n",
    "            \"bool\": {\n",
    "                \"must\": [\n",
    "                    {\"exists\": {\"field\": \"Player\"}},\n",
    "                    {\"exists\": {\"field\": primary_metric_abbr}},  # Ensure the primary metric exists\n",
    "                    {\"bool\": {\"should\": must_clauses, \"minimum_should_match\": 1}}\n",
    "                ]\n",
    "            }\n",
    "        },\n",
    "        \"size\": 337,\n",
    "        \"sort\": [\n",
    "            {primary_metric_abbr: {\"order\": sort_order}}\n",
    "        ]\n",
    "    }\n",
    "\n",
    "\n",
    "    try:\n",
    "        response = es.search(index=index_name_player, body=query_body)\n",
    "    except Exception as e:\n",
    "        print(f\"Search failed: {e}\")\n",
    "        return\n",
    "\n",
    "    hits = response['hits']['hits']\n",
    "    results = [\n",
    "        {\n",
    "            \"Player\": hit['_source']['Player'],\n",
    "            **{stat: hit['_source'][stat] for stat in mapped_stats if stat in hit['_source']}\n",
    "        }\n",
    "        for hit in hits\n",
    "    ]\n",
    "\n",
    "    if primary_metric:\n",
    "        results = sorted(results, key=lambda x: x.get(primary_metric_abbr, 0), reverse=(sort_order == \"desc\"))\n",
    "\n",
    "    return results[0] if results else {}"
   ],
   "metadata": {
    "collapsed": false
   }
  },
  {
   "cell_type": "code",
   "execution_count": 29,
   "outputs": [],
   "source": [
    "def search_clutch_stats(mapped_stats, entities, primary_metric, intent):\n",
    "    if 'team' not in entities:\n",
    "        print(\"No team entity found in the query.\")\n",
    "        return\n",
    "\n",
    "    primary_metric_abbr = map_metric_to_abbreviation(primary_metric)\n",
    "    mapped_stats.add(primary_metric_abbr)\n",
    "\n",
    "    print(f\"Mapped Stats: {mapped_stats}\")  # Debugging: Print mapped stats\n",
    "\n",
    "    must_clauses = [{\"exists\": {\"field\": stat}} for stat in mapped_stats]\n",
    "    sort_order = \"desc\" if intent in [\"highest\", \"best\", \"top\", \"most\"] else \"asc\"\n",
    "    query_body = {\n",
    "        \"query\": {\n",
    "            \"bool\": {\n",
    "                \"must\": [\n",
    "                    {\"exists\": {\"field\": \"TEAM\"}},\n",
    "                    {\"exists\": {\"field\": primary_metric_abbr}},  # Ensure the primary metric exists\n",
    "                    {\"bool\": {\"should\": must_clauses, \"minimum_should_match\": 1}}\n",
    "                ]\n",
    "            }\n",
    "        },\n",
    "        \"size\": 32,\n",
    "        \"sort\": [\n",
    "            {primary_metric_abbr: {\"order\": sort_order}}\n",
    "        ]\n",
    "    }\n",
    "\n",
    "    print(f\"Search Query Body: {query_body}\")  # Debugging: Print search query body\n",
    "\n",
    "    try:\n",
    "        response = es.search(index=index_name_clutch, body=query_body)\n",
    "    except Exception as e:\n",
    "        print(f\"Search failed: {e}\")\n",
    "        return\n",
    "\n",
    "    hits = response['hits']['hits']\n",
    "    results = [\n",
    "        {\n",
    "            \"Team\": hit['_source']['TEAM'],\n",
    "            **{stat: hit['_source'][stat] for stat in mapped_stats if stat in hit['_source']}\n",
    "        }\n",
    "        for hit in hits\n",
    "    ]\n",
    "\n",
    "    print(f\"Elasticsearch Response: {response}\")  # Debugging: Print Elasticsearch response\n",
    "    print(f\"Search Results: {results}\")  # Debugging: Print search results\n",
    "\n",
    "    if primary_metric:\n",
    "        results = sorted(results, key=lambda x: x.get(primary_metric_abbr, 0), reverse=(sort_order == \"desc\"))\n",
    "\n",
    "    return results[0] if results else {}\n"
   ],
   "metadata": {
    "collapsed": false
   }
  },
  {
   "cell_type": "code",
   "execution_count": 30,
   "outputs": [],
   "source": [
    "def search_team_stats(mapped_stats, entities, primary_metric, intent, clutch=False):\n",
    "    primary_metric_abbr = map_metric_to_abbreviation(primary_metric)\n",
    "    mapped_stats.add(primary_metric_abbr)\n",
    "\n",
    "    must_clauses = [{\"exists\": {\"field\": stat}} for stat in mapped_stats]\n",
    "\n",
    "    index = index_name_clutch if clutch else index_name_team\n",
    "    entity_field = \"TEAM\" if clutch else \"Team\"\n",
    "\n",
    "    if entities:\n",
    "        entity_clauses = [{\"match\": {entity_field: entity}} for entity in entities]\n",
    "    else:\n",
    "        entity_clauses = []\n",
    "\n",
    "    query_body = {\n",
    "        \"query\": {\n",
    "            \"bool\": {\n",
    "                \"must\": [\n",
    "                    {\"bool\": {\"should\": must_clauses, \"minimum_should_match\": 1}},\n",
    "                    {\"bool\": {\"should\": entity_clauses, \"minimum_should_match\": 1}}\n",
    "                ]\n",
    "            }\n",
    "        },\n",
    "        \"sort\": [\n",
    "            {primary_metric_abbr: {\"order\": \"desc\"}}  # Sort by primary metric in descending order\n",
    "        ],\n",
    "        \"size\": 1  # Limit to the top result\n",
    "    }\n",
    "\n",
    "    print(f\"Search Query Body: {query_body}\")\n",
    "\n",
    "    try:\n",
    "        response = es.search(index=index, body=query_body)\n",
    "    except Exception as e:\n",
    "        print(f\"Search failed: {e}\")\n",
    "        return []\n",
    "\n",
    "    hits = response['hits']['hits']\n",
    "    if not hits:\n",
    "        return []\n",
    "\n",
    "    top_result = {\n",
    "        entity_field: hits[0]['_source'][entity_field],\n",
    "        **{stat: hits[0]['_source'][stat] for stat in mapped_stats if stat in hits[0]['_source']}\n",
    "    }\n",
    "\n",
    "    return [top_result]"
   ],
   "metadata": {
    "collapsed": false
   }
  },
  {
   "cell_type": "code",
   "execution_count": 31,
   "outputs": [],
   "source": [
    "def predict_matchup_stats(entities):\n",
    "    advanced_stats_fields = [\"ORtg\", \"DRtg\", \"NRtg\", \"Off_eFGpct\", \"Off_TOVpct\", \"DEF_DRBpct\"]\n",
    "    clutch_stats_fields = [\"PTS\", \"FGpct\", \"REB\", \"AST\", \"TOV\"]\n",
    "\n",
    "    team_stats = {}\n",
    "\n",
    "    for team_name in entities:\n",
    "        advanced_stats_query = {\n",
    "            \"query\": {\n",
    "                \"match\": {\n",
    "                    \"Team\": team_name\n",
    "                }\n",
    "            },\n",
    "            \"_source\": advanced_stats_fields\n",
    "        }\n",
    "\n",
    "        clutch_stats_query = {\n",
    "            \"query\": {\n",
    "                \"match\": {\n",
    "                    \"TEAM\": team_name  # Corrected field name for the clutch stats query\n",
    "                }\n",
    "            },\n",
    "            \"_source\": clutch_stats_fields\n",
    "        }\n",
    "\n",
    "        #print(f\"Fetching advanced stats for {team_name}...\")\n",
    "        advanced_stats_response = es.search(index=\"advanced_stats\", body=advanced_stats_query)\n",
    "        #print(f\"Advanced stats response for {team_name}: {advanced_stats_response}\")\n",
    "\n",
    "        #print(f\"Fetching clutch stats for {team_name}...\")\n",
    "        clutch_stats_response = es.search(index=\"clutch_stats\", body=clutch_stats_query)\n",
    "        #print(f\"Clutch stats response for {team_name}: {clutch_stats_response}\")\n",
    "\n",
    "        team_stats[team_name] = {}\n",
    "\n",
    "        if advanced_stats_response['hits']['hits']:\n",
    "            team_stats[team_name].update(advanced_stats_response['hits']['hits'][0]['_source'])\n",
    "        else:\n",
    "            print(f\"No advanced stats found for {team_name}.\")\n",
    "\n",
    "        if clutch_stats_response['hits']['hits']:\n",
    "            clutch_stats = clutch_stats_response['hits']['hits'][0]['_source']\n",
    "            # Add clutch stats to the team stats without overwriting the team name\n",
    "            for key, value in clutch_stats.items():\n",
    "                if key != \"TEAM\":\n",
    "                    team_stats[team_name][f\"clutch_{key}\"] = value\n",
    "        else:\n",
    "            print(f\"No clutch stats found for {team_name}.\")\n",
    "\n",
    "    #print(f\"Combined team stats: {team_stats}\")\n",
    "    return team_stats"
   ],
   "metadata": {
    "collapsed": false
   }
  },
  {
   "cell_type": "markdown",
   "source": [
    "#### Data Prediction Handling"
   ],
   "metadata": {
    "collapsed": false
   }
  },
  {
   "cell_type": "code",
   "execution_count": 32,
   "outputs": [],
   "source": [
    "# these methods are needed to bring the retun of the predict_matchup_stats into a format which the prepare data model can handle\n",
    "def extract_stats(team_stats, team_name, prefix):\n",
    "    stats = team_stats[team_name]\n",
    "    transformed_stats = {}\n",
    "    for key, value in stats.items():\n",
    "        if key.startswith('clutch_'):\n",
    "            new_key = f\"{prefix}clutch_{key.split('clutch_')[1]}\"\n",
    "        else:\n",
    "            new_key = f\"{prefix}{key}\"\n",
    "        transformed_stats[new_key] = value\n",
    "    return transformed_stats\n",
    "\n",
    "def combine_stats(home_stats, away_stats):\n",
    "    combined_stats = {**home_stats, **away_stats}\n",
    "    return combined_stats"
   ],
   "metadata": {
    "collapsed": false
   }
  },
  {
   "cell_type": "code",
   "execution_count": 33,
   "outputs": [],
   "source": [
    "def prepare_data_for_model(team_stats):\n",
    "    teams = list(team_stats.keys())\n",
    "    home_team = teams[0]\n",
    "    away_team = teams[1]\n",
    "\n",
    "    home_stats = team_stats[home_team]\n",
    "    away_stats = team_stats[away_team]\n",
    "\n",
    "    feature_names = [\n",
    "        'home_ORtg', 'home_DRtg', 'home_NRtg', 'home_Off_eFGpct', 'home_Off_TOVpct', 'home_Def_DRBpct', 'home_clutch_PTS', 'home_clutch_FGpct', 'home_clutch_REB', 'home_clutch_AST', 'home_clutch_TOV', 'away_ORtg', 'away_DRtg', 'away_NRtg', 'away_Off_eFGpct', 'away_Off_TOVpct', 'away_Def_DRBpct', 'away_clutch_PTS', 'away_clutch_FGpct', 'away_clutch_REB', 'away_clutch_AST', 'away_clutch_TOV'\n",
    "    ]\n",
    "\n",
    "    data = {}\n",
    "    for feature in feature_names:\n",
    "        if feature.startswith('home_'):\n",
    "            stat_name = feature.split('home_')[1]\n",
    "            data[feature] = [home_stats.get(stat_name, 0)]\n",
    "        elif feature.startswith('away_'):\n",
    "            stat_name = feature.split('away_')[1]\n",
    "            data[feature] = [away_stats.get(stat_name, 0)]\n",
    "\n",
    "    return home_team, away_team, pd.DataFrame(data)"
   ],
   "metadata": {
    "collapsed": false
   }
  },
  {
   "cell_type": "code",
   "execution_count": 34,
   "outputs": [],
   "source": [
    "# Print out the feature names expected by the model\n",
    "# feature_names = model.feature_names_in_\n",
    "# print(f\"Feature names expected by the model: {feature_names}\")"
   ],
   "metadata": {
    "collapsed": false
   }
  },
  {
   "cell_type": "markdown",
   "source": [
    "#### Model Loading"
   ],
   "metadata": {
    "collapsed": false
   }
  },
  {
   "cell_type": "code",
   "execution_count": 35,
   "outputs": [
    {
     "name": "stdout",
     "output_type": "stream",
     "text": [
      "Loaded object type: <class 'sklearn.ensemble._gb.GradientBoostingClassifier'>\n",
      "The loaded object is a valid model.\n"
     ]
    }
   ],
   "source": [
    "import joblib\n",
    "model_path = 'gradient_boosting_nba_model_corrected_with_pct.pkl'\n",
    "model = joblib.load(model_path)\n",
    "\n",
    "# since I often had issues with wrong model types - check the model type\n",
    "model_type = type(model)\n",
    "has_predict_method = hasattr(model, 'predict')\n",
    "\n",
    "print(f\"Loaded object type: {model_type}\")\n",
    "if has_predict_method:\n",
    "    print(\"The loaded object is a valid model.\")\n",
    "else:\n",
    "    raise TypeError(\"The loaded object is not a model. Please provide a valid model.\")"
   ],
   "metadata": {
    "collapsed": false
   }
  },
  {
   "cell_type": "code",
   "execution_count": 36,
   "outputs": [],
   "source": [
    "# this method takes the prediction model and the data from the rag pulled data and returns the prediction if the home team wins or loses\n",
    "def get_prediction(model, data):\n",
    "    prediction = model.predict(data)\n",
    "    print(f\"Prediction: {prediction}\")\n",
    "    return prediction"
   ],
   "metadata": {
    "collapsed": false
   }
  },
  {
   "cell_type": "markdown",
   "source": [
    "#### Backwards Abbreviation Handling"
   ],
   "metadata": {
    "collapsed": false
   }
  },
  {
   "cell_type": "code",
   "execution_count": 37,
   "outputs": [],
   "source": [
    "def get_stat_full_name(abbreviation):\n",
    "    for key, values in combined_abbreviation_dict.items():\n",
    "        if abbreviation == key:\n",
    "            return values[0]  # Return the first value as the full name\n",
    "    return abbreviation"
   ],
   "metadata": {
    "collapsed": false
   }
  },
  {
   "cell_type": "code",
   "execution_count": 38,
   "outputs": [],
   "source": [
    "def map_metric_to_abbreviation(metrics):\n",
    "    if isinstance(metrics, str):\n",
    "        metrics = [metrics]\n",
    "\n",
    "    mapped_metrics = []\n",
    "    for metric in metrics:\n",
    "        metric_lower = metric.lower()\n",
    "        abbreviation = metric  # Default to the original if no match is found\n",
    "        for key, values in combined_abbreviation_dict.items():\n",
    "            if any(metric_lower == value.lower() for value in values):\n",
    "                abbreviation = key\n",
    "                break\n",
    "        mapped_metrics.append(abbreviation)\n",
    "\n",
    "    if len(mapped_metrics) == 1:\n",
    "        return mapped_metrics[0]\n",
    "    return mapped_metrics"
   ],
   "metadata": {
    "collapsed": false
   }
  },
  {
   "cell_type": "markdown",
   "source": [
    "#### Formatting answer using GPT3.5\n",
    "The first method sums up the responses which"
   ],
   "metadata": {
    "collapsed": false
   }
  },
  {
   "cell_type": "code",
   "execution_count": 39,
   "outputs": [],
   "source": [
    "def format_answer(results, primary_metric, stats):\n",
    "    if not results:\n",
    "        return \"No results found.\"\n",
    "\n",
    "    primary_stat_name = get_stat_full_name(primary_metric)\n",
    "\n",
    "    # Map the primary metric to its abbreviation\n",
    "    primary_metric_key = map_metric_to_abbreviation(primary_metric)\n",
    "    print(f\"Primary Metric Key: {primary_metric_key}\")\n",
    "\n",
    "    answers = []\n",
    "    for result in results:\n",
    "        print(f\"Result: {result}\")\n",
    "        print(f\"Available Keys in Result: {result.keys()}\")\n",
    "\n",
    "        primary_stat_value = result.get(primary_metric_key, \"N/A\")\n",
    "        print(f\"Primary Stat Value: {primary_stat_value}\")\n",
    "\n",
    "        other_stats = [stat for stat in stats if stat != primary_metric]\n",
    "        other_stat_values = {map_metric_to_abbreviation(stat): result.get(map_metric_to_abbreviation(stat), \"N/A\") for stat in other_stats}\n",
    "        print(f\"Other Stat Values: {other_stat_values}\")\n",
    "\n",
    "        stats_summary = \"\\n\".join([f\"{get_stat_full_name(stat)}: {value}\" for stat, value in other_stat_values.items()])\n",
    "        print(f\"Stats Summary: {stats_summary}\")\n",
    "\n",
    "        entity_name = result.get('Team', result.get('Player', 'Unknown'))\n",
    "        entity_type = 'team' if 'Team' in result else 'player'\n",
    "        print(f\"Entity Name: {entity_name}, Entity Type: {entity_type}\")\n",
    "\n",
    "        prompt = f\"\"\"\n",
    "        Given the {entity_type}'s name, primary metric, and the stats summary, generate a fluid and coherent answer.\n",
    "\n",
    "        {entity_type.capitalize()}: {entity_name}\n",
    "        Primary Metric: {primary_stat_name}: {primary_stat_value}\n",
    "        Stats Summary:\n",
    "        {stats_summary}\n",
    "\n",
    "        Answer:\n",
    "        \"\"\"\n",
    "\n",
    "        gpt_response = client.completions.create(\n",
    "            model=\"gpt-3.5-turbo-instruct\",\n",
    "            prompt=prompt.strip(),\n",
    "            max_tokens=100,\n",
    "            temperature=0.7\n",
    "        )\n",
    "\n",
    "        gpt_answer = gpt_response.choices[0].text.strip()\n",
    "\n",
    "        if \"Sorry, there is not enough context\" in gpt_answer:\n",
    "            answers.append(f\"{entity_type.capitalize()}: {entity_name}\\n{primary_stat_name}: {primary_stat_value}\\n{stats_summary}\")\n",
    "        else:\n",
    "            answers.append(gpt_answer)\n",
    "\n",
    "    return \"\\n\\n\".join(answers)"
   ],
   "metadata": {
    "collapsed": false
   }
  },
  {
   "cell_type": "code",
   "execution_count": 40,
   "outputs": [],
   "source": [
    "def format_matchup_answer(prediction, team_stats):\n",
    "    # turn numpy array prediction to integer\n",
    "    if isinstance(prediction, list) and len(prediction) == 1:\n",
    "        prediction = prediction[0]\n",
    "    elif isinstance(prediction, np.ndarray) and prediction.size == 1:\n",
    "        prediction = prediction.item()\n",
    "    elif not isinstance(prediction, int):\n",
    "        raise TypeError(\"Prediction must be an integer, a list containing a single integer, or a NumPy array containing a single integer\")\n",
    "\n",
    "    if prediction not in [0, 1]:\n",
    "        raise ValueError(\"Prediction must be 0 or 1\")\n",
    "\n",
    "    # I had lots of issues with this statement = gpt forces it's prompts to always start counting at 0, no matter which prompt or list you pass, that's why I had to hardcode the prediction value for the winner (home team 1, and away team 2)\n",
    "    teams = list(team_stats.keys())\n",
    "    if prediction == 0:\n",
    "        winner = teams[1]\n",
    "    elif prediction == 1:\n",
    "        winner = teams[0]\n",
    "    else:\n",
    "        raise IndexError(\"Prediction index is out of bounds for team_stats\")\n",
    "\n",
    "    winner_stats = team_stats[winner]\n",
    "\n",
    "    stats_summary = \"\\n\".join([f\"{get_stat_full_name(stat)}: {value}\" for stat, value in winner_stats.items() if stat != 'Team'])\n",
    "\n",
    "    gpt_response = client.completions.create(\n",
    "        model=\"gpt-3.5-turbo-instruct\",\n",
    "        prompt=f\"\"\"\n",
    "        The prediction indicates that the {winner} is the winning team in the matchup. Based on this prediction, generate a fluid and coherent answer summarizing their performance.\n",
    "\n",
    "        Winning Team: {winner}\n",
    "        Stats Summary:\n",
    "        {stats_summary}\n",
    "\n",
    "        Answer should start with \"The {winner} have won the match. Here are their stats: \"\n",
    "        \"\"\",\n",
    "        max_tokens=300,\n",
    "        temperature=0.7\n",
    "    )\n",
    "\n",
    "    gpt_answer = gpt_response.choices[0].text.strip()\n",
    "\n",
    "    if \"Sorry, there is not enough context\" in gpt_answer:\n",
    "        return f\"Winning Team: {winner}\\n{stats_summary}\"\n",
    "    else:\n",
    "        return gpt_answer"
   ],
   "metadata": {
    "collapsed": false
   }
  },
  {
   "cell_type": "code",
   "execution_count": 53,
   "outputs": [
    {
     "name": "stdout",
     "output_type": "stream",
     "text": [
      "Completion(id='cmpl-9oGZxZnDf0KRNxdPlGlDohCNbUUeY', choices=[CompletionChoice(finish_reason='stop', index=0, logprobs=None, text='\\n        Response: {\\n            \"intent\": \"most\",\\n            \"entities\": [\"player\"],\\n            \"primary_metric\": \"Minutes Played\",\\n            \"stats\": [\"Offensive Win Shares\", \"Defensive Win Shares\"],\\n            \"clutch\": false\\n        }')], created=1721767157, model='gpt-3.5-turbo-instruct', object='text_completion', system_fingerprint=None, usage=CompletionUsage(completion_tokens=53, prompt_tokens=608, total_tokens=661))\n",
      "Primary Metric Key: MP\n",
      "Result: {'Player': 'Paolo Banchero', 'MP': 2799, 'DWS': 4.0, 'OWS': 1.3}\n",
      "Available Keys in Result: dict_keys(['Player', 'MP', 'DWS', 'OWS'])\n",
      "Primary Stat Value: 2799\n",
      "Other Stat Values: {'OWS': 1.3, 'DWS': 4.0}\n",
      "Stats Summary: Offensive Win Shares: 1.3\n",
      "Defensive Win Shares: 4.0\n",
      "Entity Name: Paolo Banchero, Entity Type: player\n",
      "Query: Give me the Offensive Win Shares and Defensive Win Shares for the player with the most minutes played.\n",
      "Answer:\n",
      "Paolo Banchero was a key player for his team this season, logging a total of 2799 minutes on the court. His dedication and hard work resulted in impressive stats, including 1.3 offensive win shares and 4.0 defensive win shares. These numbers demonstrate his impact on both ends of the court, making him a valuable asset to his team. Banchero's commitment to playing at a high level for extended periods of time truly sets him apart from his peers.\n",
      "\n",
      "Completion(id='cmpl-9oGZzFgBqcCjbahIQOtfygs0Dgl0s', choices=[CompletionChoice(finish_reason='stop', index=0, logprobs=None, text='\\n        Response: {\\n            \"intent\": \"highest\",\\n            \"entities\": [\"player\"],\\n            \"primary_metric\": \"PER\",\\n            \"stats\": [\"PER\", \"Win Shares\"],\\n            \"clutch\": false\\n        }')], created=1721767159, model='gpt-3.5-turbo-instruct', object='text_completion', system_fingerprint=None, usage=CompletionUsage(completion_tokens=47, prompt_tokens=602, total_tokens=649))\n",
      "Primary Metric Key: PER\n",
      "Result: {'Player': 'Joel Embiid', 'WS': 7.5, 'PER': 34.1}\n",
      "Available Keys in Result: dict_keys(['Player', 'WS', 'PER'])\n",
      "Primary Stat Value: 34.1\n",
      "Other Stat Values: {'WS': 7.5}\n",
      "Stats Summary: Win Shares: 7.5\n",
      "Entity Name: Joel Embiid, Entity Type: player\n",
      "Query: Which player has the highest PER and what are their Win Shares?\n",
      "Answer:\n",
      "Joel Embiid has been having a phenomenal season, with a Player Efficiency Rating of 34.1, which is one of the highest in the league. Not only that, but he also has a Win Shares of 7.5, highlighting his impact on the team's success. His all-around dominance on the court has been a key factor in the team's success this season.\n",
      "\n",
      "Completion(id='cmpl-9oGa1r1B0NNeQOrUaXBTUCSOZtgeu', choices=[CompletionChoice(finish_reason='stop', index=0, logprobs=None, text='\\n        Response: {\\n            \"intent\": \"best\",\\n            \"entities\": [\"player\"],\\n            \"primary_metric\": \"True Shooting Percentage\",\\n            \"stats\": [\"True Shooting Percentage\", \"Total Minutes Played\"],\\n            \"clutch\": false\\n        }')], created=1721767161, model='gpt-3.5-turbo-instruct', object='text_completion', system_fingerprint=None, usage=CompletionUsage(completion_tokens=52, prompt_tokens=605, total_tokens=657))\n",
      "Primary Metric Key: TSpct\n",
      "Result: {'Player': 'Drew Peterson', 'TSpct': 0.917, 'MP': 23}\n",
      "Available Keys in Result: dict_keys(['Player', 'TSpct', 'MP'])\n",
      "Primary Stat Value: 0.917\n",
      "Other Stat Values: {'MP': 23}\n",
      "Stats Summary: Minutes Played: 23\n",
      "Entity Name: Drew Peterson, Entity Type: player\n",
      "Query: Show me the player with the best True Shooting Percentage and their total minutes played.\n",
      "Answer:\n",
      "Drew Peterson was a key player in the game, with an impressive true shooting percentage of 0.917. He made a significant impact in his 23 minutes of playtime, demonstrating his efficiency and accuracy on the court. His performance was crucial in securing the team's victory.\n",
      "\n",
      "Completion(id='cmpl-9oGa3kVpB8rsw34XMklzkQIborVMe', choices=[CompletionChoice(finish_reason='stop', index=0, logprobs=None, text='\\n        Response: {\\n            \"intent\": \"highest\",\\n            \"entities\": [\"player\"],\\n            \"primary_metric\": \"Usage Percentage\",\\n            \"stats\": [\"Usage Percentage\", \"Points\", \"Assists\"],\\n            \"clutch\": false\\n        }')], created=1721767163, model='gpt-3.5-turbo-instruct', object='text_completion', system_fingerprint=None, usage=CompletionUsage(completion_tokens=52, prompt_tokens=605, total_tokens=657))\n",
      "Primary Metric Key: USGpct\n",
      "Result: {'Player': 'Izaiah Brockington', 'USGpct': 72.5}\n",
      "Available Keys in Result: dict_keys(['Player', 'USGpct'])\n",
      "Primary Stat Value: 72.5\n",
      "Other Stat Values: {'PTS': 'N/A', 'AST': 'N/A'}\n",
      "Stats Summary: Points: N/A\n",
      "Assists: N/A\n",
      "Entity Name: Izaiah Brockington, Entity Type: player\n",
      "Query: Find the player with the highest Usage Percentage and list their Points and Assists.\n",
      "Answer:\n",
      "Izaiah Brockington had an impressive performance with a usage percentage of 72.5. While his points and assists may not have been recorded, it's clear that he was heavily involved in the team's offense. His usage percentage shows that he was a key player in making plays and creating opportunities for his team. With such a high usage percentage, it's safe to say that Brockington was a dominant force on the court.\n",
      "\n",
      "Completion(id='cmpl-9oGa6PbuyThPifgHW5JvfCuYnBysN', choices=[CompletionChoice(finish_reason='stop', index=0, logprobs=None, text='\\n        Response: {\\n            \"intent\": \"highest\",\\n            \"entities\": [\"player\"],\\n            \"primary_metric\": \"Box Plus-Minus\",\\n            \"stats\": [\"Box Plus-Minus\", \"VORP\"],\\n            \"clutch\": false\\n        }')], created=1721767166, model='gpt-3.5-turbo-instruct', object='text_completion', system_fingerprint=None, usage=CompletionUsage(completion_tokens=54, prompt_tokens=606, total_tokens=660))\n",
      "Primary Metric Key: BPM\n",
      "Result: {'Player': 'D.J. Wilson', 'BPM': 22.4}\n",
      "Available Keys in Result: dict_keys(['Player', 'BPM'])\n",
      "Primary Stat Value: 22.4\n",
      "Other Stat Values: {'VORP': 'N/A'}\n",
      "Stats Summary: Value Over Replacement Player: N/A\n",
      "Entity Name: D.J. Wilson, Entity Type: player\n",
      "Query: Give me the player with the highest Box Plus-Minus and their VORP.\n",
      "Answer:\n",
      "D.J. Wilson has been absolutely dominating on the court this season, with a Box Plus-Minus of 22.4. His presence on the court has been invaluable to the team, as shown by his N/A Value Over Replacement Player. He's been a key player in their success this season.\n",
      "\n"
     ]
    }
   ],
   "source": [
    "# Main execution\n",
    "complex_queries = [\n",
    "    \"Give me the Offensive Win Shares and Defensive Win Shares for the player with the most minutes played.\",\n",
    "    \"Which player has the highest PER and what are their Win Shares?\",\n",
    "    \"Show me the player with the best True Shooting Percentage and their total minutes played.\",\n",
    "    \"Find the player with the highest Usage Percentage and list their Points and Assists.\",\n",
    "    \"Give me the player with the highest Box Plus-Minus and their VORP.\"\n",
    "]\n",
    "\n",
    "for query in complex_queries:\n",
    "    response_text = parse_query_with_gpt(query)  # Assuming this returns a response_text\n",
    "    intent, entities, primary_metric, stats, clutch = extract_information_from_response(response_text)\n",
    "    if intent in ['predict', 'matchup']:\n",
    "        intent, entities, primary_metric, stats, clutch = extract_information_from_response(response_text)\n",
    "        home_team, away_team, data = prepare_data_for_model(predict_matchup_stats(entities))\n",
    "        statistics = predict_matchup_stats(entities)\n",
    "        prediction = get_prediction(model, data)\n",
    "        team_answer = predict_matchup_stats(entities)\n",
    "        print(f\"Prediction: {prediction}, Team Answer: {team_answer}\")\n",
    "        format_matchup_answer(prediction, team_answer)\n",
    "        answer = format_matchup_answer(prediction, team_answer)\n",
    "        print(f\"Answer:\\n{answer}\\n\")\n",
    "    else:\n",
    "        mapped_stats = map_stats_to_abbreviations(stats)\n",
    "\n",
    "        specific_teams = [entity for entity in entities if entity not in [\"team\", \"player\"]]\n",
    "\n",
    "        if 'player' in entities and 'team' in entities:\n",
    "            team_result = search_team_stats(mapped_stats, specific_teams, primary_metric, intent, clutch)\n",
    "            player_result = search_player_stats(mapped_stats, entities, primary_metric, intent)\n",
    "            team_answer = format_answer(team_result, primary_metric, stats)\n",
    "            print(team_answer)\n",
    "            player_answer = format_answer(player_result, primary_metric, stats)\n",
    "            answer = f\"Team Stats:\\n{team_answer}\\n\\nPlayer Stats:\\n{player_answer}\"\n",
    "        elif 'player' in entities:\n",
    "            top_result = search_player_stats(mapped_stats, entities, primary_metric, intent)\n",
    "            answer = format_answer([top_result], primary_metric, stats)\n",
    "        elif 'team' in entities or specific_teams:\n",
    "            top_results = search_team_stats(mapped_stats, specific_teams, primary_metric, intent, clutch)\n",
    "            answer = format_answer(top_results, primary_metric, stats)\n",
    "        else:\n",
    "            answer = \"No valid entity found for search.\"\n",
    "\n",
    "        print(f\"Query: {query}\")\n",
    "        print(f\"Answer:\\n{answer}\\n\")"
   ],
   "metadata": {
    "collapsed": false
   }
  },
  {
   "cell_type": "code",
   "execution_count": 44,
   "outputs": [
    {
     "name": "stdout",
     "output_type": "stream",
     "text": [
      "Completion(id='cmpl-9oGPZehGha0wiZvrbbdvT9Gi43A9L', choices=[CompletionChoice(finish_reason='stop', index=0, logprobs=None, text='\\n        Response: {\\n            \"intent\": \"predict\",\\n            \"entities\": [\"Dallas Mavericks\", \"Toronto Raptors\"],\\n            \"primary_metric\": \"none\",\\n            \"stats\": [],\\n            \"clutch\": false\\n        }')], created=1721766513, model='gpt-3.5-turbo-instruct', object='text_completion', system_fingerprint=None, usage=CompletionUsage(completion_tokens=46, prompt_tokens=601, total_tokens=647))\n",
      "Prediction: [1]\n",
      "Prediction: [1], Team Answer: {'Dallas Mavericks': {'Off_eFGpct': 0.562, 'DRtg': 115.4, 'NRtg': 2.2, 'ORtg': 117.6, 'Off_TOVpct': 11.2, 'clutch_AST': 1.8, 'clutch_TOV': 0.5, 'clutch_FGpct': 47.5, 'clutch_PTS': 9.4, 'clutch_REB': 3.0}, 'Toronto Raptors': {'Off_eFGpct': 0.535, 'DRtg': 118.8, 'NRtg': -6.5, 'ORtg': 112.3, 'Off_TOVpct': 12.4, 'clutch_AST': 1.6, 'clutch_TOV': 1.0, 'clutch_FGpct': 45.1, 'clutch_PTS': 8.2, 'clutch_REB': 3.7}}\n",
      "Answer:\n",
      "The Dallas Mavericks have won the match, showcasing an impressive performance with an effective field goal percentage of 0.562 on offense. They also demonstrated a strong defensive rating of 115.4 and a net rating of 2.2. Their offensive rating of 117.6 and low turnover percentage of 11.2 highlight their efficiency on the court. In clutch moments, the Mavericks were able to maintain their composure with 1.8 assists, 0.5 turnovers, and a 47.5 field goal percentage. They also dominated the boards with 3.0 rebounds. Overall, the Mavericks' well-rounded performance led them to a well-deserved victory.\n",
      "\n",
      "Completion(id='cmpl-9oGPfFNSpV2UeZRvkGwr1ZsMel3JX', choices=[CompletionChoice(finish_reason='stop', index=0, logprobs=None, text='\\n        Response: {\\n            \"intent\": \"predict\",\\n            \"entities\": [\"Boston Celtics\", \"Dallas Mavericks\"],\\n            \"primary_metric\": \"none\",\\n            \"stats\": [],\\n            \"clutch\": false\\n        }')], created=1721766519, model='gpt-3.5-turbo-instruct', object='text_completion', system_fingerprint=None, usage=CompletionUsage(completion_tokens=46, prompt_tokens=604, total_tokens=650))\n",
      "Prediction: [1]\n",
      "Prediction: [1], Team Answer: {'Boston Celtics': {'Off_eFGpct': 0.578, 'DRtg': 111.6, 'NRtg': 11.6, 'ORtg': 123.2, 'Off_TOVpct': 10.8, 'clutch_AST': 1.5, 'clutch_TOV': 0.8, 'clutch_FGpct': 44.8, 'clutch_PTS': 9.5, 'clutch_REB': 3.7}, 'Dallas Mavericks': {'Off_eFGpct': 0.562, 'DRtg': 115.4, 'NRtg': 2.2, 'ORtg': 117.6, 'Off_TOVpct': 11.2, 'clutch_AST': 1.8, 'clutch_TOV': 0.5, 'clutch_FGpct': 47.5, 'clutch_PTS': 9.4, 'clutch_REB': 3.0}}\n",
      "Answer:\n",
      "The Boston Celtics have won the match, with a strong performance on both offense and defense. Their effective field goal percentage for offense was an impressive 0.578, while their defensive rating of 111.6 helped keep their opponents' scoring to a minimum. With a net rating of 11.6 and an offensive rating of 123.2, the Celtics were able to dominate the game. They also showed great ball control, with a low turnover percentage of 10.8. In clutch moments, the Celtics were able to maintain their composure, with clutch stats of 1.5 assists, 0.8 turnovers, a 44.8 field goal percentage, 9.5 points, and 3.7 rebounds. All in all, the Boston Celtics displayed a high level of skill and teamwork, leading them to a well-deserved victory.\n",
      "\n",
      "Completion(id='cmpl-9oGPlVTQ40NGOxjG5VEGERq4o2jO7', choices=[CompletionChoice(finish_reason='stop', index=0, logprobs=None, text='\\n        Response: {\\n            \"intent\": \"predict\",\\n            \"entities\": [\"Denver Nuggets\", \"Minnesota Timberwolves\"],\\n            \"primary_metric\": \"none\",\\n            \"stats\": [],\\n            \"clutch\": false\\n        }')], created=1721766525, model='gpt-3.5-turbo-instruct', object='text_completion', system_fingerprint=None, usage=CompletionUsage(completion_tokens=48, prompt_tokens=604, total_tokens=652))\n",
      "Prediction: [1]\n",
      "Prediction: [1], Team Answer: {'Denver Nuggets': {'Off_eFGpct': 0.562, 'DRtg': 113.0, 'NRtg': 5.5, 'ORtg': 118.5, 'Off_TOVpct': 11.5, 'clutch_AST': 1.8, 'clutch_TOV': 0.9, 'clutch_FGpct': 53.0, 'clutch_PTS': 9.1, 'clutch_REB': 3.1}, 'Minnesota Timberwolves': {'Off_eFGpct': 0.559, 'DRtg': 109.0, 'NRtg': 6.6, 'ORtg': 115.6, 'Off_TOVpct': 13.0, 'clutch_AST': 1.6, 'clutch_TOV': 1.1, 'clutch_FGpct': 42.7, 'clutch_PTS': 8.5, 'clutch_REB': 3.3}}\n",
      "Answer:\n",
      "The Denver Nuggets have won the match with a strong performance on both offense and defense. Their effective field goal percentage for offense was 0.562, while their defensive rating was 113.0. This resulted in a net rating of 5.5, with an offensive rating of 118.5. The Nuggets also showed excellent ball control, with a low turnover percentage of 11.5. In clutch situations, they were able to maintain their composure and make crucial plays with a clutch assist rate of 1.8 and a clutch field goal percentage of 53.0. They also dominated the boards with a clutch rebound rate of 3.1. Overall, the Denver Nuggets showcased their skills and teamwork, earning them a well-deserved victory.\n",
      "\n"
     ]
    }
   ],
   "source": [
    "# Main execution\n",
    "complex_queries = [\n",
    "    \"Predict the matchup between the Dallas Mavericks and the Toronto Raptors\",\n",
    "    \"Predict the winner of the matchup between the Boston Celtics and the Dallas Mavericks\",\n",
    "    \"Who will win the matchup between the Denver Nuggets and Minnesota Timberwolves\"\n",
    "]\n",
    "\n",
    "for query in complex_queries:\n",
    "    response_text = parse_query_with_gpt(query)  # Assuming this returns a response_text\n",
    "    intent, entities, primary_metric, stats, clutch = extract_information_from_response(response_text)\n",
    "    if intent in ['predict', 'matchup']:\n",
    "        intent, entities, primary_metric, stats, clutch = extract_information_from_response(response_text)\n",
    "        home_team, away_team, data = prepare_data_for_model(predict_matchup_stats(entities))\n",
    "        statistics = predict_matchup_stats(entities)\n",
    "        prediction = get_prediction(model, data)\n",
    "        team_answer = predict_matchup_stats(entities)\n",
    "        print(f\"Prediction: {prediction}, Team Answer: {team_answer}\")\n",
    "        format_matchup_answer(prediction, team_answer)\n",
    "        answer = format_matchup_answer(prediction, team_answer)\n",
    "        print(f\"Answer:\\n{answer}\\n\")\n",
    "    else:\n",
    "        mapped_stats = map_stats_to_abbreviations(stats)\n",
    "\n",
    "        specific_teams = [entity for entity in entities if entity not in [\"team\", \"player\"]]\n",
    "\n",
    "        if 'player' in entities and 'team' in entities:\n",
    "            team_result = search_team_stats(mapped_stats, specific_teams, primary_metric, intent, clutch)\n",
    "            player_result = search_player_stats(mapped_stats, entities, primary_metric, intent)\n",
    "            team_answer = format_answer(team_result, primary_metric, stats)\n",
    "            print(team_answer)\n",
    "            player_answer = format_answer(player_result, primary_metric, stats)\n",
    "            answer = f\"Team Stats:\\n{team_answer}\\n\\nPlayer Stats:\\n{player_answer}\"\n",
    "        elif 'player' in entities:\n",
    "            top_result = search_player_stats(mapped_stats, entities, primary_metric, intent)\n",
    "            answer = format_answer([top_result], primary_metric, stats)\n",
    "        elif 'team' in entities or specific_teams:\n",
    "            top_results = search_team_stats(mapped_stats, specific_teams, primary_metric, intent, clutch)\n",
    "            answer = format_answer(top_results, primary_metric, stats)\n",
    "        else:\n",
    "            answer = \"No valid entity found for search.\"\n",
    "\n",
    "        print(f\"Query: {query}\")\n",
    "        print(f\"Answer:\\n{answer}\\n\")"
   ],
   "metadata": {
    "collapsed": false
   }
  },
  {
   "cell_type": "code",
   "execution_count": 42,
   "outputs": [],
   "source": [
    "def process_complex_queries(complex_queries):\n",
    "    for query in complex_queries:\n",
    "        response_text = parse_query_with_gpt(query)  # Assuming this returns a response_text\n",
    "        intent, entities, primary_metric, stats, clutch = extract_information_from_response(response_text)\n",
    "        if intent in ['predict', 'matchup']:\n",
    "            home_team, away_team, data = prepare_data_for_model(predict_matchup_stats(entities))\n",
    "            statistics = predict_matchup_stats(entities)\n",
    "            prediction = get_prediction(model, data)\n",
    "            team_answer = predict_matchup_stats(entities)\n",
    "            answer = format_matchup_answer(prediction, team_answer)\n",
    "            print(f\"Prediction: {prediction}, Team Answer: {team_answer}\")\n",
    "            print(f\"Answer:\\n{answer}\\n\")\n",
    "        else:\n",
    "            mapped_stats = map_stats_to_abbreviations(stats)\n",
    "\n",
    "            specific_teams = [entity for entity in entities if entity not in [\"team\", \"player\"]]\n",
    "\n",
    "            if 'player' in entities and 'team' in entities:\n",
    "                team_result = search_team_stats(mapped_stats, specific_teams, primary_metric, intent, clutch)\n",
    "                player_result = search_player_stats(mapped_stats, entities, primary_metric, intent)\n",
    "                team_answer = format_answer(team_result, primary_metric, stats)\n",
    "                player_answer = format_answer(player_result, primary_metric, stats)\n",
    "                answer = f\"Team Stats:\\n{team_answer}\\n\\nPlayer Stats:\\n{player_answer}\"\n",
    "            elif 'player' in entities:\n",
    "                top_result = search_player_stats(mapped_stats, entities, primary_metric, intent)\n",
    "                answer = format_answer([top_result], primary_metric, stats)\n",
    "            elif 'team' in entities or specific_teams:\n",
    "                top_results = search_team_stats(mapped_stats, specific_teams, primary_metric, intent, clutch)\n",
    "                answer = format_answer(top_results, primary_metric, stats)\n",
    "            else:\n",
    "                answer = \"No valid entity found for search.\"\n",
    "\n",
    "            print(f\"Query: {query}\")\n",
    "            print(f\"Answer:\\n{answer}\\n\")"
   ],
   "metadata": {
    "collapsed": false
   }
  },
  {
   "cell_type": "code",
   "execution_count": 43,
   "outputs": [
    {
     "name": "stdout",
     "output_type": "stream",
     "text": [
      "Completion(id='cmpl-9rKu0c4Svbk1EAJIvhFIBudehTNay', choices=[CompletionChoice(finish_reason='stop', index=0, logprobs=None, text='\\n        Response: {\\n            \"intent\": \"best\",\\n            \"entities\": [\"player\"],\\n            \"primary_metric\": \"True Shooting Percentage\",\\n            \"stats\": [\"True Shooting Percentage\", \"Total Minutes Played\"],\\n            \"clutch\": false\\n        }')], created=1722498760, model='gpt-3.5-turbo-instruct', object='text_completion', system_fingerprint=None, usage=CompletionUsage(completion_tokens=52, prompt_tokens=605, total_tokens=657))\n",
      "Primary Metric Key: TSpct\n",
      "Result: {'Player': 'Drew Peterson', 'MP': 23, 'TSpct': 0.917}\n",
      "Available Keys in Result: dict_keys(['Player', 'MP', 'TSpct'])\n",
      "Primary Stat Value: 0.917\n",
      "Other Stat Values: {'MP': 23}\n",
      "Stats Summary: Minutes Played: 23\n",
      "Entity Name: Drew Peterson, Entity Type: player\n",
      "Query: Show me the player with the best True Shooting Percentage and their total minutes played.\n",
      "Answer:\n",
      "Drew Peterson has been a standout player on the court this season. He has shown incredible efficiency, with a True Shooting Percentage of 0.917. In just 23 minutes of playing time, he has been able to make a significant impact and make the most of his opportunities on the court. Keep an eye on Drew Peterson, as he continues to excel and contribute to his team's success.\n",
      "\n"
     ]
    }
   ],
   "source": [
    "# Example usage\n",
    "# \"Give me the team with the most losses and their Margin of Victory\",\n",
    "# \"Predict the matchup between the Denver Nuggets and Dallas Mavericks\"\n",
    "complex_queries = [\n",
    "    \"Show me the player with the best True Shooting Percentage and their total minutes played.\"\n",
    "]\n",
    "\n",
    "process_complex_queries(complex_queries)"
   ],
   "metadata": {
    "collapsed": false
   }
  },
  {
   "cell_type": "code",
   "execution_count": 66,
   "outputs": [
    {
     "name": "stdout",
     "output_type": "stream",
     "text": [
      "Completion(id='cmpl-9oGkafSku4X67rIVvvKe5utK4MXZ6', choices=[CompletionChoice(finish_reason='stop', index=0, logprobs=None, text='\\n        Response: {\\n            \"intent\": \"most\",\\n            \"entities\": [\"team\"],\\n            \"primary_metric\": \"Losses\",\\n            \"stats\": [\"Losses\", \"Margin of Victory\"],\\n            \"clutch\": false\\n        }')], created=1721767816, model='gpt-3.5-turbo-instruct', object='text_completion', system_fingerprint=None, usage=CompletionUsage(completion_tokens=50, prompt_tokens=603, total_tokens=653))\n",
      "Search Query Body: {'query': {'bool': {'must': [{'bool': {'should': [{'exists': {'field': 'MOV'}}, {'exists': {'field': 'L'}}], 'minimum_should_match': 1}}, {'bool': {'should': [], 'minimum_should_match': 1}}]}}, 'sort': [{'L': {'order': 'desc'}}], 'size': 1000}\n",
      "Primary Metric Key: L\n",
      "Result: {'Team': 'Detroit Pistons', 'MOV': -9.11, 'L': 68}\n",
      "Available Keys in Result: dict_keys(['Team', 'MOV', 'L'])\n",
      "Primary Stat Value: 68\n",
      "Other Stat Values: {'MOV': -9.11}\n",
      "Stats Summary: Margin of Victory: -9.11\n",
      "Entity Name: Detroit Pistons, Entity Type: team\n",
      "Result: {'Team': 'Washington Wizards', 'MOV': -9.29, 'L': 67}\n",
      "Available Keys in Result: dict_keys(['Team', 'MOV', 'L'])\n",
      "Primary Stat Value: 67\n",
      "Other Stat Values: {'MOV': -9.29}\n",
      "Stats Summary: Margin of Victory: -9.29\n",
      "Entity Name: Washington Wizards, Entity Type: team\n",
      "Result: {'Team': 'Portland Trail Blazers', 'MOV': -9.02, 'L': 61}\n",
      "Available Keys in Result: dict_keys(['Team', 'MOV', 'L'])\n",
      "Primary Stat Value: 61\n",
      "Other Stat Values: {'MOV': -9.02}\n",
      "Stats Summary: Margin of Victory: -9.02\n",
      "Entity Name: Portland Trail Blazers, Entity Type: team\n",
      "Result: {'Team': 'Charlotte Hornets', 'MOV': -10.24, 'L': 61}\n",
      "Available Keys in Result: dict_keys(['Team', 'MOV', 'L'])\n",
      "Primary Stat Value: 61\n",
      "Other Stat Values: {'MOV': -10.24}\n",
      "Stats Summary: Margin of Victory: -10.24\n",
      "Entity Name: Charlotte Hornets, Entity Type: team\n",
      "Result: {'Team': 'San Antonio Spurs', 'MOV': -6.49, 'L': 60}\n",
      "Available Keys in Result: dict_keys(['Team', 'MOV', 'L'])\n",
      "Primary Stat Value: 60\n",
      "Other Stat Values: {'MOV': -6.49}\n",
      "Stats Summary: Margin of Victory: -6.49\n",
      "Entity Name: San Antonio Spurs, Entity Type: team\n",
      "Result: {'Team': 'Toronto Raptors', 'MOV': -6.44, 'L': 57}\n",
      "Available Keys in Result: dict_keys(['Team', 'MOV', 'L'])\n",
      "Primary Stat Value: 57\n",
      "Other Stat Values: {'MOV': -6.44}\n",
      "Stats Summary: Margin of Victory: -6.44\n",
      "Entity Name: Toronto Raptors, Entity Type: team\n",
      "Result: {'Team': 'Memphis Grizzlies', 'MOV': -7.0, 'L': 55}\n",
      "Available Keys in Result: dict_keys(['Team', 'MOV', 'L'])\n",
      "Primary Stat Value: 55\n",
      "Other Stat Values: {'MOV': -7.0}\n",
      "Stats Summary: Margin of Victory: -7.0\n",
      "Entity Name: Memphis Grizzlies, Entity Type: team\n",
      "Result: {'Team': 'Utah Jazz', 'MOV': -4.89, 'L': 51}\n",
      "Available Keys in Result: dict_keys(['Team', 'MOV', 'L'])\n",
      "Primary Stat Value: 51\n",
      "Other Stat Values: {'MOV': -4.89}\n",
      "Stats Summary: Margin of Victory: -4.89\n",
      "Entity Name: Utah Jazz, Entity Type: team\n",
      "Result: {'Team': 'Brooklyn Nets', 'MOV': -2.89, 'L': 50}\n",
      "Available Keys in Result: dict_keys(['Team', 'MOV', 'L'])\n",
      "Primary Stat Value: 50\n",
      "Other Stat Values: {'MOV': -2.89}\n",
      "Stats Summary: Margin of Victory: -2.89\n",
      "Entity Name: Brooklyn Nets, Entity Type: team\n",
      "Result: {'Team': 'Atlanta Hawks', 'MOV': -2.18, 'L': 46}\n",
      "Available Keys in Result: dict_keys(['Team', 'MOV', 'L'])\n",
      "Primary Stat Value: 46\n",
      "Other Stat Values: {'MOV': -2.18}\n",
      "Stats Summary: Margin of Victory: -2.18\n",
      "Entity Name: Atlanta Hawks, Entity Type: team\n",
      "Result: {'Team': 'Chicago Bulls', 'MOV': -1.44, 'L': 43}\n",
      "Available Keys in Result: dict_keys(['Team', 'MOV', 'L'])\n",
      "Primary Stat Value: 43\n",
      "Other Stat Values: {'MOV': -1.44}\n",
      "Stats Summary: Margin of Victory: -1.44\n",
      "Entity Name: Chicago Bulls, Entity Type: team\n",
      "Result: {'Team': 'Houston Rockets', 'MOV': 1.12, 'L': 41}\n",
      "Available Keys in Result: dict_keys(['Team', 'MOV', 'L'])\n",
      "Primary Stat Value: 41\n",
      "Other Stat Values: {'MOV': 1.12}\n",
      "Stats Summary: Margin of Victory: 1.12\n",
      "Entity Name: Houston Rockets, Entity Type: team\n",
      "Result: {'Team': 'Golden State Warriors', 'MOV': 2.61, 'L': 36}\n",
      "Available Keys in Result: dict_keys(['Team', 'MOV', 'L'])\n",
      "Primary Stat Value: 36\n",
      "Other Stat Values: {'MOV': 2.61}\n",
      "Stats Summary: Margin of Victory: 2.61\n",
      "Entity Name: Golden State Warriors, Entity Type: team\n",
      "Result: {'Team': 'Miami Heat', 'MOV': 1.76, 'L': 36}\n",
      "Available Keys in Result: dict_keys(['Team', 'MOV', 'L'])\n",
      "Primary Stat Value: 36\n",
      "Other Stat Values: {'MOV': 1.76}\n",
      "Stats Summary: Margin of Victory: 1.76\n",
      "Entity Name: Miami Heat, Entity Type: team\n",
      "Result: {'Team': 'Sacramento Kings', 'MOV': 1.74, 'L': 36}\n",
      "Available Keys in Result: dict_keys(['Team', 'MOV', 'L'])\n",
      "Primary Stat Value: 36\n",
      "Other Stat Values: {'MOV': 1.74}\n",
      "Stats Summary: Margin of Victory: 1.74\n",
      "Entity Name: Sacramento Kings, Entity Type: team\n",
      "Result: {'Team': 'Philadelphia 76ers', 'MOV': 3.05, 'L': 35}\n",
      "Available Keys in Result: dict_keys(['Team', 'MOV', 'L'])\n",
      "Primary Stat Value: 35\n",
      "Other Stat Values: {'MOV': 3.05}\n",
      "Stats Summary: Margin of Victory: 3.05\n",
      "Entity Name: Philadelphia 76ers, Entity Type: team\n",
      "Result: {'Team': 'Indiana Pacers', 'MOV': 3.05, 'L': 35}\n",
      "Available Keys in Result: dict_keys(['Team', 'MOV', 'L'])\n",
      "Primary Stat Value: 35\n",
      "Other Stat Values: {'MOV': 3.05}\n",
      "Stats Summary: Margin of Victory: 3.05\n",
      "Entity Name: Indiana Pacers, Entity Type: team\n",
      "Result: {'Team': 'Orlando Magic', 'MOV': 2.02, 'L': 35}\n",
      "Available Keys in Result: dict_keys(['Team', 'MOV', 'L'])\n",
      "Primary Stat Value: 35\n",
      "Other Stat Values: {'MOV': 2.02}\n",
      "Stats Summary: Margin of Victory: 2.02\n",
      "Entity Name: Orlando Magic, Entity Type: team\n",
      "Result: {'Team': 'Los Angeles Lakers', 'MOV': 0.6, 'L': 35}\n",
      "Available Keys in Result: dict_keys(['Team', 'MOV', 'L'])\n",
      "Primary Stat Value: 35\n",
      "Other Stat Values: {'MOV': 0.6}\n",
      "Stats Summary: Margin of Victory: 0.6\n",
      "Entity Name: Los Angeles Lakers, Entity Type: team\n",
      "Result: {'Team': 'Cleveland Cavaliers', 'MOV': 2.41, 'L': 34}\n",
      "Available Keys in Result: dict_keys(['Team', 'MOV', 'L'])\n",
      "Primary Stat Value: 34\n",
      "Other Stat Values: {'MOV': 2.41}\n",
      "Stats Summary: Margin of Victory: 2.41\n",
      "Entity Name: Cleveland Cavaliers, Entity Type: team\n",
      "Result: {'Team': 'New Orleans Pelicans', 'MOV': 4.41, 'L': 33}\n",
      "Available Keys in Result: dict_keys(['Team', 'MOV', 'L'])\n",
      "Primary Stat Value: 33\n",
      "Other Stat Values: {'MOV': 4.41}\n",
      "Stats Summary: Margin of Victory: 4.41\n",
      "Entity Name: New Orleans Pelicans, Entity Type: team\n",
      "Result: {'Team': 'Phoenix Suns', 'MOV': 3.06, 'L': 33}\n",
      "Available Keys in Result: dict_keys(['Team', 'MOV', 'L'])\n",
      "Primary Stat Value: 33\n",
      "Other Stat Values: {'MOV': 3.06}\n",
      "Stats Summary: Margin of Victory: 3.06\n",
      "Entity Name: Phoenix Suns, Entity Type: team\n",
      "Result: {'Team': 'Milwaukee Bucks', 'MOV': 2.62, 'L': 33}\n",
      "Available Keys in Result: dict_keys(['Team', 'MOV', 'L'])\n",
      "Primary Stat Value: 33\n",
      "Other Stat Values: {'MOV': 2.62}\n",
      "Stats Summary: Margin of Victory: 2.62\n",
      "Entity Name: Milwaukee Bucks, Entity Type: team\n",
      "Result: {'Team': 'New York Knicks', 'MOV': 4.59, 'L': 32}\n",
      "Available Keys in Result: dict_keys(['Team', 'MOV', 'L'])\n",
      "Primary Stat Value: 32\n",
      "Other Stat Values: {'MOV': 4.59}\n",
      "Stats Summary: Margin of Victory: 4.59\n",
      "Entity Name: New York Knicks, Entity Type: team\n",
      "Result: {'Team': 'Dallas Mavericks', 'MOV': 2.21, 'L': 32}\n",
      "Available Keys in Result: dict_keys(['Team', 'MOV', 'L'])\n",
      "Primary Stat Value: 32\n",
      "Other Stat Values: {'MOV': 2.21}\n",
      "Stats Summary: Margin of Victory: 2.21\n",
      "Entity Name: Dallas Mavericks, Entity Type: team\n",
      "Result: {'Team': 'Los Angeles Clippers', 'MOV': 3.28, 'L': 31}\n",
      "Available Keys in Result: dict_keys(['Team', 'MOV', 'L'])\n",
      "Primary Stat Value: 31\n",
      "Other Stat Values: {'MOV': 3.28}\n",
      "Stats Summary: Margin of Victory: 3.28\n",
      "Entity Name: Los Angeles Clippers, Entity Type: team\n",
      "Result: {'Team': 'Minnesota Timberwolves', 'MOV': 6.45, 'L': 26}\n",
      "Available Keys in Result: dict_keys(['Team', 'MOV', 'L'])\n",
      "Primary Stat Value: 26\n",
      "Other Stat Values: {'MOV': 6.45}\n",
      "Stats Summary: Margin of Victory: 6.45\n",
      "Entity Name: Minnesota Timberwolves, Entity Type: team\n",
      "Result: {'Team': 'Oklahoma City Thunder', 'MOV': 7.41, 'L': 25}\n",
      "Available Keys in Result: dict_keys(['Team', 'MOV', 'L'])\n",
      "Primary Stat Value: 25\n",
      "Other Stat Values: {'MOV': 7.41}\n",
      "Stats Summary: Margin of Victory: 7.41\n",
      "Entity Name: Oklahoma City Thunder, Entity Type: team\n",
      "Result: {'Team': 'Denver Nuggets', 'MOV': 5.26, 'L': 25}\n",
      "Available Keys in Result: dict_keys(['Team', 'MOV', 'L'])\n",
      "Primary Stat Value: 25\n",
      "Other Stat Values: {'MOV': 5.26}\n",
      "Stats Summary: Margin of Victory: 5.26\n",
      "Entity Name: Denver Nuggets, Entity Type: team\n",
      "Result: {'Team': 'Boston Celtics', 'MOV': 11.34, 'L': 18}\n",
      "Available Keys in Result: dict_keys(['Team', 'MOV', 'L'])\n",
      "Primary Stat Value: 18\n",
      "Other Stat Values: {'MOV': 11.34}\n",
      "Stats Summary: Margin of Victory: 11.34\n",
      "Entity Name: Boston Celtics, Entity Type: team\n",
      "Query: Give me the team with the most losses and their Margin of Victory\n",
      "Answer:\n",
      "The Detroit Pistons had a difficult season, with a total of 68 losses. Their primary metric, losses, reflects the challenges they faced on the court. The team also had a tough margin of victory, with an average of -9.11. This means that they often lost games by a significant margin. However, despite these setbacks, the Detroit Pistons showed resilience and determination throughout the season. They will no doubt continue to work hard and strive for success in the future.\n",
      "\n",
      "The Washington Wizards had a tough season, with a total of 67 losses. Their primary metric of losses speaks to the challenges they faced on the court. Looking at the stats summary, we can see that their margin of victory was -9.29, indicating that they often struggled to keep up with their opponents. Despite these difficulties, the team showed resilience and determination, and we can expect them to come back stronger next season.\n",
      "\n",
      "The Portland Trail Blazers had a tough season with 61 losses, resulting in a negative margin of victory of -9.02. However, their determination and hard work on the court should not go unnoticed as they continue to strive for success in future games. They will surely bounce back and come back stronger as a team.\n",
      "\n",
      "Despite the strong effort put forth by the Charlotte Hornets, their primary metric of losses at 61 indicates that the team faced some significant challenges throughout the season. This is further supported by the stats summary, which shows a margin of victory of -10.24, suggesting that the team struggled to come out on top in close games. However, with determination and continued hard work, the Hornets have the potential to turn their losses into wins and improve their margin of victory in the future.\n",
      "\n",
      "The San Antonio Spurs had a tough season, with a total of 60 losses. However, their primary metric, the margin of victory, shows that they were able to keep their games close despite the high number of losses. This suggests that the team put up a strong fight in every game and were not easily defeated. While their record may not reflect it, the Spurs were a competitive team that always gave their opponents a run for their money.\n",
      "\n",
      "The Toronto Raptors had a tough season, finishing with a total of 57 losses. Despite this, their primary metric of -6.44 margin of victory suggests that they were competitive in many of their games and their losses were often close. It will be important for the team to analyze and improve upon their performance in order to bounce back and have a stronger season next year.\n",
      "\n",
      "The Memphis Grizzlies had a tough season, unfortunately ending with a record of 55 losses. On average, their margin of victory was -7.0 points, indicating that they struggled to secure wins and often fell short against their opponents. However, despite their challenging record, the Grizzlies showed determination and resilience throughout the season, never giving up and continuously fighting until the very end. They will surely use this experience to fuel their drive for success in the upcoming season.\n",
      "\n",
      "The Utah Jazz had a tough season, as they finished with a record of 51 losses. This was reflected in their margin of victory, which was -4.89. Despite their struggles, the Jazz showed resilience and determination throughout the season, never giving up and always fighting until the very end. While the losses may have been difficult, they can use this experience to come back even stronger next season and hopefully improve their margin of victory.\n",
      "\n",
      "The Brooklyn Nets had a challenging season, with a total of 50 losses. However, their margin of victory was -2.89, indicating that although they may have struggled to secure wins, they often put up a strong fight against their opponents. This metric suggests that the team has potential for improvement in the future, and with determination and hard work, they may see a decrease in their losses and an increase in their margin of victory.\n",
      "\n",
      "Despite putting up a strong fight, the Atlanta Hawks had a tough season in terms of losses, with a total of 46 losses. However, their margin of victory shows that they were able to keep their games close, with an average margin of -2.18 points. This demonstrates the team's resilience and determination, even in the face of adversity. The Hawks' efforts and determination throughout the season are commendable, and they will undoubtedly continue to strive for success in the future.\n",
      "\n",
      "The Chicago Bulls had a tough season, ending with a total of 43 losses. Despite this, they showed resilience and determination, as seen in their margin of victory being only -1.44. This close margin suggests that they were able to keep up with their opponents and put up a fight in each game. While the losses may have been disappointing, the Bulls can take pride in their ability to compete and never give up.\n",
      "\n",
      "The Houston Rockets had a tough season with 41 losses, but they were able to keep their games close with a margin of victory of 1.12. Despite their losses, the team showed resilience and fought hard in each game, often keeping it competitive until the end. This margin of victory also suggests that the team has the potential to bounce back and improve in the future. With their determination and a strong focus on improving their record, the Houston Rockets are sure to make a comeback next season.\n",
      "\n",
      "The Golden State Warriors had a tough season, facing 36 losses. However, their stats summary shows that they consistently played close games, with a margin of victory of only 2.61 points on average. This indicates that they were able to compete against their opponents and keep games close, even in the face of defeat. Despite their losses, the Warriors showed determination and resilience throughout the season.\n",
      "\n",
      "The Miami Heat had a tough season, with 36 losses overall. However, despite these losses, they still had a relatively small margin of victory at 1.76 points. This shows that they were able to keep games close and compete at a high level, even in tough matchups. With their determination and resilience, the Miami Heat will surely bounce back and have a strong showing in the upcoming season.\n",
      "\n",
      "The Sacramento Kings had a tough season, with 36 losses and a margin of victory of 1.74. Despite their efforts, the team struggled to secure wins and faced some close games throughout the season. However, their determination and hard work on the court should be commended as they continue to strive for success.\n",
      "\n",
      "The Philadelphia 76ers had a tough season with 35 losses, but they still managed to maintain a relatively close margin of victory with an average of 3.05 points. Despite their losses, their games were often competitive and decided by a small margin. This shows the team's resilience and determination to keep fighting until the end. With this mindset, they have the potential to bounce back and have a successful season.\n",
      "\n",
      "The Indiana Pacers had a tough season, with a total of 35 losses. However, their margin of victory was 3.05, showing that they were able to compete and keep games close. Despite their losses, the Pacers were able to keep a small margin of defeat, indicating a strong effort and determination from the team. Moving forward, the Pacers will aim to improve their game and turn those narrow losses into wins.\n",
      "\n",
      "The Orlando Magic had a tough season, accumulating 35 losses. However, their margin of victory was fairly close at 2.02 points, indicating that they were competitive in many of their games. Despite facing some challenges, the Magic showed resilience and determination throughout the season. With hard work and dedication, they have the potential to bounce back and improve their record in the future.\n",
      "\n",
      "The Los Angeles Lakers have had a tough season so far, with 35 losses under their belt. However, their stats show that they have been putting up a good fight, with a margin of victory of 0.6. Despite their losses, the team has shown resilience and determination, and will no doubt continue to give it their all on the court.\n",
      "\n",
      "The Cleveland Cavaliers have had a tough season, facing 34 losses so far. However, their margin of victory is a promising 2.41, showing that they have been able to compete and keep games close despite the losses. With determination and hard work, the Cavaliers have the potential to turn their losses into wins and improve their overall record.\n",
      "\n",
      "The New Orleans Pelicans have unfortunately suffered 33 losses this season. However, despite this setback, their margin of victory has been an impressive 4.41 points, showcasing their determination and talent on the court. With this strong performance, they continue to be a formidable team in the league.\n",
      "\n",
      "The Phoenix Suns have had a tough season with 33 losses, but their margin of victory has been relatively close at 3.06 points. While they may not have the most wins, their games have been competitive and they have shown resilience in close matchups. With continued determination and improvement, the Phoenix Suns have the potential to turn those losses into wins in the future.\n",
      "\n",
      "The Milwaukee Bucks had a tough season, with a total of 33 losses. However, their margin of victory was 2.62, which suggests that even in their losses, they were able to keep the score close. This shows their resilience and determination on the court. Despite facing setbacks, they were able to put up a strong fight in each game. With this kind of competitive spirit, the Milwaukee Bucks are sure to bounce back and have a successful season in the future.\n",
      "\n",
      "The New York Knicks had a tough season, finishing with 32 losses as their primary metric. However, their stats summary reveals that they had a relatively close margin of victory, with an average of 4.59 points. Despite the losses, it seems like the Knicks put up a good fight in their games and were not easily beaten. This shows their determination and resilience as a team. While they may not have achieved the desired number of wins, their close margin of victory suggests that they were\n",
      "\n",
      "The Dallas Mavericks had a total of 32 losses, making it their primary metric for the season. However, their stats summary shows that even in their losses, they were able to keep a close margin of defeat with a margin of victory of 2.21. This shows the team's determination and resilience even in the face of adversity, and gives hope for a strong comeback in the next season.\n",
      "\n",
      "The Los Angeles Clippers have had a strong season, with a record of 31 losses. However, their margin of victory has been impressive, with an average of 3.28 points per game. While they may have faced some tough losses, their ability to consistently win by a significant margin showcases their strength as a team.\n",
      "\n",
      "The Minnesota Timberwolves have had a challenging season so far, accumulating 26 losses. However, their margin of victory has been relatively close at 6.45 points. This shows that the team has been able to compete in most of their games, but may need to work on closing out games in order to secure more wins. Overall, the Timberwolves have shown resilience and potential for improvement in the future.\n",
      "\n",
      "The Oklahoma City Thunder had a tough season, with a total of 25 losses. However, their stats show that they had a close margin of victory, with an average of 7.41 points. This indicates that even in their losses, they were able to keep the game competitive. With this strong performance, the Thunder will surely continue to be a formidable team in the future.\n",
      "\n",
      "The Denver Nuggets have had a strong season so far, with a record of 25 losses. However, looking at their stats summary, it's clear that they have been competitive in their games, with a margin of victory of 5.26. This suggests that they have been able to keep games close and have only lost by a small margin in many of their games. With this level of competitiveness, it's no surprise that the Nuggets have been able to maintain a solid record despite the number of\n",
      "\n",
      "The Boston Celtics had a tough season, accumulating 18 losses. Despite this, they still had a strong showing with a margin of victory of 11.34. This demonstrates their resilience and ability to bounce back from losses, as well as their overall skill and competitiveness on the court. While the losses may have been disappointing, their high margin of victory showcases their determination and potential for future success.\n",
      "\n"
     ]
    }
   ],
   "source": [
    "# Example usage\n",
    "complex_queries = [\n",
    "    \"Give me the team with the most losses and their Margin of Victory\"\n",
    "]\n",
    "\n",
    "process_complex_queries(complex_queries)"
   ],
   "metadata": {
    "collapsed": false
   }
  },
  {
   "cell_type": "code",
   "execution_count": 50,
   "outputs": [
    {
     "name": "stdout",
     "output_type": "stream",
     "text": [
      "Completion(id='cmpl-9oGVDEK5Cq2SPqvUyVLyunBu54dwd', choices=[CompletionChoice(finish_reason='stop', index=0, logprobs=None, text='\\n        Response: {\\n            \"intent\": \"none\",\\n            \"entities\": [\"Minnesota Timberwolves\"],\\n            \"primary_metric\": \"none\",\\n            \"stats\": [\"Offensive Rating\", \"Defensive Rating\"],\\n            \"clutch\": false\\n        }')], created=1721766863, model='gpt-3.5-turbo-instruct', object='text_completion', system_fingerprint=None, usage=CompletionUsage(completion_tokens=53, prompt_tokens=604, total_tokens=657))\n",
      "Search Query Body: {'query': {'bool': {'must': [{'bool': {'should': [{'exists': {'field': 'DRtg'}}, {'exists': {'field': 'none'}}, {'exists': {'field': 'ORtg'}}], 'minimum_should_match': 1}}, {'bool': {'should': [{'match': {'Team': 'Minnesota Timberwolves'}}], 'minimum_should_match': 1}}]}}, 'size': 1000}\n",
      "Top Results: [{'Team': 'Minnesota Timberwolves', 'DRtg': 109.0, 'ORtg': 115.6}]\n",
      "Primary Metric Key: none\n",
      "Result: {'Team': 'Minnesota Timberwolves', 'DRtg': 109.0, 'ORtg': 115.6}\n",
      "Available Keys in Result: dict_keys(['Team', 'DRtg', 'ORtg'])\n",
      "Primary Stat Value: N/A\n",
      "Other Stat Values: {'ORtg': 115.6, 'DRtg': 109.0}\n",
      "Stats Summary: Offensive Rating: 115.6\n",
      "Defensive Rating: 109.0\n",
      "Entity Name: Minnesota Timberwolves, Entity Type: team\n",
      "Query: Give me the Offensive Rating and Defensive Rating of the Minnesota Timberwolves\n",
      "Answer:\n",
      "The Minnesota Timberwolves have shown a strong offensive performance with an impressive Offensive Rating of 115.6. While they may not have a primary metric, their Offensive Rating speaks for itself. Additionally, their Defensive Rating of 109.0 shows that they are able to hold their opponents to a lower score, further solidifying their strong performance on both ends of the court. Overall, the Timberwolves have proven to be a formidable team in the league.\n",
      "\n",
      "Completion(id='cmpl-9oGVFahkorCw43vTIWWY7ggxfJgpb', choices=[CompletionChoice(finish_reason='stop', index=0, logprobs=None, text='\\n        Response: {\\n            \"intent\": \"highest\",\\n            \"entities\": [\"player\"],\\n            \"primary_metric\": \"Offensive Win Shares\",\\n            \"stats\": [\"Offensive Win Shares\", \"Minutes Played\"],\\n            \"clutch\": false\\n        }')], created=1721766865, model='gpt-3.5-turbo-instruct', object='text_completion', system_fingerprint=None, usage=CompletionUsage(completion_tokens=53, prompt_tokens=606, total_tokens=659))\n",
      "Primary Metric Key: OWS\n",
      "Result: {'Player': 'Nikola Jokić', 'MP': 2737, 'OWS': 12.0}\n",
      "Available Keys in Result: dict_keys(['Player', 'MP', 'OWS'])\n",
      "Primary Stat Value: 12.0\n",
      "Other Stat Values: {'MP': 2737}\n",
      "Stats Summary: Minutes Played: 2737\n",
      "Entity Name: Nikola Jokić, Entity Type: player\n",
      "Query: Who is the player with the highest Offensive Win Shares and what are their Minutes Played?\n",
      "Answer:\n",
      "Nikola Jokić had an impressive season, with an Offensive Win Shares of 12.0. He was a key contributor to the team's success, playing a total of 2737 minutes throughout the season. His strong offensive presence on the court undoubtedly played a significant role in his team's victories.\n",
      "\n"
     ]
    }
   ],
   "source": [
    "# Main execution\n",
    "complex_queries = [\n",
    "    \"Give me the Offensive Rating and Defensive Rating of the Minnesota Timberwolves\",\n",
    "    \"Who is the player with the highest Offensive Win Shares and what are their Minutes Played?\"\n",
    "]\n",
    "\n",
    "for query in complex_queries:\n",
    "    response_text = parse_query_with_gpt(query)  # Assuming this returns a response_text\n",
    "    intent, entities, primary_metric, stats, clutch = extract_information_from_response(response_text)\n",
    "    if intent in ['predict', 'matchup']:\n",
    "        intent, entities, primary_metric, stats, clutch = extract_information_from_response(response_text)\n",
    "        print(intent, entities, primary_metric, stats, clutch)\n",
    "        home_team, away_team, data = prepare_data_for_model(predict_matchup_stats(entities))\n",
    "        statistics = predict_matchup_stats(entities)\n",
    "        prediction = get_prediction(model, data)\n",
    "        team_answer = predict_matchup_stats(entities)\n",
    "        print(team_answer)\n",
    "        answer = f\"Team Stats:\\n{team_answer}\\n\\nPrediction:\\n{prediction}\"\n",
    "    else:\n",
    "        mapped_stats = map_stats_to_abbreviations(stats)\n",
    "\n",
    "        specific_teams = [entity for entity in entities if entity not in [\"team\", \"player\"]]\n",
    "\n",
    "        if 'player' in entities and 'team' in entities:\n",
    "            team_result = search_team_stats(mapped_stats, specific_teams, primary_metric, intent, clutch)\n",
    "            player_result = search_player_stats(mapped_stats, entities, primary_metric, intent)\n",
    "            team_answer = format_answer(team_result, primary_metric, stats)\n",
    "            print(team_answer)\n",
    "            player_answer = format_answer(player_result, primary_metric, stats)\n",
    "            answer = f\"Team Stats:\\n{team_answer}\\n\\nPlayer Stats:\\n{player_answer}\"\n",
    "        elif 'player' in entities:\n",
    "            top_result = search_player_stats(mapped_stats, entities, primary_metric, intent)\n",
    "            answer = format_answer([top_result], primary_metric, stats)\n",
    "        elif 'team' in entities or specific_teams:\n",
    "            top_results = search_team_stats(mapped_stats, specific_teams, primary_metric, intent, clutch)\n",
    "            print(f\"Top Results: {top_results}\")\n",
    "            answer = format_answer(top_results, primary_metric, stats)\n",
    "        else:\n",
    "            answer = \"No valid entity found for search.\"\n",
    "\n",
    "        print(f\"Query: {query}\")\n",
    "        print(f\"Answer:\\n{answer}\\n\")"
   ],
   "metadata": {
    "collapsed": false
   }
  },
  {
   "cell_type": "markdown",
   "source": [
    "#### POC - Gradient Boosting Model Usage with RAG\n",
    "This is the buildup of the prediction engine as seen before to better understand the workings of the function, I decided to keep the building process of it inside the notebook. This feature can be enhanced in the future by including live search functions which scrape the data of injured players during runtime and then lower the value of certain predictions by the amount of a certain stat (for instance: VORP (value over replacement) or PER (player efficiciency rating)) if certain players are missing. The better the player and the better the stats against the matchup - the higher the weight."
   ],
   "metadata": {
    "collapsed": false
   }
  },
  {
   "cell_type": "markdown",
   "source": [],
   "metadata": {
    "collapsed": false
   }
  },
  {
   "cell_type": "code",
   "execution_count": 1099,
   "outputs": [],
   "source": [
    "def fetch_team_stats(team_names):\n",
    "    advanced_stats_fields = [\"Team\", \"ORtg\", \"DRtg\", \"NRtg\", \"Off_eFGpct\", \"Off_TOVpct\", \"DEF_DRBpct\"]\n",
    "    clutch_stats_fields = [\"PTS\", \"FGpct\", \"REB\", \"AST\", \"TOV\"]\n",
    "\n",
    "    team_stats = {}\n",
    "\n",
    "    for team_name in team_names:\n",
    "        advanced_stats_query = {\n",
    "            \"query\": {\n",
    "                \"match\": {\n",
    "                    \"Team\": team_name\n",
    "                }\n",
    "            },\n",
    "            \"_source\": advanced_stats_fields\n",
    "        }\n",
    "\n",
    "        clutch_stats_query = {\n",
    "            \"query\": {\n",
    "                \"match\": {\n",
    "                    \"TEAM\": team_name  # Corrected field name for the clutch stats query\n",
    "                }\n",
    "            },\n",
    "            \"_source\": clutch_stats_fields\n",
    "        }\n",
    "\n",
    "        advanced_stats_response = es.search(index=\"advanced_stats\", body=advanced_stats_query)\n",
    "        #print(f\"Advanced stats response for {team_name}: {advanced_stats_response}\")\n",
    "\n",
    "        clutch_stats_response = es.search(index=\"clutch_stats\", body=clutch_stats_query)\n",
    "        #print(f\"Clutch stats response for {team_name}: {clutch_stats_response}\")\n",
    "\n",
    "        team_stats[team_name] = {}\n",
    "\n",
    "        if advanced_stats_response['hits']['hits']:\n",
    "            #print(f\"Advanced stats found for {team_name}.\")\n",
    "            team_stats[team_name].update(advanced_stats_response['hits']['hits'][0]['_source'])\n",
    "        else:\n",
    "            print(f\"No advanced stats found for {team_name}.\")\n",
    "\n",
    "        if clutch_stats_response['hits']['hits']:\n",
    "            clutch_stats = clutch_stats_response['hits']['hits'][0]['_source']\n",
    "            # had to handle clutch stats seperately again with the different Team name\n",
    "            for key, value in clutch_stats.items():\n",
    "                if key != \"TEAM\":\n",
    "                    team_stats[team_name][f\"clutch_{key}\"] = value\n",
    "        else:\n",
    "            print(f\"No clutch stats found for {team_name}.\")\n",
    "\n",
    "    return team_stats"
   ],
   "metadata": {
    "collapsed": false
   }
  },
  {
   "cell_type": "code",
   "execution_count": 889,
   "outputs": [
    {
     "name": "stdout",
     "output_type": "stream",
     "text": [
      "Loaded object type: <class 'sklearn.ensemble._gb.GradientBoostingClassifier'>\n",
      "The loaded object is a valid model.\n"
     ]
    }
   ],
   "source": [
    "import joblib\n",
    "\n",
    "# Load the Gradient Boosting model using joblib\n",
    "model_path = 'gradient_boosting_nba_model_corrected.pkl'\n",
    "model = joblib.load(model_path)\n",
    "\n",
    "# Check the type and attributes of the loaded object\n",
    "model_type = type(model)\n",
    "has_predict_method = hasattr(model, 'predict')\n",
    "\n",
    "print(f\"Loaded object type: {model_type}\")\n",
    "if has_predict_method:\n",
    "    print(\"The loaded object is a valid model.\")\n",
    "else:\n",
    "    raise TypeError(\"The loaded object is not a model. Please provide a valid model.\")"
   ],
   "metadata": {
    "collapsed": false
   }
  },
  {
   "cell_type": "code",
   "execution_count": 875,
   "outputs": [
    {
     "name": "stdout",
     "output_type": "stream",
     "text": [
      "Feature names expected by the model: ['home_ORtg' 'home_DRtg' 'home_NRtg' 'home_Off_eFG%' 'home_Off_TOV%'\n",
      " 'home_Def_DRB%' 'home_clutch_PTS' 'home_clutch_FG%' 'home_clutch_REB'\n",
      " 'home_clutch_AST' 'home_clutch_TOV' 'away_ORtg' 'away_DRtg' 'away_NRtg'\n",
      " 'away_Off_eFG%' 'away_Off_TOV%' 'away_Def_DRB%' 'away_clutch_PTS'\n",
      " 'away_clutch_FG%' 'away_clutch_REB' 'away_clutch_AST' 'away_clutch_TOV']\n"
     ]
    }
   ],
   "source": [
    "# Print out the feature names expected by the model\n",
    "feature_names = model.feature_names_in_\n",
    "print(f\"Feature names expected by the model: {feature_names}\")"
   ],
   "metadata": {
    "collapsed": false
   }
  },
  {
   "cell_type": "code",
   "execution_count": 893,
   "outputs": [
    {
     "name": "stdout",
     "output_type": "stream",
     "text": [
      "Fetching advanced stats for Los Angeles Lakers...\n",
      "Advanced stats response for Los Angeles Lakers: {'took': 1, 'timed_out': False, '_shards': {'total': 1, 'successful': 1, 'skipped': 0, 'failed': 0}, 'hits': {'total': {'value': 2, 'relation': 'eq'}, 'max_score': 7.121379, 'hits': [{'_index': 'advanced_stats', '_type': '_doc', '_id': '18', '_score': 7.121379, '_source': {'Off_eFGpct': 0.566, 'DRtg': 115.3, 'NRtg': 0.6, 'ORtg': 115.9, 'Off_TOVpct': 12.5, 'Team': 'Los Angeles Lakers'}}, {'_index': 'advanced_stats', '_type': '_doc', '_id': '6', '_score': 4.4468403, '_source': {'Off_eFGpct': 0.561, 'DRtg': 115.4, 'NRtg': 3.4, 'ORtg': 118.8, 'Off_TOVpct': 12.0, 'Team': 'Los Angeles Clippers'}}]}}\n",
      "Fetching clutch stats for Los Angeles Lakers...\n",
      "Clutch stats response for Los Angeles Lakers: {'took': 0, 'timed_out': False, '_shards': {'total': 1, 'successful': 1, 'skipped': 0, 'failed': 0}, 'hits': {'total': {'value': 2, 'relation': 'eq'}, 'max_score': 7.121379, 'hits': [{'_index': 'clutch_stats', '_type': '_doc', '_id': '0', '_score': 7.121379, '_source': {'AST': 1.8, 'TOV': 1.0, 'FGpct': 46.4, 'PTS': 10.8, 'REB': 4.0}}, {'_index': 'clutch_stats', '_type': '_doc', '_id': '9', '_score': 4.4468403, '_source': {'AST': 1.4, 'TOV': 0.8, 'FGpct': 44.1, 'PTS': 7.9, 'REB': 2.7}}]}}\n",
      "Advanced stats found for Los Angeles Lakers.\n",
      "Clutch stats found for Los Angeles Lakers.\n",
      "Fetching advanced stats for Chicago Bulls...\n",
      "Advanced stats response for Chicago Bulls: {'took': 1, 'timed_out': False, '_shards': {'total': 1, 'successful': 1, 'skipped': 0, 'failed': 0}, 'hits': {'total': {'value': 1, 'relation': 'eq'}, 'max_score': 6.3633, 'hits': [{'_index': 'advanced_stats', '_type': '_doc', '_id': '19', '_score': 6.3633, '_source': {'Off_eFGpct': 0.534, 'DRtg': 116.3, 'NRtg': -1.4, 'ORtg': 114.9, 'Off_TOVpct': 11.0, 'Team': 'Chicago Bulls'}}]}}\n",
      "Fetching clutch stats for Chicago Bulls...\n",
      "Clutch stats response for Chicago Bulls: {'took': 1, 'timed_out': False, '_shards': {'total': 1, 'successful': 1, 'skipped': 0, 'failed': 0}, 'hits': {'total': {'value': 1, 'relation': 'eq'}, 'max_score': 6.3633, 'hits': [{'_index': 'clutch_stats', '_type': '_doc', '_id': '5', '_score': 6.3633, '_source': {'AST': 2.3, 'TOV': 1.1, 'FGpct': 48.4, 'PTS': 11.9, 'REB': 4.2}}]}}\n",
      "Advanced stats found for Chicago Bulls.\n",
      "Clutch stats found for Chicago Bulls.\n",
      "Combined team stats: {'Los Angeles Lakers': {'Off_eFGpct': 0.566, 'DRtg': 115.3, 'NRtg': 0.6, 'ORtg': 115.9, 'Off_TOVpct': 12.5, 'Team': 'Los Angeles Lakers', 'clutch_AST': 1.8, 'clutch_TOV': 1.0, 'clutch_FGpct': 46.4, 'clutch_PTS': 10.8, 'clutch_REB': 4.0}, 'Chicago Bulls': {'Off_eFGpct': 0.534, 'DRtg': 116.3, 'NRtg': -1.4, 'ORtg': 114.9, 'Off_TOVpct': 11.0, 'Team': 'Chicago Bulls', 'clutch_AST': 2.3, 'clutch_TOV': 1.1, 'clutch_FGpct': 48.4, 'clutch_PTS': 11.9, 'clutch_REB': 4.2}}\n"
     ]
    }
   ],
   "source": [
    "# Fetch team stats\n",
    "team_names = [\"Los Angeles Lakers\", \"Chicago Bulls\"]\n",
    "team_stats = fetch_team_stats(team_names)"
   ],
   "metadata": {
    "collapsed": false
   }
  },
  {
   "cell_type": "code",
   "execution_count": 891,
   "outputs": [],
   "source": [
    "# Prepare the data for the model\n",
    "def prepare_data_for_model(team_stats, home_team, away_team):\n",
    "    home_stats = team_stats[home_team]\n",
    "    away_stats = team_stats[away_team]\n",
    "\n",
    "    data = {}\n",
    "    for feature in feature_names:\n",
    "        if feature.startswith('home_'):\n",
    "            stat_name = feature.split('home_')[1]\n",
    "            if stat_name.startswith('clutch_'):\n",
    "                stat_name = stat_name.split('clutch_')[1]\n",
    "            data[feature] = [home_stats.get(stat_name, 0)]\n",
    "        elif feature.startswith('away_'):\n",
    "            stat_name = feature.split('away_')[1]\n",
    "            if stat_name.startswith('clutch_'):\n",
    "                stat_name = stat_name.split('clutch_')[1]\n",
    "            data[feature] = [away_stats.get(stat_name, 0)]\n",
    "\n",
    "    return pd.DataFrame(data)"
   ],
   "metadata": {
    "collapsed": false
   }
  },
  {
   "cell_type": "code",
   "execution_count": 894,
   "outputs": [
    {
     "name": "stdout",
     "output_type": "stream",
     "text": [
      "Prediction: [1]\n",
      "Comparison: {'Los Angeles Lakers': 1, 'Chicago Bulls': 'N/A'}\n"
     ]
    }
   ],
   "source": [
    "# Prepare data for the teams\n",
    "home_team = \"Los Angeles Lakers\"\n",
    "away_team = \"Chicago Bulls\"\n",
    "data = prepare_data_for_model(team_stats, home_team, away_team)\n",
    "\n",
    "# Predict using the model\n",
    "prediction = model.predict(data)\n",
    "print(f\"Prediction: {prediction}\")\n",
    "\n",
    "# Compare the predictions\n",
    "comparison = {\n",
    "    home_team: prediction[0],\n",
    "    away_team: prediction[1] if len(prediction) > 1 else \"N/A\"\n",
    "}\n",
    "\n",
    "print(f\"Comparison: {comparison}\")"
   ],
   "metadata": {
    "collapsed": false
   }
  },
  {
   "cell_type": "markdown",
   "source": [
    "#### Helper Method to check indices"
   ],
   "metadata": {
    "collapsed": false
   }
  },
  {
   "cell_type": "code",
   "execution_count": null,
   "outputs": [],
   "source": [
    "complex_queries = [\n",
    "    \"Give me the Offensive Win Shares and Defensive Win Shares for the player with the most minutes played.\",\n",
    "    \"Which player has the highest PER and what are their Win Shares?\",\n",
    "    \"Show me the player with the best True Shooting Percentage and their total minutes played.\",\n",
    "    \"Find the player with the highest Usage Percentage and list their Points and Assists.\",\n",
    "    \"Who has the best Defensive Box Plus-Minus and what is their total Rebounds?\",\n",
    "    \"Give me the player with the highest Box Plus-Minus and their VORP.\"\n",
    "]\n",
    "\n",
    "complex_queries = [\n",
    "    \"Give me the team with the best Margin of Victory and Defensive Rebound Percentage.\",\n",
    "    \"Which Team has the Highest Net Rating and Offensive Rating?\",\n",
    "    \"Show me the team with the top True Shooting Percentage and Effective Field Goal Percentage for Offense.\",\n",
    "    \"Show me the Team which had the lowest Margin of Victory and its True Shooting Percentage\"\n",
    "]"
   ],
   "metadata": {
    "collapsed": false
   }
  },
  {
   "cell_type": "markdown",
   "source": [
    "#### Helper Methods"
   ],
   "metadata": {
    "collapsed": false
   }
  },
  {
   "cell_type": "code",
   "execution_count": 845,
   "outputs": [
    {
     "name": "stdout",
     "output_type": "stream",
     "text": [
      "Index Mappings:\n",
      "{'clutch_stats': {'mappings': {'properties': {'+/-': {'type': 'float'}, '3PA': {'type': 'float'}, '3PM': {'type': 'float'}, '3Ppct': {'type': 'float'}, 'AST': {'type': 'float'}, 'BLK': {'type': 'float'}, 'BLKA': {'type': 'float'}, 'DREB': {'type': 'float'}, 'FGA': {'type': 'float'}, 'FGM': {'type': 'float'}, 'FGpct': {'type': 'float'}, 'FTA': {'type': 'float'}, 'FTM': {'type': 'float'}, 'FTpct': {'type': 'float'}, 'GP': {'type': 'long'}, 'L': {'type': 'long'}, 'MIN': {'type': 'float'}, 'OREB': {'type': 'float'}, 'PF': {'type': 'float'}, 'PFD': {'type': 'float'}, 'PTS': {'type': 'float'}, 'REB': {'type': 'float'}, 'STL': {'type': 'float'}, 'TEAM': {'type': 'text', 'fields': {'keyword': {'type': 'keyword', 'ignore_above': 256}}}, 'TOV': {'type': 'float'}, 'W': {'type': 'long'}, 'WINpct': {'type': 'float'}, 'embedding': {'type': 'float'}, 'text': {'properties': {'+/-': {'type': 'float'}, '3PA': {'type': 'float'}, '3PM': {'type': 'float'}, '3Ppct': {'type': 'float'}, 'AST': {'type': 'float'}, 'BLK': {'type': 'float'}, 'BLKA': {'type': 'float'}, 'DREB': {'type': 'float'}, 'FGA': {'type': 'float'}, 'FGM': {'type': 'float'}, 'FGpct': {'type': 'float'}, 'FTA': {'type': 'float'}, 'FTM': {'type': 'float'}, 'FTpct': {'type': 'float'}, 'GP': {'type': 'long'}, 'L': {'type': 'long'}, 'MIN': {'type': 'float'}, 'OREB': {'type': 'float'}, 'PF': {'type': 'float'}, 'PFD': {'type': 'float'}, 'PTS': {'type': 'float'}, 'REB': {'type': 'float'}, 'STL': {'type': 'float'}, 'TEAM': {'type': 'text', 'fields': {'keyword': {'type': 'keyword', 'ignore_above': 256}}}, 'TOV': {'type': 'float'}, 'W': {'type': 'long'}, 'WINpct': {'type': 'float'}, 'text': {'type': 'text', 'fields': {'keyword': {'type': 'keyword', 'ignore_above': 256}}}}}}}}}\n",
      "Sample Document from Index:\n",
      "{'TEAM': 'Los Angeles Lakers', 'GP': 33, 'W': 24, 'L': 9, 'WINpct': 72.7, 'MIN': 4.4, 'PTS': 10.8, 'FGM': 3.2, 'FGA': 6.8, 'FGpct': 46.4, '3PM': 0.8, '3PA': 2.8, '3Ppct': 27.7, 'FTM': 3.7, 'FTA': 4.4, 'FTpct': 82.9, 'OREB': 0.9, 'DREB': 3.1, 'REB': 4.0, 'AST': 1.8, 'TOV': 1.0, 'STL': 0.5, 'BLK': 0.7, 'BLKA': 0.3, 'PF': 1.6, 'PFD': 3.1, '+/-': 1.0}\n"
     ]
    }
   ],
   "source": [
    "# checking mappings for the chosen index\n",
    "player_index_mappings = es.indices.get_mapping(index='clutch_stats')\n",
    "print(\"Index Mappings:\")\n",
    "print(player_index_mappings)\n",
    "# clutch_stats      player_stats        advanced_stats\n",
    "sample_doc = es.search(index='clutch_stats', size=1)\n",
    "print(\"Sample Document from Index:\")\n",
    "print(sample_doc['hits']['hits'][0]['_source'])"
   ],
   "metadata": {
    "collapsed": false
   }
  },
  {
   "cell_type": "code",
   "execution_count": 458,
   "outputs": [
    {
     "name": "stdout",
     "output_type": "stream",
     "text": [
      "Total number of entries in player_stats index: 337\n",
      "Total entries in player_stats: 337\n"
     ]
    }
   ],
   "source": [
    "def count_entries_in_player_stats_index():\n",
    "    query_body = {\n",
    "        \"query\": {\n",
    "            \"match_all\": {}\n",
    "        }\n",
    "    }\n",
    "    response = es.count(index=\"player_stats\", body=query_body)\n",
    "\n",
    "    print(f\"Total number of entries in player_stats index: {response['count']}\")\n",
    "    return response['count']\n",
    "total_entries = count_entries_in_player_stats_index()\n",
    "print(f\"Total entries in player_stats: {total_entries}\")"
   ],
   "metadata": {
    "collapsed": false
   }
  },
  {
   "cell_type": "code",
   "execution_count": 167,
   "outputs": [],
   "source": [
    "# add in conference functionality -> redundant\n",
    "def get_teams_by_conference(conference, conference_data):\n",
    "    print(f\"Fetching teams for conference: {conference}\")\n",
    "    teams = []\n",
    "    for division, teams_list in conference_data[conference].items():\n",
    "        teams.extend(teams_list)\n",
    "    return teams"
   ],
   "metadata": {
    "collapsed": false
   }
  },
  {
   "cell_type": "code",
   "execution_count": 702,
   "outputs": [
    {
     "name": "stdout",
     "output_type": "stream",
     "text": [
      "Mappings for index advanced_stats: {'advanced_stats': {'mappings': {'properties': {'3PAr': {'type': 'float'}, 'Age': {'type': 'float'}, 'Arena': {'type': 'text', 'fields': {'keyword': {'type': 'keyword', 'ignore_above': 256}}}, 'Attend': {'type': 'long'}, 'Attend/G': {'type': 'long'}, 'DRtg': {'type': 'float'}, 'Def_DRBpct': {'type': 'float'}, 'Def_FT/FGA': {'type': 'float'}, 'Def_TOVpct': {'type': 'float'}, 'Def_eFGpct': {'type': 'float'}, 'FTr': {'type': 'float'}, 'L': {'type': 'long'}, 'MOV': {'type': 'float'}, 'NRtg': {'type': 'float'}, 'ORtg': {'type': 'float'}, 'Off_FT/FGA': {'type': 'float'}, 'Off_ORBpct': {'type': 'float'}, 'Off_TOVpct': {'type': 'float'}, 'Off_eFGpct': {'type': 'float'}, 'PL': {'type': 'long'}, 'PW': {'type': 'long'}, 'Pace': {'type': 'float'}, 'SOS': {'type': 'float'}, 'SRS': {'type': 'float'}, 'TSpct': {'type': 'float'}, 'Team': {'type': 'text', 'fields': {'keyword': {'type': 'keyword', 'ignore_above': 256}}}, 'W': {'type': 'long'}, 'embedding': {'type': 'float'}, 'text': {'properties': {'3PAr': {'type': 'float'}, 'Age': {'type': 'float'}, 'Arena': {'type': 'text', 'fields': {'keyword': {'type': 'keyword', 'ignore_above': 256}}}, 'Attend': {'type': 'long'}, 'Attend/G': {'type': 'long'}, 'DRtg': {'type': 'float'}, 'Def_DRBpct': {'type': 'float'}, 'Def_FT/FGA': {'type': 'float'}, 'Def_TOVpct': {'type': 'float'}, 'Def_eFGpct': {'type': 'float'}, 'FTr': {'type': 'float'}, 'L': {'type': 'long'}, 'MOV': {'type': 'float'}, 'NRtg': {'type': 'float'}, 'ORtg': {'type': 'float'}, 'Off_FT/FGA': {'type': 'float'}, 'Off_ORBpct': {'type': 'float'}, 'Off_TOVpct': {'type': 'float'}, 'Off_eFGpct': {'type': 'float'}, 'PL': {'type': 'long'}, 'PW': {'type': 'long'}, 'Pace': {'type': 'float'}, 'SOS': {'type': 'float'}, 'SRS': {'type': 'float'}, 'TSpct': {'type': 'float'}, 'Team': {'type': 'text', 'fields': {'keyword': {'type': 'keyword', 'ignore_above': 256}}}, 'W': {'type': 'long'}, 'text': {'type': 'text', 'fields': {'keyword': {'type': 'keyword', 'ignore_above': 256}}}}}}}}}\n"
     ]
    }
   ],
   "source": [
    "def print_index_mappings(index_name):\n",
    "    try:\n",
    "        mappings = es.indices.get_mapping(index=index_name)\n",
    "        print(f\"Mappings for index {index_name}: {mappings}\")\n",
    "    except Exception as e:\n",
    "        print(f\"Failed to get mappings for index {index_name}: {e}\")\n",
    "\n",
    "print_index_mappings(index_name_team)"
   ],
   "metadata": {
    "collapsed": false
   }
  },
  {
   "cell_type": "code",
   "execution_count": 833,
   "outputs": [],
   "source": [
    "import joblib"
   ],
   "metadata": {
    "collapsed": false
   }
  },
  {
   "cell_type": "code",
   "execution_count": 834,
   "outputs": [],
   "source": [
    "# Load pre-trained machine learning model\n",
    "model = joblib.load('data/gradient_boosting_model.pkl')\n",
    "\n",
    "def retrieve_documents(query, index='your-index'):\n",
    "    response = es.search(index=index, body={\n",
    "        \"query\": {\n",
    "            \"multi_match\": {\n",
    "                \"query\": query,\n",
    "                \"fields\": [\"title\", \"content\"]\n",
    "            }\n",
    "        }\n",
    "    })\n",
    "    return [hit['_source'] for hit in response['hits']['hits']]\n",
    "\n",
    "def generate_gpt3_response(prompt):\n",
    "    response = openai.ChatCompletion.create(\n",
    "        model=\"gpt-3.5-turbo\",\n",
    "        messages=[\n",
    "            {\"role\": \"system\", \"content\": \"You are a helpful assistant.\"},\n",
    "            {\"role\": \"user\", \"content\": prompt}\n",
    "        ]\n",
    "    )\n",
    "    return response['choices'][0]['message']['content']\n",
    "\n",
    "def make_prediction(features):\n",
    "    # Assuming the model expects a list of features\n",
    "    prediction = model.predict([features])\n",
    "    return prediction[0]\n",
    "\n",
    "def main(query, features):\n",
    "    # Step 1: Retrieve documents from Elasticsearch\n",
    "    documents = retrieve_documents(query)\n",
    "    retrieved_content = ' '.join([doc['content'] for doc in documents])\n",
    "\n",
    "    # Step 2: Generate prompt for GPT-3.5 Turbo\n",
    "    prompt = f\"Using the following documents:\\n{retrieved_content}\\nAnd given the features {features}, what can you tell me about the expected outcome?\"\n",
    "\n",
    "    # Step 3: Make prediction using the ML model\n",
    "    prediction = make_prediction(features)\n",
    "    prompt += f\"\\nThe prediction from the model is: {prediction}\"\n",
    "\n",
    "    # Step 4: Generate response from GPT-3.5 Turbo\n",
    "    response = generate_gpt3_response(prompt)\n",
    "    print(response)"
   ],
   "metadata": {
    "collapsed": false
   }
  },
  {
   "cell_type": "code",
   "execution_count": 838,
   "outputs": [],
   "source": [
    "# Load the model and feature importances\n",
    "gb_model = joblib.load('data/gradient_boosting_model.pkl')\n",
    "feature_importances = joblib.load('data/feature_importances.pkl')\n",
    "\n",
    "# Save the model to a file\n",
    "model_file_path = 'saved_models/gradient_boosting_model.pkl'\n",
    "feature_importances_path = 'saved_models/feature_importances.json'\n",
    "\n",
    "joblib.dump(gb_model, model_file_path)\n",
    "\n",
    "# Save feature importances to a JSON file\n",
    "with open(feature_importances_path, 'w') as f:\n",
    "    json.dump(feature_importances.tolist(), f)"
   ],
   "metadata": {
    "collapsed": false
   }
  },
  {
   "cell_type": "code",
   "execution_count": 839,
   "outputs": [
    {
     "name": "stdout",
     "output_type": "stream",
     "text": [
      "Model file paths indexed successfully.\n"
     ]
    }
   ],
   "source": [
    "# Index the model file paths in Elasticsearch\n",
    "model_doc = {\n",
    "    'model_file_path': model_file_path,\n",
    "    'feature_importances_path': feature_importances_path\n",
    "}\n",
    "\n",
    "# Index the model document\n",
    "es.index(index='models', id='gradient_boosting_model', body=model_doc)\n",
    "\n",
    "print(\"Model file paths indexed successfully.\")"
   ],
   "metadata": {
    "collapsed": false
   }
  },
  {
   "cell_type": "code",
   "execution_count": null,
   "outputs": [],
   "source": [],
   "metadata": {
    "collapsed": false
   }
  }
 ],
 "metadata": {
  "kernelspec": {
   "display_name": "Python 3",
   "language": "python",
   "name": "python3"
  },
  "language_info": {
   "codemirror_mode": {
    "name": "ipython",
    "version": 2
   },
   "file_extension": ".py",
   "mimetype": "text/x-python",
   "name": "python",
   "nbconvert_exporter": "python",
   "pygments_lexer": "ipython2",
   "version": "2.7.6"
  }
 },
 "nbformat": 4,
 "nbformat_minor": 0
}
