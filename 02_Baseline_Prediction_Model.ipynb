{
 "cells": [
  {
   "cell_type": "markdown",
   "source": [
    "### Baseline Model and Improvement for NBA Statistics and RAG Prediction Engine"
   ],
   "metadata": {
    "collapsed": false
   }
  },
  {
   "cell_type": "markdown",
   "source": [
    "#### Imports"
   ],
   "metadata": {
    "collapsed": false
   }
  },
  {
   "cell_type": "code",
   "execution_count": 119,
   "outputs": [],
   "source": [
    "# pandas/numpy for dataframe handling\n",
    "import pandas as pd\n",
    "import numpy as np\n",
    "\n",
    "# display to look at data\n",
    "from IPython.display import display, HTML\n",
    "\n",
    "# pickle for data saving\n",
    "import pickle\n",
    "\n",
    "# Random Forest and Gradient Boosting for Model Building\n",
    "# (Source: Enhancing Basketball Game Outcome Prediction through Fused Graph Convolutional Networks and Random Forest Algorithm (Zhao et al., 2023))\n",
    "from sklearn.ensemble import RandomForestClassifier, GradientBoostingClassifier\n",
    "from sklearn.model_selection import train_test_split, GridSearchCV\n",
    "from sklearn.metrics import accuracy_score, classification_report\n",
    "import joblib\n",
    "\n",
    "from collections import Counter"
   ],
   "metadata": {
    "collapsed": false
   }
  },
  {
   "cell_type": "markdown",
   "source": [
    "#### Filepaths\n",
    "\n",
    "Loading relevant data which was scraped from various sources like basketball-reference and nba.com"
   ],
   "metadata": {
    "collapsed": false
   }
  },
  {
   "cell_type": "code",
   "execution_count": 102,
   "outputs": [],
   "source": [
    "nba_data_path = 'data/NBA_2024_cleaned_results.csv'\n",
    "advanced_stats_path = 'data/advanced_team_stats_2024.csv'\n",
    "clutch_stats_path = 'data/clutch_team_stats_2024.csv'\n",
    "nba_data = pd.read_csv(nba_data_path)\n",
    "advanced_stats = pd.read_csv(advanced_stats_path)\n",
    "clutch_stats = pd.read_csv(clutch_stats_path)"
   ],
   "metadata": {
    "collapsed": false
   }
  },
  {
   "cell_type": "markdown",
   "source": [
    "#### Label data\n",
    "using the cleaned results and passing game_id, home_team, away_team, home_win (binary) and point differential"
   ],
   "metadata": {
    "collapsed": false
   }
  },
  {
   "cell_type": "code",
   "execution_count": 103,
   "outputs": [],
   "source": [
    "# game_id column\n",
    "nba_data['game_id'] = nba_data.index + 1\n",
    "\n",
    "# home_win column: 1 if home team won, 0 if away team won\n",
    "nba_data['home_win'] = (nba_data['Home Team'] == nba_data['Winner']).astype(int)\n",
    "\n",
    "# renaming columns for better understanding\n",
    "labeled_data = nba_data[['game_id', 'Home Team', 'Away Team', 'home_win', 'Point Differential']]\n",
    "labeled_data.columns = ['game_id', 'home_team', 'away_team', 'home_win', 'point_differential']"
   ],
   "metadata": {
    "collapsed": false
   }
  },
  {
   "cell_type": "markdown",
   "source": [
    "After running feature importances with radient forest decided on these statistics"
   ],
   "metadata": {
    "collapsed": false
   }
  },
  {
   "cell_type": "code",
   "execution_count": 104,
   "outputs": [],
   "source": [
    "# for advanced stats\n",
    "advanced_stats_selected = advanced_stats[['Team', 'ORtg', 'DRtg', 'NRtg', 'Off_eFGpct', 'Off_TOVpct', 'Def_DRBpct']]\n",
    "\n",
    "# for clutch stats\n",
    "clutch_stats_selected = clutch_stats[['TEAM', 'PTS', 'FGpct', 'REB', 'AST', 'TOV']]\n",
    "\n",
    "# renaming the columns to avoid conflicts when merging\n",
    "advanced_stats_selected.columns = ['team', 'ORtg', 'DRtg', 'NRtg', 'Off_eFG%', 'Off_TOV%', 'Def_DRB%']\n",
    "clutch_stats_selected.columns = ['team', 'clutch_PTS', 'clutch_FG%', 'clutch_REB', 'clutch_AST', 'clutch_TOV']"
   ],
   "metadata": {
    "collapsed": false
   }
  },
  {
   "cell_type": "markdown",
   "source": [
    "#### Merging Datasets\n",
    "merge the datasets on the Team column and since we have a couple of duplicate columns I used a feature importance beforehand (randomforest) and dropped the ones with lower values\n",
    "fixing the label data as well and merge it with the main data"
   ],
   "metadata": {
    "collapsed": false
   }
  },
  {
   "cell_type": "code",
   "execution_count": 106,
   "outputs": [],
   "source": [
    "# merging data\n",
    "team_stats = pd.merge(advanced_stats_selected, clutch_stats_selected, on='team')"
   ],
   "metadata": {
    "collapsed": false
   }
  },
  {
   "cell_type": "code",
   "execution_count": 107,
   "outputs": [],
   "source": [
    "# add labeled data for both home and away teams\n",
    "labeled_data = labeled_data.merge(team_stats, left_on='home_team', right_on='team', suffixes=('', '_home')).drop(columns=['team'])\n",
    "labeled_data = labeled_data.merge(team_stats, left_on='away_team', right_on='team', suffixes=('', '_away')).drop(columns=['team'])"
   ],
   "metadata": {
    "collapsed": false
   }
  },
  {
   "cell_type": "code",
   "execution_count": 109,
   "outputs": [],
   "source": [
    "# rename the data to allow for knowing which team has which stats\n",
    "# Rename columns to indicate home and away team stats\n",
    "labeled_data.columns = [\n",
    "    'game_id', 'home_team', 'away_team', 'home_win', 'point_differential',\n",
    "    'home_ORtg', 'home_DRtg', 'home_NRtg', 'home_Off_eFG%', 'home_Off_TOV%', 'home_Def_DRB%',\n",
    "    'home_clutch_PTS', 'home_clutch_FG%', 'home_clutch_REB', 'home_clutch_AST', 'home_clutch_TOV',\n",
    "    'away_ORtg', 'away_DRtg', 'away_NRtg', 'away_Off_eFG%', 'away_Off_TOV%', 'away_Def_DRB%',\n",
    "    'away_clutch_PTS', 'away_clutch_FG%', 'away_clutch_REB', 'away_clutch_AST', 'away_clutch_TOV'\n",
    "]"
   ],
   "metadata": {
    "collapsed": false
   }
  },
  {
   "cell_type": "markdown",
   "source": [
    "#### Descriptive Stats to get an overview over the data"
   ],
   "metadata": {
    "collapsed": false
   }
  },
  {
   "cell_type": "code",
   "execution_count": 111,
   "outputs": [],
   "source": [
    "# descriptive statistics for advanced stats\n",
    "team_stats_numeric = team_stats.select_dtypes(include=[float, int])\n",
    "team_stats_description = team_stats_numeric.describe()\n",
    "team_stats_correlation = team_stats_numeric.corr()\n",
    "\n",
    "# descriptive stats for clutch statistical analysis\n",
    "labeled_data_numeric = labeled_data.select_dtypes(include=[float, int])\n",
    "labeled_data_description = labeled_data_numeric.describe()\n",
    "labeled_data_correlation = labeled_data_numeric.corr()"
   ],
   "metadata": {
    "collapsed": false
   }
  },
  {
   "cell_type": "code",
   "execution_count": 112,
   "outputs": [
    {
     "data": {
      "text/plain": "<IPython.core.display.HTML object>",
      "text/html": "<h2>Advanced Stats Description</h2><table border=\"1\" class=\"dataframe\">\n  <thead>\n    <tr style=\"text-align: right;\">\n      <th></th>\n      <th>ORtg</th>\n      <th>DRtg</th>\n      <th>NRtg</th>\n      <th>Off_eFG%</th>\n      <th>Off_TOV%</th>\n      <th>Def_DRB%</th>\n      <th>clutch_PTS</th>\n      <th>clutch_FG%</th>\n      <th>clutch_REB</th>\n      <th>clutch_AST</th>\n      <th>clutch_TOV</th>\n    </tr>\n  </thead>\n  <tbody>\n    <tr>\n      <th>count</th>\n      <td>30.000000</td>\n      <td>30.000000</td>\n      <td>30.000000</td>\n      <td>30.000000</td>\n      <td>30.000000</td>\n      <td>30.000000</td>\n      <td>30.000000</td>\n      <td>30.000000</td>\n      <td>30.000000</td>\n      <td>30.000000</td>\n      <td>30.000000</td>\n    </tr>\n    <tr>\n      <th>mean</th>\n      <td>115.283333</td>\n      <td>115.256667</td>\n      <td>0.026667</td>\n      <td>0.546500</td>\n      <td>12.146667</td>\n      <td>75.760000</td>\n      <td>8.573333</td>\n      <td>43.790000</td>\n      <td>3.300000</td>\n      <td>1.540000</td>\n      <td>0.950000</td>\n    </tr>\n    <tr>\n      <th>std</th>\n      <td>3.877973</td>\n      <td>2.872423</td>\n      <td>5.619052</td>\n      <td>0.019273</td>\n      <td>0.883853</td>\n      <td>1.417282</td>\n      <td>1.380888</td>\n      <td>4.297902</td>\n      <td>0.492705</td>\n      <td>0.328634</td>\n      <td>0.225526</td>\n    </tr>\n    <tr>\n      <th>min</th>\n      <td>107.200000</td>\n      <td>109.000000</td>\n      <td>-10.500000</td>\n      <td>0.503000</td>\n      <td>10.700000</td>\n      <td>72.500000</td>\n      <td>5.500000</td>\n      <td>35.400000</td>\n      <td>2.600000</td>\n      <td>0.900000</td>\n      <td>0.500000</td>\n    </tr>\n    <tr>\n      <th>25%</th>\n      <td>113.250000</td>\n      <td>113.100000</td>\n      <td>-4.400000</td>\n      <td>0.532500</td>\n      <td>11.500000</td>\n      <td>74.800000</td>\n      <td>7.900000</td>\n      <td>40.975000</td>\n      <td>2.900000</td>\n      <td>1.425000</td>\n      <td>0.800000</td>\n    </tr>\n    <tr>\n      <th>50%</th>\n      <td>115.750000</td>\n      <td>115.250000</td>\n      <td>1.950000</td>\n      <td>0.540500</td>\n      <td>11.950000</td>\n      <td>76.000000</td>\n      <td>8.450000</td>\n      <td>44.150000</td>\n      <td>3.200000</td>\n      <td>1.600000</td>\n      <td>0.900000</td>\n    </tr>\n    <tr>\n      <th>75%</th>\n      <td>117.750000</td>\n      <td>117.225000</td>\n      <td>3.075000</td>\n      <td>0.561750</td>\n      <td>12.900000</td>\n      <td>76.775000</td>\n      <td>9.375000</td>\n      <td>46.075000</td>\n      <td>3.700000</td>\n      <td>1.800000</td>\n      <td>1.100000</td>\n    </tr>\n    <tr>\n      <th>max</th>\n      <td>123.200000</td>\n      <td>120.400000</td>\n      <td>11.600000</td>\n      <td>0.578000</td>\n      <td>13.600000</td>\n      <td>78.400000</td>\n      <td>11.900000</td>\n      <td>53.000000</td>\n      <td>4.200000</td>\n      <td>2.300000</td>\n      <td>1.600000</td>\n    </tr>\n  </tbody>\n</table>"
     },
     "metadata": {},
     "output_type": "display_data"
    },
    {
     "data": {
      "text/plain": "<IPython.core.display.HTML object>",
      "text/html": "<h2>Advanced Stats Correlation</h2><table border=\"1\" class=\"dataframe\">\n  <thead>\n    <tr style=\"text-align: right;\">\n      <th></th>\n      <th>ORtg</th>\n      <th>DRtg</th>\n      <th>NRtg</th>\n      <th>Off_eFG%</th>\n      <th>Off_TOV%</th>\n      <th>Def_DRB%</th>\n      <th>clutch_PTS</th>\n      <th>clutch_FG%</th>\n      <th>clutch_REB</th>\n      <th>clutch_AST</th>\n      <th>clutch_TOV</th>\n    </tr>\n  </thead>\n  <tbody>\n    <tr>\n      <th>ORtg</th>\n      <td>1.000000</td>\n      <td>-0.371852</td>\n      <td>0.880236</td>\n      <td>0.858327</td>\n      <td>-0.624016</td>\n      <td>0.121526</td>\n      <td>0.362254</td>\n      <td>0.450266</td>\n      <td>-0.157191</td>\n      <td>0.240810</td>\n      <td>-0.476088</td>\n    </tr>\n    <tr>\n      <th>DRtg</th>\n      <td>-0.371852</td>\n      <td>1.000000</td>\n      <td>-0.767826</td>\n      <td>-0.352839</td>\n      <td>0.211757</td>\n      <td>-0.467576</td>\n      <td>-0.078108</td>\n      <td>-0.117098</td>\n      <td>0.069197</td>\n      <td>-0.048146</td>\n      <td>0.163150</td>\n    </tr>\n    <tr>\n      <th>NRtg</th>\n      <td>0.880236</td>\n      <td>-0.767826</td>\n      <td>1.000000</td>\n      <td>0.772741</td>\n      <td>-0.538912</td>\n      <td>0.322893</td>\n      <td>0.289937</td>\n      <td>0.370610</td>\n      <td>-0.143858</td>\n      <td>0.190806</td>\n      <td>-0.411972</td>\n    </tr>\n    <tr>\n      <th>Off_eFG%</th>\n      <td>0.858327</td>\n      <td>-0.352839</td>\n      <td>0.772741</td>\n      <td>1.000000</td>\n      <td>-0.400819</td>\n      <td>0.143664</td>\n      <td>0.210940</td>\n      <td>0.408369</td>\n      <td>-0.274535</td>\n      <td>0.187288</td>\n      <td>-0.389139</td>\n    </tr>\n    <tr>\n      <th>Off_TOV%</th>\n      <td>-0.624016</td>\n      <td>0.211757</td>\n      <td>-0.538912</td>\n      <td>-0.400819</td>\n      <td>1.000000</td>\n      <td>0.048063</td>\n      <td>-0.418502</td>\n      <td>-0.399373</td>\n      <td>0.085518</td>\n      <td>-0.231022</td>\n      <td>0.491296</td>\n    </tr>\n    <tr>\n      <th>Def_DRB%</th>\n      <td>0.121526</td>\n      <td>-0.467576</td>\n      <td>0.322893</td>\n      <td>0.143664</td>\n      <td>0.048063</td>\n      <td>1.000000</td>\n      <td>0.112904</td>\n      <td>-0.231997</td>\n      <td>0.210362</td>\n      <td>0.025024</td>\n      <td>0.003236</td>\n    </tr>\n    <tr>\n      <th>clutch_PTS</th>\n      <td>0.362254</td>\n      <td>-0.078108</td>\n      <td>0.289937</td>\n      <td>0.210940</td>\n      <td>-0.418502</td>\n      <td>0.112904</td>\n      <td>1.000000</td>\n      <td>0.647843</td>\n      <td>0.650761</td>\n      <td>0.803321</td>\n      <td>0.116262</td>\n    </tr>\n    <tr>\n      <th>clutch_FG%</th>\n      <td>0.450266</td>\n      <td>-0.117098</td>\n      <td>0.370610</td>\n      <td>0.408369</td>\n      <td>-0.399373</td>\n      <td>-0.231997</td>\n      <td>0.647843</td>\n      <td>1.000000</td>\n      <td>0.107799</td>\n      <td>0.702187</td>\n      <td>0.054964</td>\n    </tr>\n    <tr>\n      <th>clutch_REB</th>\n      <td>-0.157191</td>\n      <td>0.069197</td>\n      <td>-0.143858</td>\n      <td>-0.274535</td>\n      <td>0.085518</td>\n      <td>0.210362</td>\n      <td>0.650761</td>\n      <td>0.107799</td>\n      <td>1.000000</td>\n      <td>0.432314</td>\n      <td>0.502728</td>\n    </tr>\n    <tr>\n      <th>clutch_AST</th>\n      <td>0.240810</td>\n      <td>-0.048146</td>\n      <td>0.190806</td>\n      <td>0.187288</td>\n      <td>-0.231022</td>\n      <td>0.025024</td>\n      <td>0.803321</td>\n      <td>0.702187</td>\n      <td>0.432314</td>\n      <td>1.000000</td>\n      <td>0.209366</td>\n    </tr>\n    <tr>\n      <th>clutch_TOV</th>\n      <td>-0.476088</td>\n      <td>0.163150</td>\n      <td>-0.411972</td>\n      <td>-0.389139</td>\n      <td>0.491296</td>\n      <td>0.003236</td>\n      <td>0.116262</td>\n      <td>0.054964</td>\n      <td>0.502728</td>\n      <td>0.209366</td>\n      <td>1.000000</td>\n    </tr>\n  </tbody>\n</table>"
     },
     "metadata": {},
     "output_type": "display_data"
    },
    {
     "data": {
      "text/plain": "<IPython.core.display.HTML object>",
      "text/html": "<h2>Label Data Stats Description</h2><table border=\"1\" class=\"dataframe\">\n  <thead>\n    <tr style=\"text-align: right;\">\n      <th></th>\n      <th>game_id</th>\n      <th>home_win</th>\n      <th>point_differential</th>\n      <th>home_ORtg</th>\n      <th>home_DRtg</th>\n      <th>home_NRtg</th>\n      <th>home_Off_eFG%</th>\n      <th>home_Off_TOV%</th>\n      <th>home_Def_DRB%</th>\n      <th>home_clutch_PTS</th>\n      <th>home_clutch_FG%</th>\n      <th>home_clutch_REB</th>\n      <th>home_clutch_AST</th>\n      <th>home_clutch_TOV</th>\n      <th>away_ORtg</th>\n      <th>away_DRtg</th>\n      <th>away_NRtg</th>\n      <th>away_Off_eFG%</th>\n      <th>away_Off_TOV%</th>\n      <th>away_Def_DRB%</th>\n      <th>away_clutch_PTS</th>\n      <th>away_clutch_FG%</th>\n      <th>away_clutch_REB</th>\n      <th>away_clutch_AST</th>\n      <th>away_clutch_TOV</th>\n    </tr>\n  </thead>\n  <tbody>\n    <tr>\n      <th>count</th>\n      <td>1237.00000</td>\n      <td>1237.000000</td>\n      <td>1237.000000</td>\n      <td>1237.000000</td>\n      <td>1237.000000</td>\n      <td>1237.000000</td>\n      <td>1237.000000</td>\n      <td>1237.000000</td>\n      <td>1237.000000</td>\n      <td>1237.000000</td>\n      <td>1237.000000</td>\n      <td>1237.000000</td>\n      <td>1237.000000</td>\n      <td>1237.000000</td>\n      <td>1237.000000</td>\n      <td>1237.000000</td>\n      <td>1237.000000</td>\n      <td>1237.000000</td>\n      <td>1237.000000</td>\n      <td>1237.000000</td>\n      <td>1237.000000</td>\n      <td>1237.000000</td>\n      <td>1237.000000</td>\n      <td>1237.000000</td>\n      <td>1237.000000</td>\n    </tr>\n    <tr>\n      <th>mean</th>\n      <td>619.00000</td>\n      <td>0.544867</td>\n      <td>12.582053</td>\n      <td>115.294341</td>\n      <td>115.249555</td>\n      <td>0.044786</td>\n      <td>0.546554</td>\n      <td>12.142441</td>\n      <td>75.764915</td>\n      <td>8.582053</td>\n      <td>43.802264</td>\n      <td>3.301859</td>\n      <td>1.541552</td>\n      <td>0.950364</td>\n      <td>115.286176</td>\n      <td>115.261035</td>\n      <td>0.025141</td>\n      <td>0.546494</td>\n      <td>12.145432</td>\n      <td>75.764026</td>\n      <td>8.571140</td>\n      <td>43.783266</td>\n      <td>3.299192</td>\n      <td>1.539208</td>\n      <td>0.949960</td>\n    </tr>\n    <tr>\n      <th>std</th>\n      <td>357.23545</td>\n      <td>0.498184</td>\n      <td>9.521349</td>\n      <td>3.802533</td>\n      <td>2.818112</td>\n      <td>5.508320</td>\n      <td>0.018934</td>\n      <td>0.868210</td>\n      <td>1.394823</td>\n      <td>1.361301</td>\n      <td>4.218590</td>\n      <td>0.485690</td>\n      <td>0.323217</td>\n      <td>0.221448</td>\n      <td>3.811286</td>\n      <td>2.824870</td>\n      <td>5.520356</td>\n      <td>0.018936</td>\n      <td>0.868976</td>\n      <td>1.395192</td>\n      <td>1.361235</td>\n      <td>4.234576</td>\n      <td>0.485834</td>\n      <td>0.324472</td>\n      <td>0.221594</td>\n    </tr>\n    <tr>\n      <th>min</th>\n      <td>1.00000</td>\n      <td>0.000000</td>\n      <td>1.000000</td>\n      <td>107.200000</td>\n      <td>109.000000</td>\n      <td>-10.500000</td>\n      <td>0.503000</td>\n      <td>10.700000</td>\n      <td>72.500000</td>\n      <td>5.500000</td>\n      <td>35.400000</td>\n      <td>2.600000</td>\n      <td>0.900000</td>\n      <td>0.500000</td>\n      <td>107.200000</td>\n      <td>109.000000</td>\n      <td>-10.500000</td>\n      <td>0.503000</td>\n      <td>10.700000</td>\n      <td>72.500000</td>\n      <td>5.500000</td>\n      <td>35.400000</td>\n      <td>2.600000</td>\n      <td>0.900000</td>\n      <td>0.500000</td>\n    </tr>\n    <tr>\n      <th>25%</th>\n      <td>310.00000</td>\n      <td>0.000000</td>\n      <td>6.000000</td>\n      <td>113.200000</td>\n      <td>113.000000</td>\n      <td>-4.900000</td>\n      <td>0.532000</td>\n      <td>11.500000</td>\n      <td>74.800000</td>\n      <td>7.900000</td>\n      <td>40.700000</td>\n      <td>2.900000</td>\n      <td>1.400000</td>\n      <td>0.800000</td>\n      <td>113.200000</td>\n      <td>113.000000</td>\n      <td>-4.900000</td>\n      <td>0.532000</td>\n      <td>11.500000</td>\n      <td>74.800000</td>\n      <td>7.900000</td>\n      <td>40.700000</td>\n      <td>2.900000</td>\n      <td>1.400000</td>\n      <td>0.800000</td>\n    </tr>\n    <tr>\n      <th>50%</th>\n      <td>619.00000</td>\n      <td>1.000000</td>\n      <td>10.000000</td>\n      <td>115.900000</td>\n      <td>115.200000</td>\n      <td>1.800000</td>\n      <td>0.541000</td>\n      <td>11.900000</td>\n      <td>76.000000</td>\n      <td>8.500000</td>\n      <td>44.200000</td>\n      <td>3.200000</td>\n      <td>1.600000</td>\n      <td>0.900000</td>\n      <td>115.900000</td>\n      <td>115.200000</td>\n      <td>1.800000</td>\n      <td>0.540000</td>\n      <td>11.900000</td>\n      <td>76.000000</td>\n      <td>8.400000</td>\n      <td>44.200000</td>\n      <td>3.200000</td>\n      <td>1.600000</td>\n      <td>0.900000</td>\n    </tr>\n    <tr>\n      <th>75%</th>\n      <td>928.00000</td>\n      <td>1.000000</td>\n      <td>17.000000</td>\n      <td>117.800000</td>\n      <td>117.500000</td>\n      <td>3.100000</td>\n      <td>0.562000</td>\n      <td>13.000000</td>\n      <td>76.900000</td>\n      <td>9.400000</td>\n      <td>46.200000</td>\n      <td>3.700000</td>\n      <td>1.800000</td>\n      <td>1.100000</td>\n      <td>117.800000</td>\n      <td>117.500000</td>\n      <td>3.100000</td>\n      <td>0.562000</td>\n      <td>13.000000</td>\n      <td>76.900000</td>\n      <td>9.400000</td>\n      <td>46.200000</td>\n      <td>3.700000</td>\n      <td>1.800000</td>\n      <td>1.100000</td>\n    </tr>\n    <tr>\n      <th>max</th>\n      <td>1237.00000</td>\n      <td>1.000000</td>\n      <td>62.000000</td>\n      <td>123.200000</td>\n      <td>120.400000</td>\n      <td>11.600000</td>\n      <td>0.578000</td>\n      <td>13.600000</td>\n      <td>78.400000</td>\n      <td>11.900000</td>\n      <td>53.000000</td>\n      <td>4.200000</td>\n      <td>2.300000</td>\n      <td>1.600000</td>\n      <td>123.200000</td>\n      <td>120.400000</td>\n      <td>11.600000</td>\n      <td>0.578000</td>\n      <td>13.600000</td>\n      <td>78.400000</td>\n      <td>11.900000</td>\n      <td>53.000000</td>\n      <td>4.200000</td>\n      <td>2.300000</td>\n      <td>1.600000</td>\n    </tr>\n  </tbody>\n</table>"
     },
     "metadata": {},
     "output_type": "display_data"
    },
    {
     "data": {
      "text/plain": "<IPython.core.display.HTML object>",
      "text/html": "<h2>Label Data Stats Correlation</h2><table border=\"1\" class=\"dataframe\">\n  <thead>\n    <tr style=\"text-align: right;\">\n      <th></th>\n      <th>game_id</th>\n      <th>home_win</th>\n      <th>point_differential</th>\n      <th>home_ORtg</th>\n      <th>home_DRtg</th>\n      <th>home_NRtg</th>\n      <th>home_Off_eFG%</th>\n      <th>home_Off_TOV%</th>\n      <th>home_Def_DRB%</th>\n      <th>home_clutch_PTS</th>\n      <th>home_clutch_FG%</th>\n      <th>home_clutch_REB</th>\n      <th>home_clutch_AST</th>\n      <th>home_clutch_TOV</th>\n      <th>away_ORtg</th>\n      <th>away_DRtg</th>\n      <th>away_NRtg</th>\n      <th>away_Off_eFG%</th>\n      <th>away_Off_TOV%</th>\n      <th>away_Def_DRB%</th>\n      <th>away_clutch_PTS</th>\n      <th>away_clutch_FG%</th>\n      <th>away_clutch_REB</th>\n      <th>away_clutch_AST</th>\n      <th>away_clutch_TOV</th>\n    </tr>\n  </thead>\n  <tbody>\n    <tr>\n      <th>game_id</th>\n      <td>1.000000</td>\n      <td>-0.049793</td>\n      <td>0.054916</td>\n      <td>-0.019225</td>\n      <td>-0.005138</td>\n      <td>-0.010642</td>\n      <td>-0.020283</td>\n      <td>0.014538</td>\n      <td>0.002695</td>\n      <td>-0.021484</td>\n      <td>-0.021955</td>\n      <td>0.009050</td>\n      <td>-0.026994</td>\n      <td>0.022089</td>\n      <td>0.018209</td>\n      <td>-0.000927</td>\n      <td>0.013046</td>\n      <td>0.013035</td>\n      <td>-0.025620</td>\n      <td>0.004845</td>\n      <td>0.015794</td>\n      <td>0.013490</td>\n      <td>-0.016662</td>\n      <td>0.021798</td>\n      <td>-0.024414</td>\n    </tr>\n    <tr>\n      <th>home_win</th>\n      <td>-0.049793</td>\n      <td>1.000000</td>\n      <td>0.112692</td>\n      <td>0.325576</td>\n      <td>-0.254946</td>\n      <td>0.355186</td>\n      <td>0.285092</td>\n      <td>-0.196417</td>\n      <td>0.119747</td>\n      <td>0.175962</td>\n      <td>0.172610</td>\n      <td>0.014200</td>\n      <td>0.120056</td>\n      <td>-0.136004</td>\n      <td>-0.228216</td>\n      <td>0.229996</td>\n      <td>-0.275255</td>\n      <td>-0.211227</td>\n      <td>0.133585</td>\n      <td>-0.085268</td>\n      <td>-0.056608</td>\n      <td>-0.112876</td>\n      <td>0.081713</td>\n      <td>-0.040171</td>\n      <td>0.107933</td>\n    </tr>\n    <tr>\n      <th>point_differential</th>\n      <td>0.054916</td>\n      <td>0.112692</td>\n      <td>1.000000</td>\n      <td>0.071227</td>\n      <td>-0.078903</td>\n      <td>0.089537</td>\n      <td>0.064408</td>\n      <td>-0.088482</td>\n      <td>-0.000325</td>\n      <td>0.032722</td>\n      <td>0.070031</td>\n      <td>0.003527</td>\n      <td>0.015769</td>\n      <td>-0.032870</td>\n      <td>-0.056939</td>\n      <td>0.100350</td>\n      <td>-0.090662</td>\n      <td>-0.040308</td>\n      <td>0.060988</td>\n      <td>-0.059217</td>\n      <td>-0.027474</td>\n      <td>0.003376</td>\n      <td>-0.000178</td>\n      <td>-0.014987</td>\n      <td>0.056457</td>\n    </tr>\n    <tr>\n      <th>home_ORtg</th>\n      <td>-0.019225</td>\n      <td>0.325576</td>\n      <td>0.071227</td>\n      <td>1.000000</td>\n      <td>-0.370502</td>\n      <td>0.879878</td>\n      <td>0.857224</td>\n      <td>-0.622470</td>\n      <td>0.123377</td>\n      <td>0.359437</td>\n      <td>0.448785</td>\n      <td>-0.157198</td>\n      <td>0.239136</td>\n      <td>-0.475291</td>\n      <td>-0.029167</td>\n      <td>0.016032</td>\n      <td>-0.028341</td>\n      <td>-0.023880</td>\n      <td>0.036007</td>\n      <td>0.001375</td>\n      <td>-0.012972</td>\n      <td>-0.014621</td>\n      <td>0.015470</td>\n      <td>-0.013177</td>\n      <td>0.024599</td>\n    </tr>\n    <tr>\n      <th>home_DRtg</th>\n      <td>-0.005138</td>\n      <td>-0.254946</td>\n      <td>-0.078903</td>\n      <td>-0.370502</td>\n      <td>1.000000</td>\n      <td>-0.767377</td>\n      <td>-0.350744</td>\n      <td>0.210701</td>\n      <td>-0.468273</td>\n      <td>-0.073333</td>\n      <td>-0.113585</td>\n      <td>0.071906</td>\n      <td>-0.043788</td>\n      <td>0.163536</td>\n      <td>0.023994</td>\n      <td>-0.037250</td>\n      <td>0.035627</td>\n      <td>0.021153</td>\n      <td>-0.027060</td>\n      <td>0.011378</td>\n      <td>-0.009033</td>\n      <td>-0.011631</td>\n      <td>-0.014898</td>\n      <td>-0.017850</td>\n      <td>-0.029426</td>\n    </tr>\n    <tr>\n      <th>home_NRtg</th>\n      <td>-0.010642</td>\n      <td>0.355186</td>\n      <td>0.089537</td>\n      <td>0.879878</td>\n      <td>-0.767377</td>\n      <td>1.000000</td>\n      <td>0.771207</td>\n      <td>-0.537503</td>\n      <td>0.324743</td>\n      <td>0.285646</td>\n      <td>0.367919</td>\n      <td>-0.145305</td>\n      <td>0.187484</td>\n      <td>-0.411772</td>\n      <td>-0.032410</td>\n      <td>0.030125</td>\n      <td>-0.037792</td>\n      <td>-0.027307</td>\n      <td>0.038701</td>\n      <td>-0.004872</td>\n      <td>-0.004333</td>\n      <td>-0.004143</td>\n      <td>0.018301</td>\n      <td>0.000035</td>\n      <td>0.032036</td>\n    </tr>\n    <tr>\n      <th>home_Off_eFG%</th>\n      <td>-0.020283</td>\n      <td>0.285092</td>\n      <td>0.064408</td>\n      <td>0.857224</td>\n      <td>-0.350744</td>\n      <td>0.771207</td>\n      <td>1.000000</td>\n      <td>-0.396701</td>\n      <td>0.146334</td>\n      <td>0.210083</td>\n      <td>0.407113</td>\n      <td>-0.271953</td>\n      <td>0.185978</td>\n      <td>-0.387275</td>\n      <td>-0.020558</td>\n      <td>0.006290</td>\n      <td>-0.017412</td>\n      <td>-0.024036</td>\n      <td>0.028869</td>\n      <td>-0.000596</td>\n      <td>0.001437</td>\n      <td>-0.002372</td>\n      <td>0.019196</td>\n      <td>0.001665</td>\n      <td>0.026973</td>\n    </tr>\n    <tr>\n      <th>home_Off_TOV%</th>\n      <td>0.014538</td>\n      <td>-0.196417</td>\n      <td>-0.088482</td>\n      <td>-0.622470</td>\n      <td>0.210701</td>\n      <td>-0.537503</td>\n      <td>-0.396701</td>\n      <td>1.000000</td>\n      <td>0.045031</td>\n      <td>-0.415874</td>\n      <td>-0.396704</td>\n      <td>0.085078</td>\n      <td>-0.230164</td>\n      <td>0.489637</td>\n      <td>0.017559</td>\n      <td>-0.030176</td>\n      <td>0.027564</td>\n      <td>0.020151</td>\n      <td>-0.021582</td>\n      <td>-0.007575</td>\n      <td>0.030454</td>\n      <td>0.045821</td>\n      <td>-0.012981</td>\n      <td>0.050580</td>\n      <td>0.000535</td>\n    </tr>\n    <tr>\n      <th>home_Def_DRB%</th>\n      <td>0.002695</td>\n      <td>0.119747</td>\n      <td>-0.000325</td>\n      <td>0.123377</td>\n      <td>-0.468273</td>\n      <td>0.324743</td>\n      <td>0.146334</td>\n      <td>0.045031</td>\n      <td>1.000000</td>\n      <td>0.115089</td>\n      <td>-0.230358</td>\n      <td>0.211017</td>\n      <td>0.026566</td>\n      <td>0.005044</td>\n      <td>-0.006325</td>\n      <td>0.026531</td>\n      <td>-0.017943</td>\n      <td>-0.002682</td>\n      <td>-0.002315</td>\n      <td>-0.036033</td>\n      <td>-0.001642</td>\n      <td>0.013982</td>\n      <td>-0.011050</td>\n      <td>0.003185</td>\n      <td>0.004079</td>\n    </tr>\n    <tr>\n      <th>home_clutch_PTS</th>\n      <td>-0.021484</td>\n      <td>0.175962</td>\n      <td>0.032722</td>\n      <td>0.359437</td>\n      <td>-0.073333</td>\n      <td>0.285646</td>\n      <td>0.210083</td>\n      <td>-0.415874</td>\n      <td>0.115089</td>\n      <td>1.000000</td>\n      <td>0.646302</td>\n      <td>0.653692</td>\n      <td>0.803594</td>\n      <td>0.117762</td>\n      <td>0.012366</td>\n      <td>-0.003853</td>\n      <td>0.010510</td>\n      <td>0.012133</td>\n      <td>0.015080</td>\n      <td>-0.008038</td>\n      <td>-0.051472</td>\n      <td>-0.018737</td>\n      <td>-0.046948</td>\n      <td>-0.039857</td>\n      <td>-0.022022</td>\n    </tr>\n    <tr>\n      <th>home_clutch_FG%</th>\n      <td>-0.021955</td>\n      <td>0.172610</td>\n      <td>0.070031</td>\n      <td>0.448785</td>\n      <td>-0.113585</td>\n      <td>0.367919</td>\n      <td>0.407113</td>\n      <td>-0.396704</td>\n      <td>-0.230358</td>\n      <td>0.646302</td>\n      <td>1.000000</td>\n      <td>0.109823</td>\n      <td>0.702098</td>\n      <td>0.056803</td>\n      <td>0.004686</td>\n      <td>-0.014077</td>\n      <td>0.010439</td>\n      <td>0.008260</td>\n      <td>0.032225</td>\n      <td>0.006437</td>\n      <td>-0.017444</td>\n      <td>-0.010488</td>\n      <td>-0.013476</td>\n      <td>-0.002169</td>\n      <td>0.004648</td>\n    </tr>\n    <tr>\n      <th>home_clutch_REB</th>\n      <td>0.009050</td>\n      <td>0.014200</td>\n      <td>0.003527</td>\n      <td>-0.157198</td>\n      <td>0.071906</td>\n      <td>-0.145305</td>\n      <td>-0.271953</td>\n      <td>0.085078</td>\n      <td>0.211017</td>\n      <td>0.653692</td>\n      <td>0.109823</td>\n      <td>1.000000</td>\n      <td>0.434798</td>\n      <td>0.502221</td>\n      <td>0.020434</td>\n      <td>-0.002465</td>\n      <td>0.015369</td>\n      <td>0.017441</td>\n      <td>-0.016495</td>\n      <td>-0.015614</td>\n      <td>-0.045417</td>\n      <td>-0.012207</td>\n      <td>-0.067505</td>\n      <td>-0.035527</td>\n      <td>-0.050553</td>\n    </tr>\n    <tr>\n      <th>home_clutch_AST</th>\n      <td>-0.026994</td>\n      <td>0.120056</td>\n      <td>0.015769</td>\n      <td>0.239136</td>\n      <td>-0.043788</td>\n      <td>0.187484</td>\n      <td>0.185978</td>\n      <td>-0.230164</td>\n      <td>0.026566</td>\n      <td>0.803594</td>\n      <td>0.702098</td>\n      <td>0.434798</td>\n      <td>1.000000</td>\n      <td>0.210826</td>\n      <td>0.020676</td>\n      <td>-0.020786</td>\n      <td>0.024911</td>\n      <td>0.024589</td>\n      <td>0.022972</td>\n      <td>-0.004236</td>\n      <td>-0.030905</td>\n      <td>0.002400</td>\n      <td>-0.040128</td>\n      <td>-0.019944</td>\n      <td>-0.010821</td>\n    </tr>\n    <tr>\n      <th>home_clutch_TOV</th>\n      <td>0.022089</td>\n      <td>-0.136004</td>\n      <td>-0.032870</td>\n      <td>-0.475291</td>\n      <td>0.163536</td>\n      <td>-0.411772</td>\n      <td>-0.387275</td>\n      <td>0.489637</td>\n      <td>0.005044</td>\n      <td>0.117762</td>\n      <td>0.056803</td>\n      <td>0.502221</td>\n      <td>0.210826</td>\n      <td>1.000000</td>\n      <td>0.031376</td>\n      <td>-0.024059</td>\n      <td>0.033974</td>\n      <td>0.033596</td>\n      <td>-0.015474</td>\n      <td>-0.007329</td>\n      <td>-0.006017</td>\n      <td>0.018785</td>\n      <td>-0.044967</td>\n      <td>0.009879</td>\n      <td>-0.048349</td>\n    </tr>\n    <tr>\n      <th>away_ORtg</th>\n      <td>0.018209</td>\n      <td>-0.228216</td>\n      <td>-0.056939</td>\n      <td>-0.029167</td>\n      <td>0.023994</td>\n      <td>-0.032410</td>\n      <td>-0.020558</td>\n      <td>0.017559</td>\n      <td>-0.006325</td>\n      <td>0.012366</td>\n      <td>0.004686</td>\n      <td>0.020434</td>\n      <td>0.020676</td>\n      <td>0.031376</td>\n      <td>1.000000</td>\n      <td>-0.370066</td>\n      <td>0.879775</td>\n      <td>0.858370</td>\n      <td>-0.623969</td>\n      <td>0.117886</td>\n      <td>0.361191</td>\n      <td>0.451087</td>\n      <td>-0.157200</td>\n      <td>0.240392</td>\n      <td>-0.474181</td>\n    </tr>\n    <tr>\n      <th>away_DRtg</th>\n      <td>-0.000927</td>\n      <td>0.229996</td>\n      <td>0.100350</td>\n      <td>0.016032</td>\n      <td>-0.037250</td>\n      <td>0.030125</td>\n      <td>0.006290</td>\n      <td>-0.030176</td>\n      <td>0.026531</td>\n      <td>-0.003853</td>\n      <td>-0.014077</td>\n      <td>-0.002465</td>\n      <td>-0.020786</td>\n      <td>-0.024059</td>\n      <td>-0.370066</td>\n      <td>1.000000</td>\n      <td>-0.767214</td>\n      <td>-0.351937</td>\n      <td>0.211195</td>\n      <td>-0.466983</td>\n      <td>-0.077500</td>\n      <td>-0.117420</td>\n      <td>0.069115</td>\n      <td>-0.050040</td>\n      <td>0.161584</td>\n    </tr>\n    <tr>\n      <th>away_NRtg</th>\n      <td>0.013046</td>\n      <td>-0.275255</td>\n      <td>-0.090662</td>\n      <td>-0.028341</td>\n      <td>0.035627</td>\n      <td>-0.037792</td>\n      <td>-0.017412</td>\n      <td>0.027564</td>\n      <td>-0.017943</td>\n      <td>0.010510</td>\n      <td>0.010439</td>\n      <td>0.015369</td>\n      <td>0.024911</td>\n      <td>0.033974</td>\n      <td>0.879775</td>\n      <td>-0.767214</td>\n      <td>1.000000</td>\n      <td>0.772717</td>\n      <td>-0.538864</td>\n      <td>0.320353</td>\n      <td>0.289027</td>\n      <td>0.371519</td>\n      <td>-0.143899</td>\n      <td>0.191574</td>\n      <td>-0.410063</td>\n    </tr>\n    <tr>\n      <th>away_Off_eFG%</th>\n      <td>0.013035</td>\n      <td>-0.211227</td>\n      <td>-0.040308</td>\n      <td>-0.023880</td>\n      <td>0.021153</td>\n      <td>-0.027307</td>\n      <td>-0.024036</td>\n      <td>0.020151</td>\n      <td>-0.002682</td>\n      <td>0.012133</td>\n      <td>0.008260</td>\n      <td>0.017441</td>\n      <td>0.024589</td>\n      <td>0.033596</td>\n      <td>0.858370</td>\n      <td>-0.351937</td>\n      <td>0.772717</td>\n      <td>1.000000</td>\n      <td>-0.400315</td>\n      <td>0.139922</td>\n      <td>0.209513</td>\n      <td>0.409745</td>\n      <td>-0.274718</td>\n      <td>0.187029</td>\n      <td>-0.387267</td>\n    </tr>\n    <tr>\n      <th>away_Off_TOV%</th>\n      <td>-0.025620</td>\n      <td>0.133585</td>\n      <td>0.060988</td>\n      <td>0.036007</td>\n      <td>-0.027060</td>\n      <td>0.038701</td>\n      <td>0.028869</td>\n      <td>-0.021582</td>\n      <td>-0.002315</td>\n      <td>0.015080</td>\n      <td>0.032225</td>\n      <td>-0.016495</td>\n      <td>0.022972</td>\n      <td>-0.015474</td>\n      <td>-0.623969</td>\n      <td>0.211195</td>\n      <td>-0.538864</td>\n      <td>-0.400315</td>\n      <td>1.000000</td>\n      <td>0.048596</td>\n      <td>-0.419467</td>\n      <td>-0.399865</td>\n      <td>0.082186</td>\n      <td>-0.231602</td>\n      <td>0.487732</td>\n    </tr>\n    <tr>\n      <th>away_Def_DRB%</th>\n      <td>0.004845</td>\n      <td>-0.085268</td>\n      <td>-0.059217</td>\n      <td>0.001375</td>\n      <td>0.011378</td>\n      <td>-0.004872</td>\n      <td>-0.000596</td>\n      <td>-0.007575</td>\n      <td>-0.036033</td>\n      <td>-0.008038</td>\n      <td>0.006437</td>\n      <td>-0.015614</td>\n      <td>-0.004236</td>\n      <td>-0.007329</td>\n      <td>0.117886</td>\n      <td>-0.466983</td>\n      <td>0.320353</td>\n      <td>0.139922</td>\n      <td>0.048596</td>\n      <td>1.000000</td>\n      <td>0.109656</td>\n      <td>-0.233665</td>\n      <td>0.209959</td>\n      <td>0.022545</td>\n      <td>0.004928</td>\n    </tr>\n    <tr>\n      <th>away_clutch_PTS</th>\n      <td>0.015794</td>\n      <td>-0.056608</td>\n      <td>-0.027474</td>\n      <td>-0.012972</td>\n      <td>-0.009033</td>\n      <td>-0.004333</td>\n      <td>0.001437</td>\n      <td>0.030454</td>\n      <td>-0.001642</td>\n      <td>-0.051472</td>\n      <td>-0.017444</td>\n      <td>-0.045417</td>\n      <td>-0.030905</td>\n      <td>-0.006017</td>\n      <td>0.361191</td>\n      <td>-0.077500</td>\n      <td>0.289027</td>\n      <td>0.209513</td>\n      <td>-0.419467</td>\n      <td>0.109656</td>\n      <td>1.000000</td>\n      <td>0.648488</td>\n      <td>0.652563</td>\n      <td>0.803561</td>\n      <td>0.118562</td>\n    </tr>\n    <tr>\n      <th>away_clutch_FG%</th>\n      <td>0.013490</td>\n      <td>-0.112876</td>\n      <td>0.003376</td>\n      <td>-0.014621</td>\n      <td>-0.011631</td>\n      <td>-0.004143</td>\n      <td>-0.002372</td>\n      <td>0.045821</td>\n      <td>0.013982</td>\n      <td>-0.018737</td>\n      <td>-0.010488</td>\n      <td>-0.012207</td>\n      <td>0.002400</td>\n      <td>0.018785</td>\n      <td>0.451087</td>\n      <td>-0.117420</td>\n      <td>0.371519</td>\n      <td>0.409745</td>\n      <td>-0.399865</td>\n      <td>-0.233665</td>\n      <td>0.648488</td>\n      <td>1.000000</td>\n      <td>0.109340</td>\n      <td>0.703896</td>\n      <td>0.057522</td>\n    </tr>\n    <tr>\n      <th>away_clutch_REB</th>\n      <td>-0.016662</td>\n      <td>0.081713</td>\n      <td>-0.000178</td>\n      <td>0.015470</td>\n      <td>-0.014898</td>\n      <td>0.018301</td>\n      <td>0.019196</td>\n      <td>-0.012981</td>\n      <td>-0.011050</td>\n      <td>-0.046948</td>\n      <td>-0.013476</td>\n      <td>-0.067505</td>\n      <td>-0.040128</td>\n      <td>-0.044967</td>\n      <td>-0.157200</td>\n      <td>0.069115</td>\n      <td>-0.143899</td>\n      <td>-0.274718</td>\n      <td>0.082186</td>\n      <td>0.209959</td>\n      <td>0.652563</td>\n      <td>0.109340</td>\n      <td>1.000000</td>\n      <td>0.433218</td>\n      <td>0.502986</td>\n    </tr>\n    <tr>\n      <th>away_clutch_AST</th>\n      <td>0.021798</td>\n      <td>-0.040171</td>\n      <td>-0.014987</td>\n      <td>-0.013177</td>\n      <td>-0.017850</td>\n      <td>0.000035</td>\n      <td>0.001665</td>\n      <td>0.050580</td>\n      <td>0.003185</td>\n      <td>-0.039857</td>\n      <td>-0.002169</td>\n      <td>-0.035527</td>\n      <td>-0.019944</td>\n      <td>0.009879</td>\n      <td>0.240392</td>\n      <td>-0.050040</td>\n      <td>0.191574</td>\n      <td>0.187029</td>\n      <td>-0.231602</td>\n      <td>0.022545</td>\n      <td>0.803561</td>\n      <td>0.703896</td>\n      <td>0.433218</td>\n      <td>1.000000</td>\n      <td>0.211061</td>\n    </tr>\n    <tr>\n      <th>away_clutch_TOV</th>\n      <td>-0.024414</td>\n      <td>0.107933</td>\n      <td>0.056457</td>\n      <td>0.024599</td>\n      <td>-0.029426</td>\n      <td>0.032036</td>\n      <td>0.026973</td>\n      <td>0.000535</td>\n      <td>0.004079</td>\n      <td>-0.022022</td>\n      <td>0.004648</td>\n      <td>-0.050553</td>\n      <td>-0.010821</td>\n      <td>-0.048349</td>\n      <td>-0.474181</td>\n      <td>0.161584</td>\n      <td>-0.410063</td>\n      <td>-0.387267</td>\n      <td>0.487732</td>\n      <td>0.004928</td>\n      <td>0.118562</td>\n      <td>0.057522</td>\n      <td>0.502986</td>\n      <td>0.211061</td>\n      <td>1.000000</td>\n    </tr>\n  </tbody>\n</table>"
     },
     "metadata": {},
     "output_type": "display_data"
    }
   ],
   "source": [
    "# tables for each result\n",
    "team_stats_description_table = team_stats_description.to_html()\n",
    "team_stats_correlation_table = team_stats_correlation.to_html()\n",
    "labeled_data_description_table = labeled_data_description.to_html()\n",
    "labeled_data_correlation_table = labeled_data_correlation.to_html()\n",
    "\n",
    "display(HTML(\"<h2>Advanced Stats Description</h2>\" + team_stats_description_table))\n",
    "display(HTML(\"<h2>Advanced Stats Correlation</h2>\" + team_stats_correlation_table))\n",
    "display(HTML(\"<h2>Label Data Stats Description</h2>\" + labeled_data_description_table))\n",
    "display(HTML(\"<h2>Label Data Stats Correlation</h2>\" + labeled_data_correlation_table))\n"
   ],
   "metadata": {
    "collapsed": false
   }
  },
  {
   "cell_type": "code",
   "execution_count": 114,
   "outputs": [
    {
     "name": "stdout",
     "output_type": "stream",
     "text": [
      "   game_id              home_team           away_team  home_win  \\\n",
      "0        1         Denver Nuggets  Los Angeles Lakers         1   \n",
      "1        2  Golden State Warriors        Phoenix Suns         0   \n",
      "2        3          Orlando Magic     Houston Rockets         1   \n",
      "3        4        New York Knicks      Boston Celtics         0   \n",
      "4        5         Indiana Pacers  Washington Wizards         1   \n",
      "\n",
      "   point_differential  home_ORtg  home_DRtg  home_NRtg  home_Off_eFG%  \\\n",
      "0                  12      118.5      113.0        5.5          0.562   \n",
      "1                   4      117.8      115.2        2.6          0.557   \n",
      "2                  30      113.4      111.3        2.1          0.541   \n",
      "3                   4      118.2      113.4        4.8          0.540   \n",
      "4                  23      121.0      118.0        3.0          0.578   \n",
      "\n",
      "   home_Off_TOV%  ...  away_DRtg  away_NRtg  away_Off_eFG%  away_Off_TOV%  \\\n",
      "0           11.5  ...      115.3        0.6          0.566           12.5   \n",
      "1           12.5  ...      114.6        3.0          0.565           13.4   \n",
      "2           13.3  ...      113.4        1.1          0.529           11.2   \n",
      "3           11.9  ...      111.6       11.6          0.578           10.8   \n",
      "4           11.3  ...      119.6       -9.1          0.538           12.2   \n",
      "\n",
      "   away_Def_DRB%  away_clutch_PTS  away_clutch_FG%  away_clutch_REB  \\\n",
      "0           76.2             10.8             46.4              4.0   \n",
      "1           75.6              7.5             40.7              3.0   \n",
      "2           76.0              8.4             41.8              3.0   \n",
      "3           76.3              9.5             44.8              3.7   \n",
      "4           72.5              5.5             35.4              2.8   \n",
      "\n",
      "   away_clutch_AST  away_clutch_TOV  \n",
      "0              1.8              1.0  \n",
      "1              1.5              0.8  \n",
      "2              1.7              0.6  \n",
      "3              1.5              0.8  \n",
      "4              1.0              0.9  \n",
      "\n",
      "[5 rows x 27 columns]\n"
     ]
    }
   ],
   "source": [
    "# Save the final dataset to a CSV file\n",
    "labeled_data.to_csv('data/NBA_Matchups_with_Features.csv', index=False)\n",
    "\n",
    "# Display the first few rows of the integrated dataset\n",
    "print(labeled_data.head())"
   ],
   "metadata": {
    "collapsed": false
   }
  },
  {
   "cell_type": "markdown",
   "source": [
    "#### Data Preparation\n",
    "Merging the team stats with the match results to prepare features for the model and splitting the data afterwards"
   ],
   "metadata": {
    "collapsed": false
   }
  },
  {
   "cell_type": "code",
   "execution_count": 115,
   "outputs": [],
   "source": [
    "# Train test splitting\n",
    "X = labeled_data.drop(columns=['game_id', 'home_team', 'away_team', 'home_win', 'point_differential'])\n",
    "y = labeled_data['home_win']"
   ],
   "metadata": {
    "collapsed": false
   }
  },
  {
   "cell_type": "code",
   "execution_count": 116,
   "outputs": [],
   "source": [
    "X_train, X_test, y_train, y_test = train_test_split(X, y, test_size=0.2, random_state=42)"
   ],
   "metadata": {
    "collapsed": false
   }
  },
  {
   "cell_type": "markdown",
   "source": [
    "#### Random Forest again for Feature Importance\n",
    "\n",
    "training a RandomForestRegressor model using the training set (source: https://www.mdpi.com/1099-4300/25/5/765)\n",
    "validating the model using cross-validation and evaluated its performance used this on the data earlier - during this run not needed"
   ],
   "metadata": {
    "collapsed": false
   }
  },
  {
   "cell_type": "code",
   "execution_count": 93,
   "outputs": [],
   "source": [
    "# using the random forest for feature importance\n",
    "# rf_model = RandomForestClassifier(random_state=42)\n",
    "# rf_model.fit(X_train, y_train)\n",
    "# importances = rf_model.feature_importances_"
   ],
   "metadata": {
    "collapsed": false
   }
  },
  {
   "cell_type": "code",
   "execution_count": 94,
   "outputs": [],
   "source": [
    "# grid search now needed for gradient boosting\n",
    "param_grid = {\n",
    "    'n_estimators': [100, 200, 300],\n",
    "    'learning_rate': [0.01, 0.1, 0.2],\n",
    "    'max_depth': [3, 4, 5],\n",
    "    'min_samples_split': [2, 5, 10],\n",
    "    'min_samples_leaf': [1, 2, 4]\n",
    "}"
   ],
   "metadata": {
    "collapsed": false
   }
  },
  {
   "cell_type": "markdown",
   "source": [
    "#### Model Training + Gradient Boosting\n",
    "I was training the Gradient Boosting Classifier on a subset of the data to ensure faster computation"
   ],
   "metadata": {
    "collapsed": false
   }
  },
  {
   "cell_type": "code",
   "execution_count": 117,
   "outputs": [
    {
     "name": "stdout",
     "output_type": "stream",
     "text": [
      "Fitting 3 folds for each of 32 candidates, totalling 96 fits\n"
     ]
    }
   ],
   "source": [
    "gbc  = GradientBoostingClassifier(random_state=42)\n",
    "grid_search = GridSearchCV(estimator=gbc, param_grid=param_grid, cv=3, n_jobs=-1, verbose=2)\n",
    "grid_search.fit(X_train, y_train)\n",
    "best_params = grid_search.best_params_\n",
    "best_gbc = grid_search.best_estimator_"
   ],
   "metadata": {
    "collapsed": false
   }
  },
  {
   "cell_type": "code",
   "execution_count": 120,
   "outputs": [
    {
     "name": "stdout",
     "output_type": "stream",
     "text": [
      "Best Parameters: {'learning_rate': 0.01, 'max_depth': 3, 'min_samples_leaf': 1, 'min_samples_split': 2, 'n_estimators': 200}\n",
      "Test Set Accuracy: 0.6733870967741935\n",
      "Classification Report:\n",
      "               precision    recall  f1-score   support\n",
      "\n",
      "           0       0.69      0.60      0.64       121\n",
      "           1       0.66      0.75      0.70       127\n",
      "\n",
      "    accuracy                           0.67       248\n",
      "   macro avg       0.68      0.67      0.67       248\n",
      "weighted avg       0.68      0.67      0.67       248\n",
      "\n"
     ]
    }
   ],
   "source": [
    "# Predict on the test set\n",
    "y_pred = best_gbc.predict(X_test)\n",
    "\n",
    "# Evaluate the model\n",
    "accuracy = accuracy_score(y_test, y_pred)\n",
    "report = classification_report(y_test, y_pred)\n",
    "\n",
    "print(\"Best Parameters:\", best_params)\n",
    "print(\"Test Set Accuracy:\", accuracy)\n",
    "print(\"Classification Report:\\n\", report)"
   ],
   "metadata": {
    "collapsed": false
   }
  },
  {
   "cell_type": "code",
   "execution_count": 121,
   "outputs": [
    {
     "name": "stdout",
     "output_type": "stream",
     "text": [
      "Model saved to data/gradient_boosting_nba_model.pkl\n"
     ]
    }
   ],
   "source": [
    "# save model\n",
    "model_path = 'data/gradient_boosting_nba_model.pkl'\n",
    "joblib.dump(best_gbc, model_path)\n",
    "\n",
    "print(f\"Model saved to {model_path}\")"
   ],
   "metadata": {
    "collapsed": false
   }
  },
  {
   "cell_type": "code",
   "execution_count": 126,
   "outputs": [
    {
     "data": {
      "text/plain": "['gradient_boosting_nba_model_corrected.pkl']"
     },
     "execution_count": 126,
     "metadata": {},
     "output_type": "execute_result"
    }
   ],
   "source": [
    "import joblib\n",
    "from sklearn.ensemble import GradientBoostingClassifier\n",
    "\n",
    "# Assuming X_train and y_train are already defined\n",
    "gbc = GradientBoostingClassifier(\n",
    "    n_estimators=200,\n",
    "    learning_rate=0.01,\n",
    "    max_depth=3,\n",
    "    min_samples_leaf=1,\n",
    "    min_samples_split=2,\n",
    "    random_state=42\n",
    ")\n",
    "gbc.fit(X_train, y_train)\n",
    "\n",
    "# Save the trained model\n",
    "model_path_corrected = 'gradient_boosting_nba_model_corrected.pkl'\n",
    "joblib.dump(gbc, model_path_corrected)"
   ],
   "metadata": {
    "collapsed": false
   }
  },
  {
   "cell_type": "code",
   "execution_count": 127,
   "outputs": [
    {
     "name": "stdout",
     "output_type": "stream",
     "text": [
      "Loaded object type: <class 'sklearn.ensemble._gb.GradientBoostingClassifier'>\n",
      "The loaded object is a valid model.\n"
     ]
    }
   ],
   "source": [
    "import joblib\n",
    "\n",
    "# Load the Gradient Boosting model using joblib\n",
    "model_path = 'gradient_boosting_nba_model_corrected.pkl'\n",
    "loaded_object = joblib.load(model_path)\n",
    "\n",
    "# Check the type and attributes of the loaded object\n",
    "loaded_object_type = type(loaded_object)\n",
    "has_predict_method = hasattr(loaded_object, 'predict')\n",
    "\n",
    "print(f\"Loaded object type: {loaded_object_type}\")\n",
    "if has_predict_method:\n",
    "    print(\"The loaded object is a valid model.\")\n",
    "else:\n",
    "    raise TypeError(\"The loaded object is not a model. Please provide a valid model.\")"
   ],
   "metadata": {
    "collapsed": false
   }
  },
  {
   "cell_type": "markdown",
   "source": [
    "#### Feature importances for matchup -> redundant method used before to decide for the most relevant stats\n",
    "\n",
    "After Optimizing the model using GridSearch to find the best parameters for a Gradient Boosting Regressor or Classifier (GBR, GBC) and to find the most important features for a possible prediction\n",
    "Evaluation the Model based on its performance"
   ],
   "metadata": {
    "collapsed": false
   }
  },
  {
   "cell_type": "code",
   "execution_count": 99,
   "outputs": [
    {
     "name": "stdout",
     "output_type": "stream",
     "text": [
      "Random Forest Accuracy: 0.782258064516129\n",
      "Gradient Boosting Accuracy: 0.9717741935483871\n"
     ]
    },
    {
     "name": "stderr",
     "output_type": "stream",
     "text": [
      "C:\\Users\\Ray\\AppData\\Local\\Temp\\ipykernel_32436\\60214341.py:7: SettingWithCopyWarning: \n",
      "A value is trying to be set on a copy of a slice from a DataFrame.\n",
      "Try using .loc[row_indexer,col_indexer] = value instead\n",
      "\n",
      "See the caveats in the documentation: https://pandas.pydata.org/pandas-docs/stable/user_guide/indexing.html#returning-a-view-versus-a-copy\n",
      "  matchup_top_features['Winner'] = labels\n"
     ]
    }
   ],
   "source": [
    "# saving top 6 features\n",
    "top_features_indices = np.argsort(importances)[-6:]\n",
    "top_features = features.columns[top_features_indices]\n",
    "\n",
    "# for each matchup\n",
    "matchup_top_features = features.iloc[:, top_features_indices]\n",
    "matchup_top_features['Winner'] = labels\n",
    "matchup_top_features.to_csv('data/matchup_top_features.csv', index=False)\n",
    "\n",
    "# Evaluate models\n",
    "rf_predictions = rf_model.predict(X_test)\n",
    "gb_predictions = best_gb_model.predict(X_test)\n",
    "\n",
    "rf_accuracy = accuracy_score(y_test, rf_predictions)\n",
    "gb_accuracy = accuracy_score(y_test, gb_predictions)\n",
    "\n",
    "print(f'Random Forest Accuracy: {rf_accuracy}')\n",
    "print(f'Gradient Boosting Accuracy: {gb_accuracy}')"
   ],
   "metadata": {
    "collapsed": false
   }
  },
  {
   "cell_type": "markdown",
   "source": [
    "gradient boosting will be used in rag system"
   ],
   "metadata": {
    "collapsed": false
   }
  },
  {
   "cell_type": "markdown",
   "source": [
    "#### Bracket\n",
    "running the prediction model on the playoff matchups"
   ],
   "metadata": {
    "collapsed": false
   }
  },
  {
   "cell_type": "code",
   "execution_count": 283,
   "outputs": [
    {
     "data": {
      "text/plain": "{'Round 1': {'Western': {'Thunder vs Pelicans': 'Oklahoma City Thunder',\n   'Clippers vs Mavericks': 'Dallas Mavericks',\n   'Timberwolves vs Suns': 'Minnesota Timberwolves',\n   'Nuggets vs Lakers': 'Denver Nuggets'},\n  'Eastern': {'Boston vs Heat': 'Boston Celtics',\n   'Cavaliers vs Orlando': 'Orlando Magic',\n   'Milwaukee vs Pacers': 'Indiana Pacers',\n   'Knicks vs 76ers': 'Philadelphia 76ers'}},\n 'Round 2': {'Western': {'Dallas Mavericks vs Oklahoma City Thunder': 'Oklahoma City Thunder',\n   'Denver Nuggets vs Minnesota Timberwolves': 'Denver Nuggets'},\n  'Eastern': {'Orlando Magic vs Boston Celtics': 'Boston Celtics',\n   'Philadelphia 76ers vs Indiana Pacers': 'Indiana Pacers'}},\n 'Round 3': {'Western': {'winners': 'Denver Nuggets'},\n  'Eastern': {'winners': 'Boston Celtics'}},\n 'NBA Finals': {'winner': 'Denver Nuggets'}}"
     },
     "execution_count": 283,
     "metadata": {},
     "output_type": "execute_result"
    }
   ],
   "source": [
    "# bracket"
   ],
   "metadata": {
    "collapsed": false
   }
  },
  {
   "cell_type": "markdown",
   "source": [
    "\n",
    "running the prediction model on the playoff matchups\n",
    "\n",
    "Round 1: Predicted 6 out of 8 correctly (75%)\n",
    "Round 2: Predicted 2 out of 4 correctly (50%)\n",
    "Round 3: Predicted 1 out of 2 correctly (50%)\n",
    "NBA Finals: Predicted 0 out of 1 correctly (0%)\n",
    "\n",
    "Percentage accuracy: (9/15)×100=60\n"
   ],
   "metadata": {
    "collapsed": false
   }
  },
  {
   "cell_type": "code",
   "execution_count": null,
   "outputs": [],
   "source": [],
   "metadata": {
    "collapsed": false
   }
  }
 ],
 "metadata": {
  "kernelspec": {
   "display_name": "Python 3",
   "language": "python",
   "name": "python3"
  },
  "language_info": {
   "codemirror_mode": {
    "name": "ipython",
    "version": 2
   },
   "file_extension": ".py",
   "mimetype": "text/x-python",
   "name": "python",
   "nbconvert_exporter": "python",
   "pygments_lexer": "ipython2",
   "version": "2.7.6"
  }
 },
 "nbformat": 4,
 "nbformat_minor": 0
}
